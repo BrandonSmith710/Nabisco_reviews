{
  "nbformat": 4,
  "nbformat_minor": 0,
  "metadata": {
    "colab": {
      "name": "Nabisco_Reviews.ipynb",
      "provenance": [],
      "collapsed_sections": []
    },
    "kernelspec": {
      "name": "python3",
      "display_name": "Python 3"
    },
    "language_info": {
      "name": "python"
    }
  },
  "cells": [
    {
      "cell_type": "code",
      "source": [
        "# download nlp tools\n",
        "# !python -m spacy download en_core_web_md"
      ],
      "metadata": {
        "id": "Q8BM1Aizl3Vj"
      },
      "execution_count": 3,
      "outputs": []
    },
    {
      "cell_type": "code",
      "source": [
        "# install visualization tools\n",
        "# !pip install PyLDAvis==3.3.1         "
      ],
      "metadata": {
        "id": "-z6OqcIIlmaS"
      },
      "execution_count": 1,
      "outputs": []
    },
    {
      "cell_type": "code",
      "source": [
        "# for utilization of core processing power\n",
        "# !pip install pandarallel==1.4.8"
      ],
      "metadata": {
        "id": "4eKIqsH0mYZ5"
      },
      "execution_count": 2,
      "outputs": []
    },
    {
      "cell_type": "code",
      "source": [
        "# imports\n",
        "import bs4\n",
        "import requests\n",
        "from google.colab import files\n",
        "import io\n",
        "import re\n",
        "import pandas as pd\n",
        "import numpy as np\n",
        "import matplotlib.pyplot as plt\n",
        "from sklearn.feature_extraction.text import CountVectorizer, TfidfVectorizer\n",
        "\n",
        "import spacy\n",
        "spacy.util.fix_random_seed(0)\n",
        "\n",
        "import pyLDAvis\n",
        "import pyLDAvis.gensim_models \n",
        "\n",
        "import gensim\n",
        "import gensim.corpora as corpora\n",
        "from gensim.utils import simple_preprocess\n",
        "from gensim.models import CoherenceModel\n",
        "\n",
        "from pandarallel import pandarallel\n",
        "\n",
        "%matplotlib inline\n",
        "\n",
        "import warnings\n",
        "warnings.filterwarnings(\"ignore\")"
      ],
      "metadata": {
        "id": "tdetqYRqZNtg"
      },
      "execution_count": null,
      "outputs": []
    },
    {
      "cell_type": "code",
      "source": [
        "df = pd.DataFrame()"
      ],
      "metadata": {
        "id": "dAljItYYiKob"
      },
      "execution_count": null,
      "outputs": []
    },
    {
      "cell_type": "code",
      "source": [
        "k = {}"
      ],
      "metadata": {
        "id": "_aJVcz2EiNMC"
      },
      "execution_count": null,
      "outputs": []
    },
    {
      "cell_type": "code",
      "source": [
        "end = False\n",
        "unused = []\n",
        "\n",
        "# list e will hold the target values\n",
        "e = []\n",
        "for b in range(28):\n",
        "    req = requests.get(f'''https://www.consumeraffairs.com/food/nabisco.html{\n",
        "                       f\"?page={b}\" if b else \"\"}#scroll_to_reviews=true''')\n",
        "    k['page'+str(b)] = []\n",
        "    soup = bs4.BeautifulSoup(req.text, 'lxml')\n",
        "\n",
        "    for x in soup.select('.rvw.js-rvw'):\n",
        "        s = re.findall(r'Rated with \\d star', str(x).replace('\\n', ''))\n",
        "        try:\n",
        "          e += [''.join(filter(lambda c: c.isdigit(), s[0]))]\n",
        "\n",
        "        except Exception as l:\n",
        "          print(l)\n",
        "          # print(b)\n",
        "          end = True\n",
        "          break\n",
        "    if end:\n",
        "      break"
      ],
      "metadata": {
        "colab": {
          "base_uri": "https://localhost:8080/"
        },
        "id": "HPcC5BG3ZadR",
        "outputId": "c99ccdc7-b045-4666-8121-a2ecc44edb45"
      },
      "execution_count": null,
      "outputs": [
        {
          "output_type": "stream",
          "name": "stdout",
          "text": [
            "list index out of range\n"
          ]
        }
      ]
    },
    {
      "cell_type": "code",
      "source": [
        "print(len(e))"
      ],
      "metadata": {
        "colab": {
          "base_uri": "https://localhost:8080/"
        },
        "id": "EV--I2WLzOpv",
        "outputId": "6a6a0877-fd6d-4ade-dbc7-3a6a85573193"
      },
      "execution_count": null,
      "outputs": [
        {
          "output_type": "stream",
          "name": "stdout",
          "text": [
            "735\n"
          ]
        }
      ]
    },
    {
      "cell_type": "code",
      "source": [
        "dates, states, review_texts, num_helpfuls = [], [], [], []"
      ],
      "metadata": {
        "id": "s840Q5_Z9VBl"
      },
      "execution_count": null,
      "outputs": []
    },
    {
      "cell_type": "code",
      "source": [
        "'''This nested for loop will scrape all pages of reviews listed on \n",
        "   consumeraffairs' dedication to Nabisco, placing a review's date, state of\n",
        "   origin, text, and number of ratings indicating the review as helpful, in their respective\n",
        "   lists for compilation into the dataframe'''\n",
        "\n",
        "for b in range(28):\n",
        "    req = requests.get(f'''https://www.consumeraffairs.com/food/nabisco.html{\n",
        "                       f\"?page={b}\" if b else \"\"}#scroll_to_reviews=true''')\n",
        "    soup = bs4.BeautifulSoup(req.text, 'lxml')\n",
        "\n",
        "    for x in soup.select('.rvw.js-rvw'):\n",
        "      new = x.text.replace('\\n', ' ')\n",
        "      state = new[new.index(',')+2:new.index(',')+4]\n",
        "      new = new[new.index('Original review:')+16:]\n",
        "      date = new[:new.index(', 20')+6]\n",
        "      \n",
        "      new = new[new.index(', 20')+6:]\n",
        "      fin = ' '.join(new.split('          ')).split('   ')\n",
        "      num_helpful = fin[-2]\n",
        "      review_text = fin[0]\n",
        "\n",
        "      dates += [date]\n",
        "      states += [state]\n",
        "      review_texts += [review_text]\n",
        "      num_helpfuls += [num_helpful]"
      ],
      "metadata": {
        "id": "0CH5AOffwne2"
      },
      "execution_count": null,
      "outputs": []
    },
    {
      "cell_type": "code",
      "source": [
        "# check lengths of each list"
      ],
      "metadata": {
        "id": "tBeVTSiQCB8t"
      },
      "execution_count": null,
      "outputs": []
    },
    {
      "cell_type": "code",
      "source": [
        "dates, states, review_texts, num_helpfuls = [b[:735] for b in [dates, states, review_texts, num_helpfuls]]"
      ],
      "metadata": {
        "id": "uEib2RuT2NLK"
      },
      "execution_count": null,
      "outputs": []
    },
    {
      "cell_type": "code",
      "source": [
        "k = {'Date':dates, 'State':states, 'Num_Helpful':num_helpfuls, 'Review':review_texts}"
      ],
      "metadata": {
        "id": "96l9jc6zAtwO"
      },
      "execution_count": null,
      "outputs": []
    },
    {
      "cell_type": "code",
      "source": [
        "df = pd.DataFrame(k)"
      ],
      "metadata": {
        "id": "PFeBrZbTBB9J"
      },
      "execution_count": null,
      "outputs": []
    },
    {
      "cell_type": "code",
      "source": [
        "# assign the list of target variables(star ratings) to Stars column\n",
        "df['Stars'] = e"
      ],
      "metadata": {
        "id": "iO5F5wnqBEjU"
      },
      "execution_count": null,
      "outputs": []
    },
    {
      "cell_type": "code",
      "source": [
        "# check for null value count\n",
        "df.isnull().sum(), len(df)"
      ],
      "metadata": {
        "colab": {
          "base_uri": "https://localhost:8080/"
        },
        "id": "tXrpuvksv7Ho",
        "outputId": "c582eb51-c932-48fe-ced1-a30384b0a82e"
      },
      "execution_count": null,
      "outputs": [
        {
          "output_type": "execute_result",
          "data": {
            "text/plain": [
              "(Date           0\n",
              " State          0\n",
              " Num_Helpful    0\n",
              " Review         0\n",
              " Stars          0\n",
              " dtype: int64, 735)"
            ]
          },
          "metadata": {},
          "execution_count": 81
        }
      ]
    },
    {
      "cell_type": "code",
      "source": [
        "df.to_csv('nabisco_dataframe.csv', index=False)"
      ],
      "metadata": {
        "id": "qnyG_BEVsER1"
      },
      "execution_count": null,
      "outputs": []
    },
    {
      "cell_type": "code",
      "source": [
        "files.download('nabisco_dataframe.csv')"
      ],
      "metadata": {
        "colab": {
          "base_uri": "https://localhost:8080/",
          "height": 17
        },
        "id": "UFkARHLTsHPM",
        "outputId": "d6f93e05-659b-4ac6-cad3-624f3c372bfb"
      },
      "execution_count": null,
      "outputs": [
        {
          "output_type": "display_data",
          "data": {
            "application/javascript": [
              "\n",
              "    async function download(id, filename, size) {\n",
              "      if (!google.colab.kernel.accessAllowed) {\n",
              "        return;\n",
              "      }\n",
              "      const div = document.createElement('div');\n",
              "      const label = document.createElement('label');\n",
              "      label.textContent = `Downloading \"${filename}\": `;\n",
              "      div.appendChild(label);\n",
              "      const progress = document.createElement('progress');\n",
              "      progress.max = size;\n",
              "      div.appendChild(progress);\n",
              "      document.body.appendChild(div);\n",
              "\n",
              "      const buffers = [];\n",
              "      let downloaded = 0;\n",
              "\n",
              "      const channel = await google.colab.kernel.comms.open(id);\n",
              "      // Send a message to notify the kernel that we're ready.\n",
              "      channel.send({})\n",
              "\n",
              "      for await (const message of channel.messages) {\n",
              "        // Send a message to notify the kernel that we're ready.\n",
              "        channel.send({})\n",
              "        if (message.buffers) {\n",
              "          for (const buffer of message.buffers) {\n",
              "            buffers.push(buffer);\n",
              "            downloaded += buffer.byteLength;\n",
              "            progress.value = downloaded;\n",
              "          }\n",
              "        }\n",
              "      }\n",
              "      const blob = new Blob(buffers, {type: 'application/binary'});\n",
              "      const a = document.createElement('a');\n",
              "      a.href = window.URL.createObjectURL(blob);\n",
              "      a.download = filename;\n",
              "      div.appendChild(a);\n",
              "      a.click();\n",
              "      div.remove();\n",
              "    }\n",
              "  "
            ],
            "text/plain": [
              "<IPython.core.display.Javascript object>"
            ]
          },
          "metadata": {}
        },
        {
          "output_type": "display_data",
          "data": {
            "application/javascript": [
              "download(\"download_6bd9b8af-cc33-468e-938d-fba3846efaf4\", \"nabisco_dataframe.csv\", 413377)"
            ],
            "text/plain": [
              "<IPython.core.display.Javascript object>"
            ]
          },
          "metadata": {}
        }
      ]
    },
    {
      "cell_type": "code",
      "source": [
        "part_2 = pd.read_csv(io.BytesIO(files.upload()['nabisco_dataframe.csv']), parse_dates=['Date'])"
      ],
      "metadata": {
        "colab": {
          "resources": {
            "http://localhost:8080/nbextensions/google.colab/files.js": {
              "data": "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",
              "ok": true,
              "headers": [
                [
                  "content-type",
                  "application/javascript"
                ]
              ],
              "status": 200,
              "status_text": ""
            }
          },
          "base_uri": "https://localhost:8080/",
          "height": 74
        },
        "id": "xN9acjnCsO7B",
        "outputId": "0b3b71f7-a0a6-48be-fcf5-b7de0a4c6530"
      },
      "execution_count": null,
      "outputs": [
        {
          "output_type": "display_data",
          "data": {
            "text/html": [
              "\n",
              "     <input type=\"file\" id=\"files-a05d7911-92dc-4a7c-9fe9-29e82ea95320\" name=\"files[]\" multiple disabled\n",
              "        style=\"border:none\" />\n",
              "     <output id=\"result-a05d7911-92dc-4a7c-9fe9-29e82ea95320\">\n",
              "      Upload widget is only available when the cell has been executed in the\n",
              "      current browser session. Please rerun this cell to enable.\n",
              "      </output>\n",
              "      <script src=\"/nbextensions/google.colab/files.js\"></script> "
            ],
            "text/plain": [
              "<IPython.core.display.HTML object>"
            ]
          },
          "metadata": {}
        },
        {
          "output_type": "stream",
          "name": "stdout",
          "text": [
            "Saving nabisco_dataframe.csv to nabisco_dataframe (1).csv\n"
          ]
        }
      ]
    },
    {
      "cell_type": "code",
      "source": [
        "# check for null values and evaluate best fill method\n",
        "part_2.fillna('0', inplace=True)"
      ],
      "metadata": {
        "id": "3W3ZCbE6EKC3"
      },
      "execution_count": null,
      "outputs": []
    },
    {
      "cell_type": "code",
      "source": [
        "# remove unnecessary words from Num_Helpful\n",
        "part_2['Num_Helpful'] = part_2['Num_Helpful'].apply(lambda x: int(''.join(b for b in x if b.isdigit())))"
      ],
      "metadata": {
        "id": "gemShPvQEjaA"
      },
      "execution_count": null,
      "outputs": []
    },
    {
      "cell_type": "code",
      "source": [
        "# distribution of target variable\n",
        "part_2.Stars.value_counts(normalize=True)"
      ],
      "metadata": {
        "colab": {
          "base_uri": "https://localhost:8080/"
        },
        "id": "9_5v83feE_sJ",
        "outputId": "a5e33ab1-e6c9-4cb0-cdfe-b44c64da918e"
      },
      "execution_count": null,
      "outputs": [
        {
          "output_type": "execute_result",
          "data": {
            "text/plain": [
              "1    0.703401\n",
              "2    0.253061\n",
              "3    0.023129\n",
              "5    0.012245\n",
              "4    0.008163\n",
              "Name: Stars, dtype: float64"
            ]
          },
          "metadata": {},
          "execution_count": 31
        }
      ]
    },
    {
      "cell_type": "code",
      "source": [
        "# nabisco reviews were pretty bad, so anything above a 1 star is considered\n",
        "# a good review\n",
        "\n",
        "part_2['Good_Bad'] = part_2['Stars'].apply(lambda x: 1 if x > 1 else 0)\n",
        "                                          "
      ],
      "metadata": {
        "id": "QmvN5tOPMqAM"
      },
      "execution_count": null,
      "outputs": []
    },
    {
      "cell_type": "code",
      "source": [
        "def cleaner(txt):\n",
        "  ''' \n",
        "  removes unnecessary spaces, new lines, and special characters,\n",
        "  returns lowercased version of new string\n",
        "  '''\n",
        "\n",
        "  txt = txt.replace('\\n', '')\n",
        "\n",
        "  txt = re.sub('[^a-zA-Z 0-9]', '', txt)\n",
        "\n",
        "  txt = re.sub('[ ]{2,}', ' ', txt)\n",
        "\n",
        "  return txt.lower().strip()"
      ],
      "metadata": {
        "id": "Wgz7t-wioo5Z"
      },
      "execution_count": null,
      "outputs": []
    },
    {
      "cell_type": "code",
      "source": [
        "# load in the NLP tools and create a tokenizer function\n",
        "\n",
        "nlp = spacy.load('en_core_web_md')\n",
        "def tokenizer(txt):\n",
        "\n",
        "  lemmas = []\n",
        "\n",
        "  for x in nlp(txt):\n",
        "\n",
        "    if not sum([x.is_punct, x.is_stop, x.is_space]):\n",
        "\n",
        "      lemmas += [x.lemma_]\n",
        "\n",
        "  return lemmas\n",
        "\n",
        "\n",
        "\n"
      ],
      "metadata": {
        "id": "1HSE6lx4RTXf"
      },
      "execution_count": null,
      "outputs": []
    },
    {
      "cell_type": "code",
      "source": [
        "# apply text-cleaning function\n",
        "\n",
        "part_2['cleaned'] = part_2['Review'].apply(cleaner)"
      ],
      "metadata": {
        "id": "hoWNC4Q5pJeQ"
      },
      "execution_count": null,
      "outputs": []
    },
    {
      "cell_type": "code",
      "source": [
        "# n_processors is how many core processors your machine has\n",
        "\n",
        "n_processors = 8\n",
        "\n",
        "nb_workers = n_processors - 1\n",
        "\n",
        "pandarallel.initialize(progress_bar=True, nb_workers=nb_workers)"
      ],
      "metadata": {
        "colab": {
          "base_uri": "https://localhost:8080/"
        },
        "id": "l4MZX8VgpjeU",
        "outputId": "5866d3d3-4f2c-48b8-99b9-31b3be12af25"
      },
      "execution_count": null,
      "outputs": [
        {
          "output_type": "stream",
          "name": "stdout",
          "text": [
            "INFO: Pandarallel will run on 7 workers.\n",
            "INFO: Pandarallel will use Memory file system to transfer data between the main process and workers.\n"
          ]
        }
      ]
    },
    {
      "cell_type": "code",
      "source": [
        "# optionally use pandarallel's parallel_apply() to utilize\n",
        "# machine's core processing power\n",
        "part_2['lemmas'] = part_2['cleaned'].apply(tokenizer)"
      ],
      "metadata": {
        "id": "bOvyWnSkocP-"
      },
      "execution_count": null,
      "outputs": []
    },
    {
      "cell_type": "code",
      "source": [
        "# create bag of words dictionary\n",
        "\n",
        "id2word = corpora.Dictionary(part_2['lemmas'])"
      ],
      "metadata": {
        "id": "RNZIFbS0rvyN"
      },
      "execution_count": null,
      "outputs": []
    },
    {
      "cell_type": "code",
      "source": [
        "# create corpus\n",
        "\n",
        "corpus = [id2word.doc2bow(lemmas) for lemmas in part_2['lemmas']]"
      ],
      "metadata": {
        "id": "RcadfMjVr4Vh"
      },
      "execution_count": null,
      "outputs": []
    },
    {
      "cell_type": "code",
      "source": [
        "def compute_coherence_values(dictionary, corpus, texts, limit, start=2, step=3):\n",
        "    \"\"\"\n",
        "    Compute c_v coherence for various number of topics\n",
        "\n",
        "    Parameters:\n",
        "    ----------\n",
        "    dictionary : Gensim dictionary ex. corpora.Dictionary(df['lemmas']) i.e. id2word\n",
        "    corpus : Gensim corpus i.e. [id2word.doc2bow(doc) for doc in df['lemmas']]\n",
        "    texts : List of input texts  ex. df['lemmas']\n",
        "    limit : Max num of topics\n",
        "\n",
        "    Returns:\n",
        "    -------\n",
        "    model_list : List of LDA topic models\n",
        "    coherence_values : Coherence values corresponding to the LDA model with respective number of topics\n",
        "    \"\"\"\n",
        "    coherence_values = []\n",
        "    model_list = []\n",
        "    for num_topics in range(start, limit, step):\n",
        "        model = gensim.models.ldamulticore.LdaMulticore(corpus=corpus,\n",
        "                                                        id2word=id2word,\n",
        "                                                        num_topics=num_topics, \n",
        "                                                        chunksize=100,   # number of docs used in each training chunk\n",
        "                                                        passes=10,\n",
        "                                                        random_state=1234,\n",
        "                                                        per_word_topics=True,\n",
        "                                                        workers=2)\n",
        "        model_list.append(model)\n",
        "        coherencemodel = CoherenceModel(model=model, texts=texts, dictionary=dictionary, coherence='c_v')\n",
        "        coherence_values.append(coherencemodel.get_coherence())\n",
        "\n",
        "    return model_list, coherence_values"
      ],
      "metadata": {
        "id": "kG2iH9LmsHE0"
      },
      "execution_count": null,
      "outputs": []
    },
    {
      "cell_type": "code",
      "source": [
        "model_list, coherence_vals = compute_coherence_values(id2word, corpus, part_2['lemmas'], limit=16, step=2)"
      ],
      "metadata": {
        "id": "7TRI0Sv6s3bv"
      },
      "execution_count": null,
      "outputs": []
    },
    {
      "cell_type": "code",
      "source": [
        "coherence_vals"
      ],
      "metadata": {
        "colab": {
          "base_uri": "https://localhost:8080/"
        },
        "id": "dRshqTU1tU-p",
        "outputId": "a8589081-9d66-41cb-a481-c035c2b18e69"
      },
      "execution_count": null,
      "outputs": [
        {
          "output_type": "execute_result",
          "data": {
            "text/plain": [
              "[0.25390204692471363,\n",
              " 0.3405380167810327,\n",
              " 0.32762302265115645,\n",
              " 0.35297994733169546,\n",
              " 0.3459528236522583,\n",
              " 0.3870424985728458,\n",
              " 0.3726643752713762]"
            ]
          },
          "metadata": {},
          "execution_count": 55
        }
      ]
    },
    {
      "cell_type": "code",
      "source": [
        "# find index of best model associated with coherence values\n",
        "\n",
        "best_model_index = np.argmax(coherence_vals)\n",
        "best_model_index"
      ],
      "metadata": {
        "colab": {
          "base_uri": "https://localhost:8080/"
        },
        "id": "4Vuib91ytJyD",
        "outputId": "45b579d8-3829-4c91-9a25-3a561b3864df"
      },
      "execution_count": null,
      "outputs": [
        {
          "output_type": "execute_result",
          "data": {
            "text/plain": [
              "5"
            ]
          },
          "metadata": {},
          "execution_count": 56
        }
      ]
    },
    {
      "cell_type": "code",
      "source": [
        "lda_trained_model = model_list[best_model_index]"
      ],
      "metadata": {
        "id": "TfnIdIImtaNU"
      },
      "execution_count": null,
      "outputs": []
    },
    {
      "cell_type": "code",
      "source": [
        "lda_trained_model"
      ],
      "metadata": {
        "colab": {
          "base_uri": "https://localhost:8080/"
        },
        "id": "2hpE4ZHHtlAr",
        "outputId": "04e5e9ee-b8e7-48bd-f64f-6fa0f58fca11"
      },
      "execution_count": null,
      "outputs": [
        {
          "output_type": "execute_result",
          "data": {
            "text/plain": [
              "<gensim.models.ldamulticore.LdaMulticore at 0x7fce81b881d0>"
            ]
          },
          "metadata": {},
          "execution_count": 58
        }
      ]
    },
    {
      "cell_type": "code",
      "source": [
        "# initialize topic visualization\n",
        "pyLDAvis.enable_notebook()\n",
        "vis = pyLDAvis.gensim_models.prepare(lda_trained_model, corpus, id2word)\n",
        "vis"
      ],
      "metadata": {
        "colab": {
          "base_uri": "https://localhost:8080/",
          "height": 862
        },
        "id": "JAIqI14btvJH",
        "outputId": "4118ca2f-3a50-4724-c236-b2159b2e2ef1"
      },
      "execution_count": null,
      "outputs": [
        {
          "output_type": "execute_result",
          "data": {
            "text/html": [
              "\n",
              "<link rel=\"stylesheet\" type=\"text/css\" href=\"https://cdn.jsdelivr.net/gh/bmabey/pyLDAvis@3.3.1/pyLDAvis/js/ldavis.v1.0.0.css\">\n",
              "\n",
              "\n",
              "<div id=\"ldavis_el2331405245498353448444218515\"></div>\n",
              "<script type=\"text/javascript\">\n",
              "\n",
              "var ldavis_el2331405245498353448444218515_data = {\"mdsDat\": {\"x\": [-0.15051990619661743, -0.11917545656145771, -0.1874795769744242, -0.03516518187577057, -0.03193362560642281, -0.037020709344531076, -0.10099945486303451, 0.05509673463508631, 0.1003224225517054, 0.13074179393575264, 0.1610517441740561, 0.21508121612565756], \"y\": [-0.04936713971959343, 0.05591818110742498, 0.1390019514598609, -0.172765545974781, -0.258134453724708, 0.025238194235348944, 0.10338498338451732, 0.07904844774566422, -0.042028322602529616, 0.020230398596179883, 0.03382782978763977, 0.06564547570497566], \"topics\": [1, 2, 3, 4, 5, 6, 7, 8, 9, 10, 11, 12], \"cluster\": [1, 1, 1, 1, 1, 1, 1, 1, 1, 1, 1, 1], \"Freq\": [40.44630597608212, 11.490826877288393, 8.822417845597725, 8.073363946121408, 6.518506517062847, 5.767866118474323, 5.083519785352199, 5.026492872081236, 3.92615195334597, 2.273520465570742, 1.4788443976077799, 1.0921832454152494]}, \"tinfo\": {\"Term\": [\"smell\", \"saltine\", \"cookie\", \"cracker\", \"round\", \"product\", \"box\", \"chemical\", \"premium\", \"square\", \"nabisco\", \"open\", \"taste\", \"original\", \"change\", \"new\", \"graham\", \"package\", \"salt\", \"purchase\", \"eat\", \"like\", \"quality\", \"buy\", \"store\", \"oreo\", \"honey\", \"butter\", \"bad\", \"one\", \"business\", \"search\", \"local\", \"america\", \"dip\", \"mother\", \"cardboard\", \"decade\", \"attention\", \"pie\", \"receive\", \"replacement\", \"disappoint\", \"nice\", \"familys\", \"breakfast\", \"plan\", \"salary\", \"young\", \"unsalted\", \"flavorless\", \"pantry\", \"write\", \"dumb\", \"remember\", \"email\", \"hot\", \"glue\", \"consistency\", \"worth\", \"see\", \"thing\", \"smore\", \"dry\", \"hand\", \"tasteless\", \"matter\", \"home\", \"think\", \"not\", \"try\", \"opinion\", \"buy\", \"money\", \"favorite\", \"go\", \"happen\", \"saltines\", \"nabisco\", \"cracker\", \"taste\", \"come\", \"notice\", \"complaint\", \"lot\", \"product\", \"graham\", \"shelf\", \"way\", \"box\", \"good\", \"change\", \"snack\", \"year\", \"like\", \"know\", \"purchase\", \"store\", \"time\", \"have\", \"be\", \"eat\", \"brand\", \"find\", \"honey\", \"saltine\", \"damage\", \"refund\", \"surprise\", \"bjs\", \"destroy\", \"encounter\", \"nh\", \"turpentine\", \"wax\", \"evening\", \"rip\", \"zip\", \"english\", \"million\", \"inner\", \"improve\", \"walk\", \"reconsider\", \"middle\", \"occasion\", \"stink\", \"consume\", \"mini\", \"vomit\", \"linger\", \"petroleum\", \"dent\", \"christies\", \"lock\", \"sufficient\", \"decision\", \"outside\", \"appreciate\", \"send\", \"international\", \"nasty\", \"recent\", \"charge\", \"grahams\", \"teddy\", \"bag\", \"mondelez\", \"box\", \"rancid\", \"rest\", \"obviously\", \"honey\", \"product\", \"date\", \"open\", \"issue\", \"purchase\", \"graham\", \"cracker\", \"buy\", \"package\", \"piece\", \"not\", \"find\", \"maid\", \"nabisco\", \"chip\", \"test\", \"like\", \"company\", \"taste\", \"brand\", \"bad\", \"week\", \"quality\", \"eat\", \"look\", \"think\", \"packet\", \"paint\", \"recall\", \"strong\", \"gag\", \"g\", \"sicken\", \"mold\", \"varnish\", \"super\", \"grandson\", \"toxic\", \"freaked\", \"soap\", \"melted\", \"chemical\", \"cheesecake\", \"scary\", \"stomach\", \"gas\", \"downgrade\", \"toss\", \"proceed\", \"foul\", \"choke\", \"faint\", \"luckily\", \"solicit\", \"antihistamine\", \"sinus\", \"smell\", \"tongue\", \"sick\", \"wrap\", \"poison\", \"spit\", \"odor\", \"mouth\", \"overpower\", \"son\", \"take\", \"open\", \"bite\", \"like\", \"taste\", \"funny\", \"package\", \"immediately\", \"eat\", \"maid\", \"throw\", \"graham\", \"cracker\", \"bad\", \"honey\", \"feel\", \"nabisco\", \"horrible\", \"box\", \"saltine\", \"sea\", \"profit\", \"executive\", \"guy\", \"roll\", \"advise\", \"tin\", \"fatfree\", \"cholesterol\", \"salt\", \"okay\", \"crunchy\", \"general\", \"loose\", \"fume\", \"badly\", \"combination\", \"4pack\", \"greatly\", \"cola\", \"coca\", \"short\", \"hire\", \"despite\", \"death\", \"lower\", \"camp\", \"diabetes\", \"fragile\", \"blame\", \"intake\", \"discontinue\", \"corporate\", \"25\", \"stack\", \"refuse\", \"hint\", \"question\", \"saltine\", \"reduce\", \"free\", \"premium\", \"cracker\", \"original\", \"increase\", \"nabisco\", \"year\", \"return\", \"new\", \"bring\", \"marketing\", \"customer\", \"find\", \"change\", \"eat\", \"day\", \"tell\", \"store\", \"product\", \"regular\", \"buy\", \"look\", \"go\", \"box\", \"good\", \"not\", \"food\", \"taste\", \"like\", \"round\", \"language\", \"pepper\", \"spanish\", \"ceo\", \"version\", \"stall\", \"carton\", \"texas\", \"hannaford\", \"pregnancy\", \"range\", \"weekly\", \"complete\", \"design\", \"campbells\", \"defect\", \"split\", \"basket\", \"clerk\", \"disappear\", \"busy\", \"entirely\", \"manipulate\", \"brilliant\", \"worker\", \"individually\", \"inconsistent\", \"faster\", \"north\", \"shape\", \"square\", \"one\", \"saltine\", \"premium\", \"idea\", \"substitute\", \"wegmans\", \"crispy\", \"sleeve\", \"dissatisfied\", \"new\", \"bring\", \"original\", \"stale\", \"comment\", \"fresh\", \"instead\", \"change\", \"save\", \"brand\", \"unhappy\", \"cracker\", \"buy\", \"old\", \"store\", \"texture\", \"packaging\", \"not\", \"find\", \"year\", \"stack\", \"taste\", \"box\", \"nilla\", \"perfect\", \"wafer\", \"olive\", \"crazy\", \"rash\", \"pound\", \"bht\", \"gum\", \"formula\", \"saline\", \"saving\", \"interested\", \"baking\", \"phone\", \"fruit\", \"dissatisfaction\", \"faithful\", \"assure\", \"location\", \"expiry\", \"energy\", \"assurance\", \"garage\", \"settle\", \"miserable\", \"upsetting\", \"defective\", \"helpful\", \"scratch\", \"9\", \"advertise\", \"worry\", \"45\", \"minute\", \"doctor\", \"carry\", \"triscuit\", \"actually\", \"plain\", \"difference\", \"entire\", \"cost\", \"oil\", \"ill\", \"2\", \"hear\", \"decide\", \"box\", \"time\", \"purchase\", \"shop\", \"crisp\", \"eat\", \"flavor\", \"new\", \"one\", \"recipe\", \"small\", \"package\", \"bad\", \"son\", \"product\", \"square\", \"go\", \"cracker\", \"buy\", \"nabisco\", \"taste\", \"order\", \"emit\", \"ignore\", \"shocked\", \"bunch\", \"companys\", \"pop\", \"gram\", \"mark\", \"tear\", \"storage\", \"melt\", \"sodium\", \"girl\", \"iti\", \"slice\", \"tuesday\", \"suddenly\", \"topping\", \"pray\", \"marry\", \"boss\", \"fish\", \"medicine\", \"pungent\", \"preschool\", \"closer\", \"airplane\", \"meijers\", \"obnoxious\", \"800\", \"main\", \"sams\", \"spend\", \"cheese\", \"reek\", \"date\", \"pack\", \"open\", \"bitter\", \"know\", \"past\", \"box\", \"smell\", \"eat\", \"notice\", \"bad\", \"mouth\", \"problem\", \"away\", \"throw\", \"taste\", \"package\", \"cracker\", \"horrible\", \"number\", \"ritz\", \"odor\", \"today\", \"end\", \"not\", \"fresh\", \"chemical\", \"wrong\", \"packaging\", \"have\", \"year\", \"buy\", \"nabisco\", \"like\", \"double\", \"oreo\", \"filling\", \"oreos\", \"row\", \"biscuit\", \"cookie\", \"stuffed\", \"stuff\", \"head\", \"pinwheel\", \"smelly\", \"dish\", \"belvita\", \"object\", \"honest\", \"goodness\", \"deserve\", \"blueberry\", \"allow\", \"cream\", \"lard\", \"united\", \"inch\", \"metallic\", \"mint\", \"embarrassing\", \"evidence\", \"level\", \"moist\", \"july\", \"lemon\", \"chocolate\", \"usa\", \"work\", \"cup\", \"weekend\", \"hopefully\", \"correct\", \"package\", \"golden\", \"chip\", \"purchase\", \"manager\", \"lack\", \"maybe\", \"buy\", \"get\", \"like\", \"packaging\", \"break\", \"recently\", \"cinnamon\", \"half\", \"pack\", \"long\", \"good\", \"complaint\", \"store\", \"taste\", \"listen\", \"integrity\", \"gay\", \"americans\", \"maker\", \"chewy\", \"twitter\", \"success\", \"boycott\", \"eliminate\", \"blatant\", \"popular\", \"economy\", \"chili\", \"vs\", \"responsive\", \"benefit\", \"acceptable\", \"somewhat\", \"aug\", \"ultimate\", \"grandparent\", \"margin\", \"chicago\", \"nutrition\", \"maximize\", \"knock\", \"traditional\", \"migraine\", \"tsk\", \"party\", \"support\", \"replace\", \"standard\", \"concern\", \"quality\", \"product\", \"keebler\", \"nabisco\", \"american\", \"company\", \"50\", \"line\", \"word\", \"people\", \"price\", \"texture\", \"new\", \"child\", \"year\", \"longer\", \"know\", \"high\", \"not\", \"purchase\", \"change\", \"consumer\", \"time\", \"brand\", \"country\", \"classic\", \"banana\", \"pudding\", \"ready\", \"thanksgiving\", \"revise\", \"eponymous\", \"ubiquitous\", \"hey\", \"dinner\", \"joke\", \"cocacola\", \"numb\", \"slip\", \"examine\", \"chunk\", \"americas\", \"cafeteria\", \"president\", \"giveup\", \"restore\", \"soupchili\", \"alike\", \"chuck\", \"gray\", \"nonexiste\", \"plantplease\", \"processing\", \"rippedoff\", \"surpass\", \"school\", \"suffer\", \"cinnamon\", \"serve\", \"reach\", \"introduce\", \"word\", \"crunch\", \"hardly\", \"coke\", \"world\", \"yes\", \"sugar\", \"plain\", \"bring\", \"stop\", \"exactly\", \"mistake\", \"chew\", \"cracker\", \"not\", \"nabisco\", \"right\", \"flavor\", \"husband\", \"american\", \"go\", \"new\", \"recipe\", \"2\", \"brand\", \"box\", \"voice\", \"mixture\", \"ridiculous\", \"cover\", \"foreign\", \"timetested\", \"flour\", \"stuffing\", \"careful\", \"jump\", \"floor\", \"kraft\", \"lunch\", \"brief\", \"18month\", \"02\", \"organic\", \"percent\", \"supper\", \"brookfield\", \"appearance\", \"bore\", \"eighty\", \"3pound\", \"disappearance\", \"holy\", \"promotion\", \"york\", \"aisle\", \"assimilate\", \"tonight\", \"tbhq\", \"town\", \"corner\", \"lay\", \"nausea\", \"facebook\", \"nearly\", \"comment\", \"dismay\", \"states\", \"grocery\", \"begin\", \"american\", \"form\", \"cut\", \"notify\", \"content\", \"world\", \"nabisco\", \"2012\", \"cracker\", \"product\", \"saltine\", \"problem\", \"people\", \"waste\", \"purchase\", \"nutter\", \"grocer\", \"insect\", \"severe\", \"edition\", \"limited\", \"casserole\", \"4th\", \"apply\", \"egg\", \"infestation\", \"larva\", \"01008\", \"0617\", \"2012ma19kt32\", \"66721\", \"04242012\", \"healthful\", \"notch\", \"snackwells\", \"unpoppe\", \"explaining\", \"publix\", \"cereal\", \"hay\", \"particular\", \"fudgee\", \"creme\", \"foot\", \"dunk\", \"calorie\", \"dental\", \"butter\", \"enjoy\", \"fatfree\", \"stock\", \"discontinue\", \"job\", \"appear\", \"oreo\", \"inside\", \"store\", \"shelf\", \"peanut\", \"soft\", \"week\", \"walmart\", \"outside\", \"need\", \"target\", \"round\", \"recent\"], \"Freq\": [331.0, 379.0, 150.0, 1062.0, 129.0, 393.0, 623.0, 156.0, 158.0, 123.0, 536.0, 237.0, 528.0, 142.0, 180.0, 174.0, 271.0, 202.0, 81.0, 252.0, 267.0, 333.0, 100.0, 464.0, 129.0, 44.0, 152.0, 44.0, 139.0, 69.0, 15.734599383443626, 13.487556097331968, 37.64244177072118, 12.91298500239898, 13.968269969282417, 11.616224547261684, 26.185479831687488, 10.850241371761003, 9.8264967293203, 9.730975926993425, 17.01741355778204, 9.868678974391026, 9.95227971418681, 8.657026811037788, 8.083272188022834, 8.013177432651284, 7.968939758711861, 7.915301258456154, 7.80169196963105, 7.627665183778776, 7.462107334828485, 7.384287444197561, 20.70115816343954, 7.209366528976061, 15.13918901835139, 7.224901581482811, 9.218951853139094, 6.928356985982485, 6.65871606637117, 6.641501760539108, 27.906166613251017, 62.58796721659129, 19.100777735299303, 14.503717382795745, 11.563571370446327, 22.31817865974523, 11.39493287178087, 18.32999547180571, 113.06270576056218, 257.267548451554, 83.5561743931519, 12.212771275974571, 290.5207369344386, 52.68897048827353, 39.362692530632145, 117.10033465884675, 55.066684903954695, 16.973118887548164, 315.0659631552941, 560.0325941365952, 299.35751082193065, 63.54659929224928, 66.75630001731466, 57.96637138423322, 34.046947377579436, 219.6456167973916, 158.83737597397263, 44.327303462265135, 35.97715538736563, 302.9141707898471, 90.54199361829419, 105.20858218721047, 35.67707274688715, 111.96463795015524, 165.9468315610416, 74.94460426430115, 124.49819149584611, 72.78684424854221, 65.2501216397384, 61.363236541022204, 60.729705629292674, 110.99262314455976, 74.5030824693237, 71.38211357546221, 70.24900444322577, 87.53999308984372, 12.690375820809965, 8.43676952536227, 8.118419592555858, 7.672075339966147, 7.152779773940623, 7.07875407542835, 6.3301222302974, 5.333511865233578, 5.125765301613364, 5.028594579603913, 9.403142063264767, 4.562243042299106, 4.515251851765782, 4.474737332987649, 4.474708186143073, 4.19046249039447, 4.014849513284888, 3.5469527884002585, 3.4417994743325155, 3.3984662127934984, 4.464165934386794, 9.404330606815815, 6.677542092395662, 7.6407619132765054, 2.9837527636454815, 2.9349237026347166, 2.8936244455481, 2.722321355671573, 2.683384409856125, 2.6832692393383204, 16.062600967504643, 6.707641067227965, 7.411732485673701, 18.816739747386652, 7.773963802624076, 8.672299508940126, 9.690644109260182, 7.962893649166672, 36.0464370461403, 19.556844521209936, 26.31312843349721, 15.505491418814422, 148.43293569712557, 18.808363268109296, 9.907018948509508, 11.67489165943123, 44.32713331514301, 78.84463052804371, 23.563521987946785, 51.880557518281655, 14.493848163843166, 50.54428804330526, 49.97817211964101, 101.94278589914198, 57.80549893687658, 35.48724511733203, 13.805861186660323, 41.90145842313533, 26.26380063759036, 21.46913660846819, 44.314881924806166, 14.420297720824399, 13.7916877238506, 30.510340442497483, 19.825965433527234, 29.438993114950275, 19.528672476657945, 19.23518966008242, 16.01812450195058, 16.958045468765654, 18.870073615153576, 16.450734923302925, 17.04008897844008, 14.59026430429646, 51.08790743368324, 18.322756495110585, 41.972498028175984, 9.299264260220195, 6.7242432689729394, 6.523881901322292, 5.471895984818295, 6.011756676636888, 4.514391423832422, 4.262152710500653, 19.749358325707853, 4.026136429500563, 4.030729894792165, 3.034866992545194, 125.15759524715217, 7.854836837809953, 3.0892286448827724, 21.633378418419575, 2.3905707794217874, 2.292733138975633, 6.416219081360238, 3.2899458903166856, 10.876287704141465, 3.2181658076474227, 2.080177751175759, 2.080177751175759, 2.080177751175759, 2.0801698255133365, 2.0801698255133365, 244.8518716302782, 7.050056372784271, 28.687648135509477, 8.656107011408382, 18.109783067469234, 19.88460555900164, 30.51416832437477, 32.73743412005693, 4.283832971543377, 26.925065353239084, 39.41487246729888, 84.50531987611349, 26.01432655188753, 89.82691919334479, 121.45604857215733, 9.065654894114086, 52.14017680917269, 11.965177991364973, 54.50618409588672, 29.264894953998727, 26.66593908385739, 50.56593511735642, 104.8502951517535, 33.030381522070805, 33.594256038597415, 18.1340697836128, 42.321396255545636, 19.122172996133123, 39.508839120975004, 21.66553360789166, 25.975809958482984, 9.241802991172682, 6.65028415343756, 5.323273362373247, 5.560383553248494, 4.776553392213021, 5.372433329183689, 19.972813775718087, 4.074790187261631, 68.63608067317955, 4.0046714905458725, 3.8464617921029305, 3.8411257618710963, 3.8042081461756716, 3.7749261078803764, 3.767091151065903, 3.6748387795651474, 3.3633657555677985, 3.25249345148577, 3.2511054749636576, 3.249796852017297, 11.267921059982752, 3.1978868145117105, 2.6923823521013435, 2.631676297808288, 2.5441000988485265, 2.482124956186277, 2.2887309061720402, 2.2698365069219477, 2.1981741129574677, 5.002525071498315, 12.132887550221087, 7.576011591302714, 4.776495939086491, 18.814523476616117, 5.086944761555945, 6.25978037199825, 6.817988692093142, 96.94793930711762, 5.277939432484006, 8.335159092800899, 42.6526869019946, 144.94722554085666, 36.912047861736475, 6.683589332697052, 58.63557330907866, 30.95052942326926, 13.352276120752178, 26.60370550800182, 16.33351430565448, 7.9983637454961345, 17.14363979566994, 23.126064346080053, 23.998671533304048, 27.060914075871047, 11.595815723418053, 12.775003032977532, 17.364409976054333, 24.714023255944056, 10.192470205537415, 23.99752702151614, 13.523444343441833, 15.433503683604155, 21.457306999658325, 14.596000925532863, 17.040201414202347, 10.937459777667216, 12.49967968684575, 12.060875460122602, 124.69326767863954, 5.336891450273945, 4.016811812575483, 4.016710769036733, 3.115701859685939, 9.93107706620262, 2.7300643715112325, 2.7130732115370777, 2.6967078325699587, 2.696705995414709, 2.6959256637222655, 2.202417538243369, 2.157012705528102, 2.156990889309508, 6.795273972348661, 2.075394787102197, 2.0753725115947903, 2.075361029374478, 2.07534862857654, 2.0753451839104464, 2.0706468890029437, 2.058732937206607, 2.0585381987501057, 2.0694277068501536, 4.016802167510421, 2.4080445842672065, 3.4570724031783557, 1.7668024231139088, 2.845953043259699, 1.4540712928139503, 10.506317013732923, 68.91222252871245, 38.840849699563066, 165.0064062469423, 75.42889879672877, 13.639430971589677, 5.002323892672328, 5.872558614430147, 7.579195466150353, 21.942017799653097, 4.046648132413325, 59.48956348070902, 28.00809499949865, 46.073553551961595, 23.798652406782328, 6.9331685489706, 11.610088155139564, 9.291612926864726, 39.621570868919235, 9.872763921411947, 30.731369015561427, 6.148003301064648, 84.46230873898038, 49.054690678916245, 18.25114350789229, 20.234692474002948, 11.40640918261396, 12.694101610409936, 27.305006499542294, 15.431383935254065, 14.811249424879186, 8.549972642564466, 14.250464214855988, 9.434369994144639, 7.149867131625435, 6.640206260155433, 25.106934853883025, 10.23322418769969, 5.052301439178788, 4.63356102828775, 4.546277028500575, 5.148777784367111, 3.7828909241479716, 9.999097560280209, 3.5114279881229455, 3.3329412834541814, 3.3328362292393092, 3.3116242186193476, 5.829918020854288, 3.2296575470619184, 3.2082398984043348, 3.2082338024150774, 3.080826001334507, 2.8697101077652585, 2.5281048905457326, 2.4556548710179547, 2.4556215462766797, 2.4554658953509696, 2.434174230471376, 2.434162851291428, 2.4338172087005234, 2.4186050739075147, 2.397132967745897, 2.3971335773448224, 5.523657958949141, 4.849474465402714, 4.969351687753753, 4.173423973546333, 7.091778856389233, 4.101511620271073, 5.908472564024607, 12.629032496979914, 9.739692084607395, 8.06387700254718, 7.290749507360962, 11.638244860556794, 10.49294259082106, 10.87889348829414, 9.209604365933808, 13.685458494534393, 7.7758569532992805, 10.135049499904206, 51.04360374639959, 18.278872556769567, 25.804590750866122, 5.470294481786848, 7.612294246331284, 23.022979473452136, 12.703571002427338, 16.161613567826663, 11.34968023626855, 10.650445071668456, 10.425599791093283, 13.822714163060942, 12.191738739583787, 9.016493179836464, 13.687027195770009, 10.657950453642389, 10.983924132007983, 14.177944525870087, 11.189683276616954, 9.671528358326263, 9.65143516493471, 6.529664320944169, 5.349533143937141, 3.844655927678431, 3.779203404192409, 3.778997450242424, 3.4092649792407093, 3.3880782277701633, 3.3228445527423, 3.2845980087781252, 3.355147086619515, 2.9146406002449488, 2.770075612767551, 2.4416970831093066, 2.398873705105291, 2.398559043287792, 2.3742310463539966, 2.275983490414708, 2.239480749590537, 4.540619455456416, 3.706831544348456, 1.8011903277178094, 1.80118764136194, 1.801188894994679, 1.8011817313790275, 1.7660807310474937, 1.7654096793513252, 1.744903829548469, 1.7448980986559475, 1.7448980986559475, 1.7448980986559475, 3.4400359320916016, 3.0009593034011046, 4.015644269667733, 4.009950269767016, 8.454747769543793, 2.6723375689914866, 14.802189050072174, 11.612134291579867, 30.633505990107057, 4.185135774166621, 19.256028107343685, 10.58731531643163, 45.393330849938486, 30.672991839578966, 25.960653711517562, 14.296235771104106, 16.97642949829037, 10.643844123900386, 12.46707241971855, 10.855218065487447, 13.091295560372275, 28.98186563090824, 18.22717386749887, 34.78148588079247, 10.790057817520012, 7.525156886337672, 10.274985972188956, 8.98982257885896, 7.783145191331601, 6.884291233802027, 16.400311469460625, 6.584574867637219, 11.015786212149854, 7.658039091229571, 8.04331481729146, 9.013963963605029, 8.971429279311776, 9.83935575898847, 8.803777033131448, 8.130384983729474, 19.37791925456596, 41.23514465363839, 9.132847671260244, 17.848146005700677, 6.637927909459572, 11.426199975827728, 134.07156402557624, 5.222105096332106, 20.682649016711075, 5.0165416212263425, 4.671319747488627, 4.81990729640006, 4.442230660116292, 4.392829565993099, 4.176591980928853, 4.034872709479342, 3.4497055987771557, 3.3473872831321234, 2.8790704924485877, 8.585987153584352, 9.506314375393758, 2.6160425236881353, 2.517647268397133, 2.4821389149535054, 2.460317179491416, 2.4576200533628505, 2.422981346457033, 2.422945398941827, 2.356061239652387, 2.334356732047766, 4.139196648558957, 4.0264361995314, 19.115885597617723, 5.886966962838655, 13.811417837776379, 6.518556659261272, 4.099226199114568, 3.20538893146604, 3.9033235744500105, 34.85060245604042, 4.653169971018194, 10.231325111825951, 25.730453642959652, 6.155255841595401, 5.187838791517311, 7.058177382790998, 14.326221671793817, 8.755015557546178, 11.95396899838361, 7.536326084505339, 8.005122057337381, 7.035908339824426, 7.224759939067987, 6.128813345237849, 6.631934768057487, 6.296466181228649, 7.325737394687709, 6.283350119375155, 6.334195843198094, 6.1834401101675525, 5.751596247917092, 4.293657159215713, 3.4304002789528316, 3.415965263121155, 3.4156451980914073, 3.0363756069468617, 2.966043737203524, 2.7478354611449847, 5.247314290884012, 2.6194539751205004, 2.5560492863710302, 2.555846237337465, 2.53801167167816, 2.3853685924782764, 2.3306927991036117, 2.3306908626686864, 2.3306432816962435, 2.306740343932311, 2.3067385458141665, 2.2952091505874614, 2.2112772834154657, 2.2112776983658065, 2.2112439490713993, 1.9619098329786553, 1.8912251171286252, 1.8912081041646414, 3.191289847680217, 4.0010529897733695, 1.7907403275841178, 1.7907375612485106, 4.641834797937242, 5.1256265071281515, 8.728509194354675, 6.025892808311308, 8.128570671629028, 22.155013119074493, 44.87392051444769, 6.366445872832406, 34.295621345905765, 6.5677637335743615, 14.43815949546053, 6.099457971112284, 6.36734880477458, 4.6121210339137075, 9.379151329156677, 7.460590805042766, 7.215102863661425, 12.407514245017424, 6.00432036997962, 11.328455247407105, 6.853754701114249, 8.019900709973301, 5.076252949211714, 9.892538956474256, 8.332930948271729, 7.427739463173601, 5.588935714216592, 5.272865826353026, 5.309428484072746, 4.677893982576459, 14.778403603336688, 3.410877336526559, 3.410877336526559, 3.1850450001939543, 2.716063739509989, 2.6836538467760125, 2.683640711158829, 2.683640711158829, 2.5348796863650613, 2.263864351111139, 2.0654923428815812, 1.9162115000663436, 1.8999830857979239, 1.8035061425367913, 1.8034579252103007, 1.7868642767079979, 1.786705367778168, 1.430437954717788, 1.4141220764617803, 1.3864732041950145, 1.3864732041950145, 1.3864732041950145, 1.3863117322179295, 1.3863117322179295, 1.3863117322179295, 1.3863117322179295, 1.3863117322179295, 1.3863117322179295, 1.3863117322179295, 1.3863117322179295, 2.272529212929109, 2.923142259075416, 12.304772096089291, 5.174601781851712, 3.1225185012576993, 1.9965048823860243, 3.9893833732866772, 2.0488591273372743, 2.7783445062906402, 3.924000678565275, 3.5398607673651026, 2.9240995572252784, 4.646903991976526, 3.601606177650299, 6.257667058627802, 4.2476622859671, 2.6295689041656076, 3.0768305820270836, 2.540564044606001, 8.143825708292344, 6.23546273949315, 6.6270957193442515, 3.7122000648128273, 3.9715439236278356, 3.264123658305067, 2.953572037614204, 3.6914467508055937, 3.6026371634087515, 3.069172517209094, 2.94407210296236, 2.9631123402603197, 3.0198107901188838, 3.0841772979373343, 2.541270257369202, 5.9975303891890945, 4.3297559881356245, 2.135445335112391, 2.102027719952759, 2.119061209143607, 1.498606945849095, 1.435108558890453, 1.4218763244659949, 1.4218450650040855, 6.800659737971862, 4.028545648276137, 1.1033231309409617, 1.1033156286701036, 1.103293226055735, 1.103293226055735, 1.103293226055735, 1.1032831188297176, 1.1032440445023308, 1.0900920426967735, 1.0900920426967735, 1.0900920426967735, 1.0900874579756934, 1.0900874579756934, 1.0900874579756934, 1.0900874579756934, 1.0900874579756934, 1.0900863117954234, 1.0900863117954234, 4.079769486525018, 3.220363103277507, 1.6301831267379001, 3.471000010092242, 2.1354665915464897, 1.5118968018816727, 2.166505986844054, 2.148450104852355, 4.028746125625182, 1.6435825992835738, 2.125070111308246, 5.406214320718816, 4.058776048699486, 4.800428038934261, 1.4218748656911058, 3.365057108960182, 1.2616696024143639, 1.9743101028438443, 2.205792670175384, 4.777301455428031, 1.897570207820378, 4.742263349763015, 3.8461254316006492, 3.564212599559902, 2.6781450212498576, 2.346143486220366, 2.0744818821181896, 2.209428145595448, 3.5808313922556128, 2.2188625229691974, 2.629931822367605, 3.257785576535871, 1.1560661468476368, 1.1560661468476368, 1.1297410581453848, 1.107568196248324, 1.107568196248324, 1.107568196248324, 1.107568196248324, 1.107568196248324, 1.0944350869427524, 1.0944350869427524, 1.0944350869427524, 1.0944350869427524, 1.0944354717145897, 1.094430700543807, 1.094430700543807, 1.094430700543807, 1.094430700543807, 1.0944274684603736, 2.5639576118718543, 0.8653022265523413, 0.8195238432991643, 0.7625679151263809, 2.1437442867140453, 1.1282757700345254, 1.450980754860774, 1.2605657914631943, 1.1560051220342387, 1.094430700543807, 5.170842832454226, 3.521601770341773, 2.579457452748745, 2.156407589606256, 2.0308414560346506, 1.4835536917029646, 1.9356210460021268, 2.2932333784075505, 1.9825682891426966, 2.686216246729908, 2.1177432528531788, 1.7540381353582544, 1.474838301770331, 1.7985462328677226, 1.6000764558278098, 1.2845623179603889, 1.4604898521394192, 1.1560034290381547, 1.2561703888568205, 1.1699781882606668], \"Total\": [331.0, 379.0, 150.0, 1062.0, 129.0, 393.0, 623.0, 156.0, 158.0, 123.0, 536.0, 237.0, 528.0, 142.0, 180.0, 174.0, 271.0, 202.0, 81.0, 252.0, 267.0, 333.0, 100.0, 464.0, 129.0, 44.0, 152.0, 44.0, 139.0, 69.0, 16.455195687792834, 14.20781874812227, 39.71311279079949, 13.63398142563494, 14.828803621003457, 12.336104222378657, 27.903877762630508, 11.570867068077918, 10.546426777315906, 10.457990458273283, 18.294107360570564, 10.61340833489765, 10.745917276403805, 9.37691586244426, 8.803161645349986, 8.733097263782943, 8.688852216870032, 8.635204710576879, 8.522578900148769, 8.348066761908113, 8.183969414763713, 8.104715549116118, 22.725994125104393, 7.929252027607481, 16.65763082738037, 7.953250249610726, 10.162921882548709, 7.648280269480257, 7.379039642658676, 7.361403062939719, 31.09726108970094, 70.82323792501612, 21.407808279691405, 16.252384391633655, 13.009417662073345, 26.159611998296842, 12.814020068396701, 21.339007363463093, 153.7437496710657, 392.4594189012944, 114.44141084941417, 13.854505191260085, 464.68773328826154, 69.79610521797974, 50.54248178423461, 173.31785972124538, 74.25692973481615, 19.970306798705238, 536.0011016750171, 1062.0667145815396, 528.21412575432, 89.0326967163442, 94.63484614909515, 81.41110506666156, 43.872389315433345, 393.53365982640815, 271.55408019736626, 60.12294699930972, 46.866065216586954, 623.5050670294398, 144.58889872456936, 180.94945843090375, 47.06155747460475, 200.56501026686405, 333.22013553406606, 126.11067334470127, 252.58200452459832, 129.4914481150096, 112.46069919318484, 104.2107032030021, 103.84276559671373, 267.1784938034321, 146.5796096087061, 149.57406653389052, 152.7271112377158, 379.573995669708, 13.417642501386604, 9.177092679001762, 8.846060714982343, 8.399469702110313, 7.880056084461727, 7.806059672526692, 7.0574223738406845, 6.08774471703038, 5.859125507122313, 5.755892215872985, 10.798522239703395, 5.289487309624164, 5.242521316471718, 5.202048250344185, 5.202045380795502, 4.9177283284582645, 4.757856809855371, 4.277856426346191, 4.16932976494886, 4.136701457625967, 5.448379753466945, 11.616411928504085, 8.310909538653007, 9.518706625365327, 3.7224139458447967, 3.665915604657739, 3.6208865618016595, 3.4495623881611515, 3.410629329482435, 3.410630175502914, 20.820934755796326, 8.67467682153985, 9.915478513988276, 27.342391458563895, 10.743748315907421, 12.352336964596962, 14.587515596736019, 11.563540105266027, 75.16223966221257, 35.6742341309366, 52.96244615402132, 28.525795836530364, 623.5050670294398, 37.82260213099111, 16.072120522760155, 20.970574578442157, 152.7271112377158, 393.53365982640815, 65.98920384067237, 237.10030588895583, 30.58039059534742, 252.58200452459832, 271.55408019736626, 1062.0667145815396, 464.68773328826154, 202.23466185764386, 33.516777462390756, 392.4594189012944, 149.57406653389052, 96.79696548782954, 536.0011016750171, 39.24061256820794, 35.85902721648717, 333.22013553406606, 105.7187897117137, 528.21412575432, 146.5796096087061, 139.04778262742664, 68.63376032223862, 100.91390271139814, 267.1784938034321, 95.44197247942117, 153.7437496710657, 15.35453450024803, 54.76881659375549, 19.69544715651402, 45.292420251246305, 10.036705747354057, 7.446660717729232, 7.246608536779526, 6.19419746949847, 6.824862709521595, 5.236740800878969, 4.984466151279579, 23.12948842476133, 4.748452485252182, 4.755745664977296, 3.793859298621175, 156.8575185805057, 9.930539509012196, 4.008091245296913, 28.071553923226826, 3.116949762773132, 3.0150810242733845, 8.517051970028307, 4.3883185657965775, 14.57613890080362, 4.329962282529805, 2.8024784929449438, 2.8024784929449438, 2.8024784929449438, 2.802477149300505, 2.802477149300505, 331.1905064639556, 9.663896907635248, 40.85091378617828, 12.031977713964368, 26.54591059038182, 30.0710665193938, 49.65823921272526, 56.319904479818966, 5.920446374244641, 47.815365474935966, 78.45796929634857, 237.10030588895583, 55.237125052159314, 333.22013553406606, 528.21412575432, 14.706409112812906, 202.23466185764386, 22.749580402340683, 267.1784938034321, 96.79696548782954, 89.98514196141403, 271.55408019736626, 1062.0667145815396, 139.04778262742664, 152.7271112377158, 48.02634835568184, 536.0011016750171, 67.64086533522247, 623.5050670294398, 379.573995669708, 26.71619893929447, 9.982068448015935, 7.390407541724947, 6.063299336970924, 6.374176204471846, 5.517165068897486, 6.217736795106607, 23.257155325454164, 4.816950483300715, 81.2580629483191, 4.744936594601292, 4.5866547539964255, 4.587251763434257, 4.544226808994179, 4.514964506880718, 4.515680501946219, 4.414850191893539, 4.103538819865593, 3.9925502348285384, 3.9921002967070147, 3.9916709483218047, 13.933099969210893, 4.015345925980538, 3.4324191917438016, 3.3717144387348146, 3.28411015909787, 3.222143880306953, 3.029710729125247, 3.0101556874936852, 2.938239290808704, 6.7368274773429775, 17.327320080091994, 10.580447596669213, 6.552653645722653, 30.817867215293216, 7.108462311160681, 9.087082422387049, 10.382583592771928, 379.573995669708, 7.634038776151027, 15.230538692878108, 158.38330312128218, 1062.0667145815396, 142.87930984439834, 11.381847313435632, 536.0011016750171, 200.56501026686405, 45.90308779355365, 174.2595194334069, 70.61097804576555, 17.88805209110663, 81.23298420463598, 149.57406653389052, 180.94945843090375, 267.1784938034321, 43.065046848711496, 55.13095958960468, 129.4914481150096, 393.53365982640815, 36.18987199048952, 464.68773328826154, 95.44197247942117, 173.31785972124538, 623.5050670294398, 144.58889872456936, 392.4594189012944, 67.3035590138582, 528.21412575432, 333.22013553406606, 129.463302346554, 6.087098758949704, 4.766987198264731, 4.766963313597745, 3.8658481059695364, 12.51103181302697, 3.4802906301227545, 3.4636327961132656, 3.446860337640085, 3.44686126570785, 3.4470414943161, 2.9526356494204786, 2.9071526891352093, 2.907153199618944, 9.192148893225841, 2.825559449308766, 2.825560295683243, 2.825549086126949, 2.82557317105015, 2.8255711004921396, 2.8245807252618174, 2.8090659805436116, 2.809170686591583, 2.8243314899938015, 5.591211276782469, 3.3753687273885937, 4.915897276300666, 2.5169459682033772, 4.267147389308555, 2.204259547702309, 16.047480368924166, 123.53391383487977, 69.42820517950084, 379.573995669708, 158.38330312128218, 23.185180173637956, 7.776343017612981, 9.469147818387755, 13.058226442677364, 47.954330764443014, 6.285820682772703, 174.2595194334069, 70.61097804576555, 142.87930984439834, 64.5765321742758, 13.629365782024745, 27.73426876106828, 20.605071555615442, 180.94945843090375, 23.91727183198624, 146.5796096087061, 12.267318581185545, 1062.0667145815396, 464.68773328826154, 98.8874847948699, 129.4914481150096, 44.06399894895809, 55.74226847860368, 392.4594189012944, 149.57406653389052, 200.56501026686405, 30.817867215293216, 528.21412575432, 623.5050670294398, 7.891506672056175, 7.3790429913271804, 27.970074625330906, 11.457715517402438, 5.78636418341788, 5.367867991612704, 5.280260212622302, 6.035705544508174, 4.516871603508822, 12.050679013244519, 4.2454368097094966, 4.066958053272524, 4.066920429086163, 4.045673391914073, 7.138566286256707, 3.9637306313511984, 3.942245449758611, 3.9422412690497275, 3.814829379854867, 3.6038334449406766, 3.262306477571607, 3.1896403629890036, 3.1896416025151244, 3.1896302744008276, 3.1681545195469867, 3.168153934911773, 3.1680612857366306, 3.1526153233059517, 3.1311225823775874, 3.131126854315561, 7.233287488403384, 6.476915592193439, 6.799663134296839, 5.772257170299329, 10.906076281001415, 5.786521578917704, 8.982444585077605, 23.591926324526444, 19.385215938013694, 15.533840216637497, 13.784943517636327, 28.821728107395792, 26.455016374558678, 28.409078570855513, 24.783267488322288, 51.48043069554892, 18.902595623903075, 31.050001801207518, 623.5050670294398, 112.46069919318484, 252.58200452459832, 10.207187140986264, 21.33055386426624, 267.1784938034321, 69.30025515325083, 174.2595194334069, 69.42820517950084, 58.64126987650234, 69.98909364874822, 202.23466185764386, 139.04778262742664, 47.815365474935966, 393.53365982640815, 123.53391383487977, 173.31785972124538, 1062.0667145815396, 464.68773328826154, 536.0011016750171, 528.21412575432, 7.26481106452943, 6.084604234868801, 4.579751871638308, 4.514319915037042, 4.514337949722939, 4.144314254938796, 4.123133232760752, 4.057901306970848, 4.019940727738251, 4.1398955518771725, 3.6497120151556794, 3.5057437388640484, 3.1768073894143507, 3.1339300059036153, 3.133866590578485, 3.109278026581568, 3.01102439341738, 2.9745488038805576, 6.094720310335852, 5.120887216000561, 2.5362245130794703, 2.536221442855117, 2.5362244950863353, 2.5362224756549954, 2.501111698774883, 2.5012538059412215, 2.4799357884524156, 2.4799366598019006, 2.4799366598019006, 2.4799366598019006, 5.053898616909407, 4.540823116713824, 6.549495590189161, 7.2961393554748595, 24.358022528260737, 4.6590347171849755, 65.98920384067237, 48.031375396908935, 237.10030588895583, 9.963202878567182, 126.11067334470127, 47.53813087597444, 623.5050670294398, 331.1905064639556, 267.1784938034321, 94.63484614909515, 139.04778262742664, 56.319904479818966, 77.62802796464814, 59.45910895962761, 89.98514196141403, 528.21412575432, 202.23466185764386, 1062.0667145815396, 67.64086533522247, 30.097192462783664, 65.92887945422962, 49.65823921272526, 39.57784630106964, 29.08831929824366, 392.4594189012944, 27.73426876106828, 156.8575185805057, 46.00313277229528, 55.74226847860368, 104.2107032030021, 200.56501026686405, 464.68773328826154, 536.0011016750171, 333.22013553406606, 20.111323017544347, 44.223843792383455, 9.889320593850185, 19.593863101274874, 7.37131626335348, 12.74183015270967, 150.26024294034826, 5.9553188376338175, 23.624644699051984, 5.749936614893542, 5.427915720218281, 5.616475595002493, 5.183353746818243, 5.126068886672023, 4.909837966131179, 4.768094976997984, 4.182920158005804, 4.08060351231035, 3.612273724197463, 10.85725678808026, 12.07867993534789, 3.3492515355048367, 3.2514464540915107, 3.215343719794807, 3.1936336604871243, 3.1999502298338185, 3.1561945031272574, 3.156191144510829, 3.089272648207432, 3.0675582243380806, 5.696646186325418, 5.566548423872282, 31.48120818646099, 9.2020457092605, 34.24263219991859, 12.318342729795962, 6.484543675607406, 4.623342502737059, 6.220582672646988, 202.23466185764386, 8.701256143854573, 39.24061256820794, 252.58200452459832, 15.730561837739378, 13.302078034384945, 35.957101539882345, 464.68773328826154, 88.17219209883511, 333.22013553406606, 55.74226847860368, 74.48008276918802, 43.479331797633456, 49.11143961015119, 27.980874046857704, 48.031375396908935, 33.706257130131775, 144.58889872456936, 81.41110506666156, 129.4914481150096, 528.21412575432, 6.534580039226367, 5.049825058764059, 4.167477948780715, 4.153826648318967, 4.153517542605083, 3.7734902293713763, 3.7031716356691855, 3.4849123780355526, 6.7032315170647285, 3.363929502074375, 3.293144975359211, 3.2929478373914884, 3.286891771740813, 3.1224535163952303, 3.0677617894323177, 3.0677622047971873, 3.0677616555161746, 3.043808057528569, 3.0438078655795917, 3.0323077953712825, 2.9483491753689224, 2.9483497853030145, 2.9483473386017383, 2.699214860182576, 2.6283068241796377, 2.6283011564990186, 4.483950562653941, 5.6283049417935915, 2.5278196366195025, 2.527819568124573, 7.1441281224953, 8.31216224662635, 17.594032402180822, 11.511057252617537, 17.875508687990937, 100.91390271139814, 393.53365982640815, 17.4996171962366, 536.0011016750171, 22.419347947470733, 105.7187897117137, 20.05872805873662, 22.14917606243917, 13.468390653441194, 80.736634893211, 47.188984169445625, 44.06399894895809, 174.2595194334069, 32.274714738952525, 200.56501026686405, 63.03077272590747, 126.11067334470127, 23.707560303644755, 392.4594189012944, 252.58200452459832, 180.94945843090375, 68.23535085466625, 112.46069919318484, 146.5796096087061, 23.43605785785543, 17.198798591436322, 4.163142925732548, 4.163142925732548, 3.935514820869374, 3.4675675515332522, 3.434073909630113, 3.434074614780421, 3.434074614780421, 3.285301269030307, 3.015052700477045, 2.815932965058954, 2.6672095185804934, 2.6504396001385815, 2.553936532624101, 2.5539487480364382, 2.5373092959831154, 2.537283592960382, 2.181047786542777, 2.1645384501296006, 2.136974712044578, 2.136974712044578, 2.136974712044578, 2.1370409907334755, 2.1370409907334755, 2.1370409907334755, 2.1370409907334755, 2.1370409907334755, 2.1370409907334755, 2.1370409907334755, 2.1370409907334755, 3.669958773800182, 5.000872956116434, 49.11143961015119, 16.018331853229746, 7.403308456832811, 3.9166672789129224, 13.468390653441194, 4.209305917458573, 7.6414718571765015, 14.557310723980008, 13.425287960522224, 9.369808003311176, 25.32333633761081, 15.533840216637497, 70.61097804576555, 41.559469150655495, 9.212894031255017, 17.209762810896052, 9.471770020749592, 1062.0667145815396, 392.4594189012944, 536.0011016750171, 44.08449352790714, 69.30025515325083, 39.6867793626518, 22.419347947470733, 173.31785972124538, 174.2595194334069, 58.64126987650234, 51.48043069554892, 146.5796096087061, 623.5050670294398, 3.8462895229668344, 3.308540181228983, 7.9548289055220405, 5.745679540955851, 2.8973724857474727, 2.9061536716787733, 2.9887437485968067, 2.260604640583747, 2.1970106868984955, 2.183782179833396, 2.183799786488119, 11.031053959646613, 6.74228729423042, 1.8652219642884043, 1.865228910051497, 1.865232697075783, 1.865232697075783, 1.865232697075783, 1.8652572984574416, 1.8652725795079452, 1.8519921413461378, 1.8519921413461378, 1.8519921413461378, 1.8519964114806098, 1.8519964114806098, 1.8519964114806098, 1.8519964114806098, 1.8519964114806098, 1.8519945760323975, 1.8519945760323975, 7.004059681597053, 5.539610414643411, 2.9370923773168562, 7.466449316130762, 4.298053867643266, 2.816219220598112, 4.950691025273232, 5.0570681307719205, 13.629365782024745, 3.4550427813379008, 5.355782151306319, 24.319479207980176, 16.760060767905074, 22.419347947470733, 3.0707695085353226, 19.082940922267873, 2.6569194540945236, 9.049331613928576, 13.425287960522224, 536.0011016750171, 8.675413284066849, 1062.0667145815396, 393.53365982640815, 379.573995669708, 77.62802796464814, 80.736634893211, 35.34415625414648, 252.58200452459832, 4.342551352617192, 2.98062745060751, 3.5475498283328664, 4.657236745588966, 1.9177856218405644, 1.9177856218405644, 1.8914682712047428, 1.8695742697446485, 1.8695742697446485, 1.8695742697446485, 1.8695742697446485, 1.8695742697446485, 1.856160673408581, 1.856160673408581, 1.856160673408581, 1.856160673408581, 1.8561615012236037, 1.8561664577326158, 1.8561664577326158, 1.8561664577326158, 1.8561664577326158, 1.8561657018739093, 4.770762501763572, 1.6270222690565506, 1.5812454749682887, 1.5287578879077683, 4.482635069066369, 2.4084841385503646, 3.1265630742558237, 2.8026362473870923, 2.6000486351332066, 2.538433419164793, 44.950982197388456, 30.72010102282846, 23.257155325454164, 15.285316555465958, 17.327320080091994, 5.677178100196494, 15.220544540254043, 44.223843792383455, 25.083000748325986, 129.4914481150096, 60.12294699930972, 33.12327992965197, 11.669225347593352, 68.63376032223862, 29.366941186848788, 8.67467682153985, 43.32713809423517, 3.41557554859643, 129.463302346554, 14.587515596736019], \"Category\": [\"Default\", \"Default\", \"Default\", \"Default\", \"Default\", \"Default\", \"Default\", \"Default\", \"Default\", \"Default\", \"Default\", \"Default\", \"Default\", \"Default\", \"Default\", \"Default\", \"Default\", \"Default\", \"Default\", \"Default\", \"Default\", \"Default\", \"Default\", \"Default\", \"Default\", \"Default\", \"Default\", \"Default\", \"Default\", \"Default\", \"Topic1\", \"Topic1\", \"Topic1\", \"Topic1\", \"Topic1\", \"Topic1\", \"Topic1\", \"Topic1\", \"Topic1\", \"Topic1\", \"Topic1\", \"Topic1\", \"Topic1\", \"Topic1\", \"Topic1\", \"Topic1\", \"Topic1\", \"Topic1\", \"Topic1\", \"Topic1\", \"Topic1\", \"Topic1\", \"Topic1\", \"Topic1\", \"Topic1\", \"Topic1\", \"Topic1\", \"Topic1\", \"Topic1\", \"Topic1\", \"Topic1\", \"Topic1\", \"Topic1\", \"Topic1\", \"Topic1\", \"Topic1\", \"Topic1\", \"Topic1\", \"Topic1\", \"Topic1\", \"Topic1\", \"Topic1\", \"Topic1\", \"Topic1\", \"Topic1\", \"Topic1\", \"Topic1\", \"Topic1\", \"Topic1\", \"Topic1\", \"Topic1\", \"Topic1\", \"Topic1\", \"Topic1\", \"Topic1\", \"Topic1\", \"Topic1\", \"Topic1\", \"Topic1\", \"Topic1\", \"Topic1\", \"Topic1\", \"Topic1\", \"Topic1\", \"Topic1\", \"Topic1\", \"Topic1\", \"Topic1\", \"Topic1\", \"Topic1\", \"Topic1\", \"Topic1\", \"Topic1\", \"Topic1\", \"Topic1\", \"Topic1\", \"Topic2\", \"Topic2\", \"Topic2\", \"Topic2\", \"Topic2\", \"Topic2\", \"Topic2\", \"Topic2\", \"Topic2\", \"Topic2\", \"Topic2\", \"Topic2\", \"Topic2\", \"Topic2\", \"Topic2\", \"Topic2\", \"Topic2\", \"Topic2\", \"Topic2\", \"Topic2\", \"Topic2\", \"Topic2\", \"Topic2\", \"Topic2\", \"Topic2\", \"Topic2\", \"Topic2\", \"Topic2\", \"Topic2\", \"Topic2\", \"Topic2\", \"Topic2\", \"Topic2\", \"Topic2\", \"Topic2\", \"Topic2\", \"Topic2\", \"Topic2\", \"Topic2\", \"Topic2\", \"Topic2\", \"Topic2\", \"Topic2\", \"Topic2\", \"Topic2\", \"Topic2\", \"Topic2\", \"Topic2\", \"Topic2\", \"Topic2\", \"Topic2\", \"Topic2\", \"Topic2\", \"Topic2\", \"Topic2\", \"Topic2\", \"Topic2\", \"Topic2\", \"Topic2\", \"Topic2\", \"Topic2\", \"Topic2\", \"Topic2\", \"Topic2\", \"Topic2\", \"Topic2\", \"Topic2\", \"Topic2\", \"Topic2\", \"Topic2\", \"Topic2\", \"Topic2\", \"Topic2\", \"Topic3\", \"Topic3\", \"Topic3\", \"Topic3\", \"Topic3\", \"Topic3\", \"Topic3\", \"Topic3\", \"Topic3\", \"Topic3\", \"Topic3\", \"Topic3\", \"Topic3\", \"Topic3\", \"Topic3\", \"Topic3\", \"Topic3\", \"Topic3\", \"Topic3\", \"Topic3\", \"Topic3\", \"Topic3\", \"Topic3\", \"Topic3\", \"Topic3\", \"Topic3\", \"Topic3\", \"Topic3\", \"Topic3\", \"Topic3\", \"Topic3\", \"Topic3\", \"Topic3\", \"Topic3\", \"Topic3\", \"Topic3\", \"Topic3\", \"Topic3\", \"Topic3\", \"Topic3\", \"Topic3\", \"Topic3\", \"Topic3\", \"Topic3\", \"Topic3\", \"Topic3\", \"Topic3\", \"Topic3\", \"Topic3\", \"Topic3\", \"Topic3\", \"Topic3\", \"Topic3\", \"Topic3\", \"Topic3\", \"Topic3\", \"Topic3\", \"Topic3\", \"Topic3\", \"Topic3\", \"Topic4\", \"Topic4\", \"Topic4\", \"Topic4\", \"Topic4\", \"Topic4\", \"Topic4\", \"Topic4\", \"Topic4\", \"Topic4\", \"Topic4\", \"Topic4\", \"Topic4\", \"Topic4\", \"Topic4\", \"Topic4\", \"Topic4\", \"Topic4\", \"Topic4\", \"Topic4\", \"Topic4\", \"Topic4\", \"Topic4\", \"Topic4\", \"Topic4\", \"Topic4\", \"Topic4\", \"Topic4\", \"Topic4\", \"Topic4\", \"Topic4\", \"Topic4\", \"Topic4\", \"Topic4\", \"Topic4\", \"Topic4\", \"Topic4\", \"Topic4\", \"Topic4\", \"Topic4\", \"Topic4\", \"Topic4\", \"Topic4\", \"Topic4\", \"Topic4\", \"Topic4\", \"Topic4\", \"Topic4\", \"Topic4\", \"Topic4\", \"Topic4\", \"Topic4\", \"Topic4\", \"Topic4\", \"Topic4\", \"Topic4\", \"Topic4\", \"Topic4\", \"Topic4\", \"Topic4\", \"Topic4\", \"Topic4\", \"Topic4\", \"Topic4\", \"Topic4\", \"Topic4\", \"Topic4\", \"Topic4\", \"Topic4\", \"Topic5\", \"Topic5\", \"Topic5\", \"Topic5\", \"Topic5\", \"Topic5\", \"Topic5\", \"Topic5\", \"Topic5\", \"Topic5\", \"Topic5\", \"Topic5\", \"Topic5\", \"Topic5\", \"Topic5\", \"Topic5\", \"Topic5\", \"Topic5\", \"Topic5\", \"Topic5\", \"Topic5\", \"Topic5\", \"Topic5\", \"Topic5\", \"Topic5\", \"Topic5\", \"Topic5\", \"Topic5\", \"Topic5\", \"Topic5\", \"Topic5\", \"Topic5\", \"Topic5\", \"Topic5\", \"Topic5\", \"Topic5\", \"Topic5\", \"Topic5\", \"Topic5\", \"Topic5\", \"Topic5\", \"Topic5\", \"Topic5\", \"Topic5\", \"Topic5\", \"Topic5\", \"Topic5\", \"Topic5\", \"Topic5\", \"Topic5\", \"Topic5\", \"Topic5\", \"Topic5\", \"Topic5\", \"Topic5\", \"Topic5\", \"Topic5\", \"Topic5\", \"Topic5\", \"Topic5\", \"Topic5\", \"Topic5\", \"Topic5\", \"Topic5\", \"Topic6\", \"Topic6\", \"Topic6\", \"Topic6\", \"Topic6\", \"Topic6\", \"Topic6\", \"Topic6\", \"Topic6\", \"Topic6\", \"Topic6\", \"Topic6\", \"Topic6\", \"Topic6\", \"Topic6\", \"Topic6\", \"Topic6\", \"Topic6\", \"Topic6\", \"Topic6\", \"Topic6\", \"Topic6\", \"Topic6\", \"Topic6\", \"Topic6\", \"Topic6\", \"Topic6\", \"Topic6\", \"Topic6\", \"Topic6\", \"Topic6\", \"Topic6\", \"Topic6\", \"Topic6\", \"Topic6\", \"Topic6\", \"Topic6\", \"Topic6\", \"Topic6\", \"Topic6\", \"Topic6\", \"Topic6\", \"Topic6\", \"Topic6\", \"Topic6\", \"Topic6\", \"Topic6\", \"Topic6\", \"Topic6\", \"Topic6\", \"Topic6\", \"Topic6\", \"Topic6\", \"Topic6\", \"Topic6\", \"Topic6\", \"Topic6\", \"Topic6\", \"Topic6\", \"Topic6\", \"Topic6\", \"Topic6\", \"Topic6\", \"Topic6\", \"Topic6\", \"Topic6\", \"Topic6\", \"Topic6\", \"Topic6\", \"Topic7\", \"Topic7\", \"Topic7\", \"Topic7\", \"Topic7\", \"Topic7\", \"Topic7\", \"Topic7\", \"Topic7\", \"Topic7\", \"Topic7\", \"Topic7\", \"Topic7\", \"Topic7\", \"Topic7\", \"Topic7\", \"Topic7\", \"Topic7\", \"Topic7\", \"Topic7\", \"Topic7\", \"Topic7\", \"Topic7\", \"Topic7\", \"Topic7\", \"Topic7\", \"Topic7\", \"Topic7\", \"Topic7\", \"Topic7\", \"Topic7\", \"Topic7\", \"Topic7\", \"Topic7\", \"Topic7\", \"Topic7\", \"Topic7\", \"Topic7\", \"Topic7\", \"Topic7\", \"Topic7\", \"Topic7\", \"Topic7\", \"Topic7\", \"Topic7\", \"Topic7\", \"Topic7\", \"Topic7\", \"Topic7\", \"Topic7\", \"Topic7\", \"Topic7\", \"Topic7\", \"Topic7\", \"Topic7\", \"Topic7\", \"Topic7\", \"Topic7\", \"Topic7\", \"Topic7\", \"Topic7\", \"Topic7\", \"Topic7\", \"Topic7\", \"Topic7\", \"Topic7\", \"Topic7\", \"Topic7\", \"Topic7\", \"Topic7\", \"Topic8\", \"Topic8\", \"Topic8\", \"Topic8\", \"Topic8\", \"Topic8\", \"Topic8\", \"Topic8\", \"Topic8\", \"Topic8\", \"Topic8\", \"Topic8\", \"Topic8\", \"Topic8\", \"Topic8\", \"Topic8\", \"Topic8\", \"Topic8\", \"Topic8\", \"Topic8\", \"Topic8\", \"Topic8\", \"Topic8\", \"Topic8\", \"Topic8\", \"Topic8\", \"Topic8\", \"Topic8\", \"Topic8\", \"Topic8\", \"Topic8\", \"Topic8\", \"Topic8\", \"Topic8\", \"Topic8\", \"Topic8\", \"Topic8\", \"Topic8\", \"Topic8\", \"Topic8\", \"Topic8\", \"Topic8\", \"Topic8\", \"Topic8\", \"Topic8\", \"Topic8\", \"Topic8\", \"Topic8\", \"Topic8\", \"Topic8\", \"Topic8\", \"Topic8\", \"Topic8\", \"Topic8\", \"Topic8\", \"Topic8\", \"Topic8\", \"Topic8\", \"Topic8\", \"Topic8\", \"Topic9\", \"Topic9\", \"Topic9\", \"Topic9\", \"Topic9\", \"Topic9\", \"Topic9\", \"Topic9\", \"Topic9\", \"Topic9\", \"Topic9\", \"Topic9\", \"Topic9\", \"Topic9\", \"Topic9\", \"Topic9\", \"Topic9\", \"Topic9\", \"Topic9\", \"Topic9\", \"Topic9\", \"Topic9\", \"Topic9\", \"Topic9\", \"Topic9\", \"Topic9\", \"Topic9\", \"Topic9\", \"Topic9\", \"Topic9\", \"Topic9\", \"Topic9\", \"Topic9\", \"Topic9\", \"Topic9\", \"Topic9\", \"Topic9\", \"Topic9\", \"Topic9\", \"Topic9\", \"Topic9\", \"Topic9\", \"Topic9\", \"Topic9\", \"Topic9\", \"Topic9\", \"Topic9\", \"Topic9\", \"Topic9\", \"Topic9\", \"Topic9\", \"Topic9\", \"Topic9\", \"Topic9\", \"Topic9\", \"Topic9\", \"Topic9\", \"Topic9\", \"Topic9\", \"Topic9\", \"Topic10\", \"Topic10\", \"Topic10\", \"Topic10\", \"Topic10\", \"Topic10\", \"Topic10\", \"Topic10\", \"Topic10\", \"Topic10\", \"Topic10\", \"Topic10\", \"Topic10\", \"Topic10\", \"Topic10\", \"Topic10\", \"Topic10\", \"Topic10\", \"Topic10\", \"Topic10\", \"Topic10\", \"Topic10\", \"Topic10\", \"Topic10\", \"Topic10\", \"Topic10\", \"Topic10\", \"Topic10\", \"Topic10\", \"Topic10\", \"Topic10\", \"Topic10\", \"Topic10\", \"Topic10\", \"Topic10\", \"Topic10\", \"Topic10\", \"Topic10\", \"Topic10\", \"Topic10\", \"Topic10\", \"Topic10\", \"Topic10\", \"Topic10\", \"Topic10\", \"Topic10\", \"Topic10\", \"Topic10\", \"Topic10\", \"Topic10\", \"Topic10\", \"Topic10\", \"Topic10\", \"Topic10\", \"Topic10\", \"Topic10\", \"Topic10\", \"Topic10\", \"Topic10\", \"Topic10\", \"Topic10\", \"Topic10\", \"Topic11\", \"Topic11\", \"Topic11\", \"Topic11\", \"Topic11\", \"Topic11\", \"Topic11\", \"Topic11\", \"Topic11\", \"Topic11\", \"Topic11\", \"Topic11\", \"Topic11\", \"Topic11\", \"Topic11\", \"Topic11\", \"Topic11\", \"Topic11\", \"Topic11\", \"Topic11\", \"Topic11\", \"Topic11\", \"Topic11\", \"Topic11\", \"Topic11\", \"Topic11\", \"Topic11\", \"Topic11\", \"Topic11\", \"Topic11\", \"Topic11\", \"Topic11\", \"Topic11\", \"Topic11\", \"Topic11\", \"Topic11\", \"Topic11\", \"Topic11\", \"Topic11\", \"Topic11\", \"Topic11\", \"Topic11\", \"Topic11\", \"Topic11\", \"Topic11\", \"Topic11\", \"Topic11\", \"Topic11\", \"Topic11\", \"Topic11\", \"Topic11\", \"Topic11\", \"Topic11\", \"Topic11\", \"Topic11\", \"Topic11\", \"Topic11\", \"Topic11\", \"Topic12\", \"Topic12\", \"Topic12\", \"Topic12\", \"Topic12\", \"Topic12\", \"Topic12\", \"Topic12\", \"Topic12\", \"Topic12\", \"Topic12\", \"Topic12\", \"Topic12\", \"Topic12\", \"Topic12\", \"Topic12\", \"Topic12\", \"Topic12\", \"Topic12\", \"Topic12\", \"Topic12\", \"Topic12\", \"Topic12\", \"Topic12\", \"Topic12\", \"Topic12\", \"Topic12\", \"Topic12\", \"Topic12\", \"Topic12\", \"Topic12\", \"Topic12\", \"Topic12\", \"Topic12\", \"Topic12\", \"Topic12\", \"Topic12\", \"Topic12\", \"Topic12\", \"Topic12\", \"Topic12\", \"Topic12\", \"Topic12\", \"Topic12\", \"Topic12\", \"Topic12\", \"Topic12\", \"Topic12\", \"Topic12\", \"Topic12\", \"Topic12\", \"Topic12\"], \"logprob\": [30.0, 29.0, 28.0, 27.0, 26.0, 25.0, 24.0, 23.0, 22.0, 21.0, 20.0, 19.0, 18.0, 17.0, 16.0, 15.0, 14.0, 13.0, 12.0, 11.0, 10.0, 9.0, 8.0, 7.0, 6.0, 5.0, 4.0, 3.0, 2.0, 1.0, -6.6566, -6.8107, -5.7843, -6.8542, -6.7757, -6.9601, -6.1472, -7.0283, -7.1274, -7.1371, -6.5782, -7.1231, -7.1147, -7.2541, -7.3227, -7.3314, -7.3369, -7.3437, -7.3581, -7.3807, -7.4026, -7.4131, -6.3823, -7.4371, -6.6952, -7.4349, -7.1912, -7.4768, -7.5165, -7.5191, -6.0836, -5.2759, -6.4627, -6.738, -6.9646, -6.3071, -6.9793, -6.5039, -4.6845, -3.8623, -4.9869, -6.91, -3.7408, -5.448, -5.7396, -4.6494, -5.4039, -6.5808, -3.6597, -3.0845, -3.7108, -5.2607, -5.2114, -5.3526, -5.8847, -4.0204, -4.3446, -5.6209, -5.8296, -3.699, -4.9066, -4.7565, -5.8379, -4.6943, -4.3008, -5.0957, -4.5882, -5.1249, -5.2342, -5.2956, -5.306, -4.703, -5.1016, -5.1444, -5.1604, -4.9404, -5.6132, -6.0214, -6.0599, -6.1164, -6.1865, -6.1969, -6.3087, -6.48, -6.5197, -6.5389, -5.913, -6.6362, -6.6466, -6.6556, -6.6556, -6.7212, -6.764, -6.8879, -6.918, -6.9307, -6.6579, -5.9129, -6.2553, -6.1205, -7.0608, -7.0773, -7.0915, -7.1525, -7.1669, -7.167, -5.3775, -6.2508, -6.151, -5.2193, -6.1032, -5.9939, -5.8829, -6.0792, -4.5692, -5.1807, -4.884, -5.4128, -3.1539, -5.2197, -5.8608, -5.6966, -4.3624, -3.7865, -4.9943, -4.2051, -5.4803, -4.2312, -4.2424, -3.5296, -4.0969, -4.5849, -5.5289, -4.4187, -4.8858, -5.0874, -4.3627, -5.4854, -5.53, -4.736, -5.167, -4.7717, -5.1821, -5.1973, -5.3803, -5.3233, -5.2164, -5.3537, -5.3185, -5.2094, -3.9562, -4.9816, -4.1528, -5.6598, -5.9841, -6.0143, -6.1901, -6.0961, -6.3825, -6.44, -4.9067, -6.497, -6.4958, -6.7796, -3.0602, -5.8286, -6.7619, -4.8155, -7.0182, -7.06, -6.0309, -6.6989, -5.5032, -6.721, -7.1573, -7.1573, -7.1573, -7.1573, -7.1573, -2.3891, -5.9367, -4.5333, -5.7315, -4.9933, -4.8998, -4.4716, -4.4013, -6.4349, -4.5967, -4.2156, -3.453, -4.6311, -3.3919, -3.0902, -5.6853, -3.9358, -5.4078, -3.8915, -4.5134, -4.6064, -3.9665, -3.2372, -4.3923, -4.3754, -4.992, -4.1445, -4.9389, -4.2132, -4.8141, -4.5439, -5.5773, -5.9064, -6.129, -6.0854, -6.2373, -6.1198, -4.8067, -6.3962, -3.5722, -6.4136, -6.4539, -6.4553, -6.4649, -6.4727, -6.4747, -6.4995, -6.5881, -6.6216, -6.6221, -6.6225, -5.3791, -6.6386, -6.8106, -6.8334, -6.8673, -6.8919, -6.9731, -6.9813, -7.0134, -6.1911, -5.3051, -5.7761, -6.2373, -4.8664, -6.1744, -5.9669, -5.8815, -3.2269, -6.1375, -5.6806, -4.048, -2.8247, -4.1925, -5.9014, -3.7297, -4.3687, -5.2094, -4.52, -5.0078, -5.7218, -4.9594, -4.6601, -4.623, -4.503, -5.3504, -5.2536, -4.9466, -4.5937, -5.4794, -4.6231, -5.1966, -5.0645, -4.735, -5.1203, -4.9655, -5.4089, -5.2753, -5.3111, -2.7613, -5.9125, -6.1966, -6.1967, -6.4507, -5.2915, -6.5828, -6.589, -6.5951, -6.5951, -6.5954, -6.7976, -6.8184, -6.8184, -5.6709, -6.857, -6.857, -6.857, -6.857, -6.857, -6.8593, -6.865, -6.8651, -6.8599, -6.1966, -6.7083, -6.3467, -7.018, -6.5412, -7.2128, -5.2351, -3.3543, -3.9277, -2.4811, -3.2639, -4.9742, -5.9772, -5.8168, -5.5617, -4.4987, -6.1892, -3.5013, -4.2546, -3.7569, -4.4175, -5.6508, -5.1352, -5.358, -3.9077, -5.2973, -4.1618, -5.771, -3.1508, -3.6942, -4.6829, -4.5797, -5.1529, -5.046, -4.2801, -4.8507, -4.8917, -5.4412, -4.9303, -5.3428, -5.4977, -5.5716, -4.2416, -5.1391, -5.8449, -5.9315, -5.9505, -5.826, -6.1343, -5.1623, -6.2088, -6.2609, -6.261, -6.2673, -5.7018, -6.2924, -6.2991, -6.2991, -6.3396, -6.4106, -6.5373, -6.5664, -6.5664, -6.5665, -6.5752, -6.5752, -6.5753, -6.5816, -6.5905, -6.5905, -5.7557, -5.8859, -5.8615, -6.036, -5.5058, -6.0534, -5.6884, -4.9288, -5.1886, -5.3774, -5.4782, -5.0105, -5.1141, -5.078, -5.2445, -4.8484, -5.4138, -5.1488, -3.5321, -4.559, -4.2142, -5.7654, -5.435, -4.3283, -4.9229, -4.6821, -5.0356, -5.0992, -5.1205, -4.8385, -4.964, -5.2657, -4.8483, -5.0985, -5.0683, -4.8131, -5.0498, -5.1956, -5.1977, -5.4621, -5.6615, -5.9918, -6.009, -6.009, -6.112, -6.1182, -6.1377, -6.1492, -6.128, -6.2687, -6.3196, -6.4458, -6.4635, -6.4636, -6.4738, -6.5161, -6.5322, -5.8254, -6.0283, -6.75, -6.75, -6.75, -6.75, -6.7697, -6.7701, -6.7818, -6.7818, -6.7818, -6.7818, -6.103, -6.2395, -5.9483, -5.9497, -5.2038, -6.3555, -4.6437, -4.8864, -3.9164, -5.9069, -4.3807, -4.9788, -3.5231, -3.9151, -4.0819, -4.6785, -4.5067, -4.9735, -4.8154, -4.9538, -4.7665, -3.9718, -4.4356, -3.7894, -4.9599, -5.3202, -5.0088, -5.1424, -5.2865, -5.4092, -4.5412, -5.4538, -4.9392, -5.3027, -5.2536, -5.1397, -5.1444, -5.0521, -5.1633, -5.2429, -4.3631, -3.6079, -5.1153, -4.4453, -5.4344, -4.8913, -2.4288, -5.6743, -4.2979, -5.7145, -5.7858, -5.7544, -5.836, -5.8472, -5.8977, -5.9322, -6.0889, -6.119, -6.2697, -5.1771, -5.0752, -6.3655, -6.4039, -6.4181, -6.4269, -6.428, -6.4422, -6.4422, -6.4702, -6.4795, -5.9067, -5.9343, -4.3767, -5.5545, -4.7017, -5.4525, -5.9164, -6.1624, -5.9654, -3.7761, -5.7897, -5.0017, -4.0795, -5.5099, -5.6809, -5.373, -4.6651, -5.1576, -4.8461, -5.3075, -5.2471, -5.3762, -5.3497, -5.5142, -5.4353, -5.4872, -5.3358, -5.4893, -5.4812, -5.5053, -5.3307, -5.623, -5.8475, -5.8517, -5.8518, -5.9695, -5.9929, -6.0693, -5.4224, -6.1172, -6.1417, -6.1418, -6.1488, -6.2108, -6.234, -6.234, -6.234, -6.2443, -6.2443, -6.2493, -6.2866, -6.2866, -6.2866, -6.4062, -6.4429, -6.4429, -5.9197, -5.6936, -6.4975, -6.4975, -5.545, -5.4459, -4.9135, -5.2841, -4.9848, -3.9821, -3.2763, -5.2291, -3.5451, -5.198, -4.4103, -5.2719, -5.229, -5.5514, -4.8416, -5.0705, -5.104, -4.5618, -5.2877, -4.6528, -5.1553, -4.9982, -5.4556, -4.7884, -4.9599, -5.0749, -5.3593, -5.4176, -5.4107, -5.5373, -3.8406, -5.3068, -5.3068, -5.3753, -5.5346, -5.5466, -5.5466, -5.5466, -5.6037, -5.7167, -5.8084, -5.8835, -5.892, -5.9441, -5.9441, -5.9533, -5.9534, -6.1758, -6.1873, -6.207, -6.207, -6.207, -6.2072, -6.2072, -6.2072, -6.2072, -6.2072, -6.2072, -6.2072, -6.2072, -5.7129, -5.4611, -4.0238, -4.89, -5.3952, -5.8424, -5.1502, -5.8165, -5.512, -5.1667, -5.2697, -5.4608, -4.9976, -5.2524, -4.7, -5.0874, -5.567, -5.4099, -5.6014, -4.4365, -4.7036, -4.6426, -5.2222, -5.1547, -5.3508, -5.4508, -5.2278, -5.2521, -5.4124, -5.454, -5.4476, -5.4286, -4.9775, -5.1711, -4.3124, -4.6382, -5.3451, -5.3608, -5.3528, -5.6992, -5.7425, -5.7518, -5.7518, -4.1867, -4.7103, -6.0054, -6.0054, -6.0054, -6.0054, -6.0054, -6.0054, -6.0055, -6.0175, -6.0175, -6.0175, -6.0175, -6.0175, -6.0175, -6.0175, -6.0175, -6.0175, -6.0175, -4.6977, -4.9342, -5.615, -4.8593, -5.3451, -5.6904, -5.3306, -5.339, -4.7103, -5.6069, -5.3499, -4.4162, -4.7029, -4.535, -5.7518, -4.8903, -5.8713, -5.4235, -5.3127, -4.5399, -5.4632, -4.5472, -4.7567, -4.8328, -5.1186, -5.251, -5.374, -5.311, -4.5251, -5.0037, -4.8337, -4.6196, -5.6556, -5.6556, -5.6787, -5.6985, -5.6985, -5.6985, -5.6985, -5.6985, -5.7104, -5.7104, -5.7104, -5.7104, -5.7104, -5.7104, -5.7104, -5.7104, -5.7104, -5.7104, -4.8591, -5.9453, -5.9997, -6.0717, -5.0381, -5.68, -5.4284, -5.5691, -5.6557, -5.7104, -4.1576, -4.5417, -4.8531, -5.0322, -5.0922, -5.4062, -5.1402, -4.9707, -5.1163, -4.8125, -5.0503, -5.2387, -5.4121, -5.2137, -5.3306, -5.5502, -5.4219, -5.6557, -5.5726, -5.6437], \"loglift\": [30.0, 29.0, 28.0, 27.0, 26.0, 25.0, 24.0, 23.0, 22.0, 21.0, 20.0, 19.0, 18.0, 17.0, 16.0, 15.0, 14.0, 13.0, 12.0, 11.0, 10.0, 9.0, 8.0, 7.0, 6.0, 5.0, 4.0, 3.0, 2.0, 1.0, 0.8604, 0.8532, 0.8516, 0.8509, 0.8454, 0.8451, 0.8416, 0.8409, 0.8345, 0.8331, 0.8329, 0.8324, 0.8285, 0.8253, 0.8199, 0.8192, 0.8187, 0.8181, 0.8168, 0.8149, 0.8129, 0.8121, 0.8119, 0.81, 0.8096, 0.8091, 0.8077, 0.8063, 0.8025, 0.8023, 0.7969, 0.7816, 0.7912, 0.7914, 0.7874, 0.7464, 0.7878, 0.7532, 0.5979, 0.4829, 0.5907, 0.7791, 0.4355, 0.624, 0.6552, 0.5131, 0.6062, 0.7426, 0.3738, 0.2652, 0.3373, 0.568, 0.5562, 0.5655, 0.6517, 0.322, 0.3689, 0.6004, 0.6408, 0.1833, 0.4371, 0.3629, 0.6282, 0.3222, 0.2081, 0.3848, 0.1978, 0.3291, 0.3608, 0.3756, 0.3687, 0.0267, 0.2285, 0.1655, 0.1286, -0.5618, 2.1079, 2.0795, 2.0778, 2.073, 2.0668, 2.0658, 2.0549, 2.0314, 2.0299, 2.0285, 2.0253, 2.0157, 2.0143, 2.013, 2.013, 2.0036, 1.9938, 1.9763, 1.9719, 1.967, 1.9644, 1.9524, 1.9448, 1.9439, 1.9424, 1.9412, 1.9394, 1.9269, 1.9238, 1.9238, 1.9042, 1.9065, 1.8726, 1.7899, 1.8401, 1.8099, 1.7546, 1.7906, 1.4288, 1.5625, 1.4641, 1.554, 0.7284, 1.465, 1.6798, 1.5779, 0.9266, 0.5559, 1.1338, 0.6441, 1.417, 0.5547, 0.471, -0.1799, 0.0793, 0.4234, 1.2767, -0.0735, 0.424, 0.6576, -0.3292, 1.1625, 1.2081, -0.2271, 0.4898, -0.7236, 0.1479, 0.1855, 0.7086, 0.3801, -0.4867, 0.4055, -0.0361, 2.3768, 2.3583, 2.3556, 2.3517, 2.3516, 2.3258, 2.3228, 2.3039, 2.301, 2.2794, 2.2713, 2.2699, 2.2629, 2.2625, 2.2047, 2.2021, 2.1934, 2.1675, 2.1674, 2.1626, 2.154, 2.1446, 2.1398, 2.1351, 2.1311, 2.1298, 2.1298, 2.1298, 2.1298, 2.1298, 2.1258, 2.1125, 2.0744, 2.0986, 2.0455, 2.0143, 1.9409, 1.8853, 2.1043, 1.8536, 1.7395, 1.3962, 1.6749, 1.117, 0.9579, 1.9441, 1.0724, 1.7853, 0.8383, 1.2316, 1.2116, 0.747, 0.1124, 0.9905, 0.9136, 1.4539, -0.111, 1.1645, -0.331, -0.4355, 2.4885, 2.4395, 2.4111, 2.3864, 2.38, 2.3725, 2.3705, 2.3644, 2.3493, 2.3478, 2.347, 2.3406, 2.3391, 2.3389, 2.3376, 2.3353, 2.3331, 2.3177, 2.3116, 2.3113, 2.311, 2.3043, 2.289, 2.2738, 2.2688, 2.2613, 2.2557, 2.2361, 2.2343, 2.2264, 2.219, 2.1602, 2.1826, 2.2004, 2.0231, 2.182, 2.1439, 2.096, 1.1517, 2.1475, 1.9138, 1.2047, 0.525, 1.1631, 1.9842, 0.3038, 0.6479, 1.2818, 0.6371, 1.0526, 1.7117, 0.9609, 0.6498, 0.4964, 0.2268, 1.2045, 1.0544, 0.5074, -0.2512, 1.2495, -0.4468, 0.5625, 0.098, -0.8527, 0.2235, -0.6203, 0.6996, -1.2272, -0.8022, 2.693, 2.599, 2.5593, 2.5593, 2.5148, 2.4996, 2.4877, 2.4863, 2.4851, 2.4851, 2.4848, 2.4374, 2.4321, 2.4321, 2.4284, 2.422, 2.422, 2.422, 2.4219, 2.4219, 2.42, 2.4198, 2.4196, 2.4195, 2.3998, 2.3928, 2.3785, 2.3766, 2.3255, 2.3145, 2.3069, 2.1468, 2.1497, 1.8975, 1.9887, 2.2, 2.2893, 2.2528, 2.1865, 1.9487, 2.2901, 1.6558, 1.8058, 1.5988, 1.7323, 2.0546, 1.8597, 1.9341, 1.2117, 1.8457, 1.1682, 2.0397, 0.1989, 0.4821, 1.0408, 0.8743, 1.3791, 1.2509, 0.0652, 0.4591, 0.1248, 1.4484, -0.8822, -1.4605, 2.7542, 2.7474, 2.7449, 2.7398, 2.7172, 2.7058, 2.7032, 2.6939, 2.6755, 2.6662, 2.663, 2.6538, 2.6538, 2.6527, 2.6504, 2.6481, 2.6468, 2.6468, 2.6392, 2.6251, 2.5979, 2.5914, 2.5913, 2.5913, 2.5893, 2.5893, 2.5892, 2.5878, 2.5857, 2.5857, 2.5832, 2.5635, 2.5393, 2.5285, 2.4225, 2.5087, 2.434, 2.228, 2.1646, 2.1972, 2.2159, 1.946, 1.9281, 1.893, 1.8629, 1.528, 1.9646, 1.7333, 0.3502, 1.036, 0.5717, 2.2291, 1.8225, 0.4014, 1.1563, 0.475, 1.0418, 1.147, 0.9488, 0.1698, 0.4188, 1.1846, -0.5059, 0.4027, 0.0942, -1.4634, -0.8735, -1.1621, -1.1495, 2.8725, 2.8504, 2.8042, 2.8014, 2.8014, 2.7839, 2.7828, 2.7793, 2.7771, 2.769, 2.7543, 2.7436, 2.716, 2.7119, 2.7118, 2.7094, 2.6993, 2.6953, 2.6848, 2.656, 2.6369, 2.6369, 2.6369, 2.6369, 2.6312, 2.6308, 2.6276, 2.6276, 2.6276, 2.6276, 2.5945, 2.565, 2.49, 2.3806, 1.921, 2.4233, 1.4845, 1.5594, 0.9328, 2.1118, 1.0998, 1.4773, 0.3592, 0.5999, 0.6478, 1.0891, 0.8762, 1.3131, 1.1503, 1.2785, 1.0515, 0.0763, 0.5727, -0.4397, 1.1436, 1.593, 1.1203, 1.2701, 1.3529, 1.5381, -0.196, 1.5412, 0.3232, 1.1862, 1.0433, 0.5315, -0.1279, -0.8758, -1.1298, -0.734, 2.9533, 2.9205, 2.9109, 2.8971, 2.8857, 2.8815, 2.8765, 2.8591, 2.8575, 2.854, 2.8403, 2.8375, 2.8362, 2.8361, 2.8287, 2.8235, 2.7977, 2.7924, 2.7636, 2.7557, 2.751, 2.7434, 2.7347, 2.7316, 2.7296, 2.7265, 2.7261, 2.7261, 2.7195, 2.7173, 2.6711, 2.6666, 2.4916, 2.5438, 2.0825, 2.354, 2.5318, 2.6242, 2.5244, 1.2321, 2.3645, 1.6462, 0.7064, 2.0521, 2.0488, 1.3623, -0.4888, 0.6808, -0.3373, 0.9894, 0.76, 1.1692, 1.0739, 1.4719, 1.0105, 1.3128, 0.0079, 0.4288, -0.0272, -1.4572, 3.1099, 3.0753, 3.0429, 3.0419, 3.0419, 3.0202, 3.0155, 2.9999, 2.9926, 2.9874, 2.9841, 2.9841, 2.9789, 2.9682, 2.9627, 2.9627, 2.9627, 2.9602, 2.9602, 2.959, 2.9498, 2.9498, 2.9498, 2.9185, 2.9084, 2.9084, 2.8974, 2.8963, 2.8928, 2.8928, 2.8063, 2.754, 2.5365, 2.5903, 2.4495, 1.7213, 1.0662, 2.2264, 0.4884, 2.0098, 1.2466, 2.047, 1.9909, 2.1659, 1.0848, 1.393, 1.428, 0.5953, 1.5557, 0.3637, 1.0187, 0.4823, 1.6963, -0.4431, -0.174, 0.0445, 0.7353, 0.1775, -0.0806, 1.6261, 3.6322, 3.5845, 3.5845, 3.5723, 3.5396, 3.5373, 3.5373, 3.5373, 3.5245, 3.4973, 3.4739, 3.4532, 3.451, 3.4359, 3.4359, 3.4332, 3.4331, 3.362, 3.3581, 3.3512, 3.3512, 3.3512, 3.3511, 3.3511, 3.3511, 3.3511, 3.3511, 3.3511, 3.3511, 3.3511, 3.3046, 3.2469, 2.3997, 2.6539, 2.9206, 3.11, 2.5671, 3.0638, 2.7721, 2.4729, 2.4508, 2.6193, 2.0883, 2.3222, 1.3605, 1.5031, 2.5301, 2.0623, 2.4679, -1.0869, -0.3583, -0.6091, 1.3094, 0.9245, 1.2858, 1.7569, -0.0653, -0.095, 0.8338, 0.9224, -0.1175, -1.5463, 3.9931, 3.9501, 3.9315, 3.931, 3.9088, 3.89, 3.87, 3.8028, 3.7881, 3.7848, 3.7848, 3.7302, 3.6989, 3.6889, 3.6888, 3.6888, 3.6888, 3.6888, 3.6888, 3.6888, 3.6839, 3.6839, 3.6839, 3.6839, 3.6839, 3.6839, 3.6839, 3.6839, 3.6839, 3.6839, 3.6735, 3.6715, 3.6252, 3.4479, 3.5144, 3.5919, 3.3875, 3.3579, 2.9951, 3.471, 3.2895, 2.7102, 2.7958, 2.6727, 3.444, 2.4786, 3.4692, 2.6914, 2.4079, -0.5064, 2.694, -1.1975, -0.4142, -0.4542, 0.8471, 0.6755, 1.3785, -0.5251, 4.3241, 4.2219, 4.2177, 4.1596, 4.0108, 4.0108, 4.0016, 3.9934, 3.9934, 3.9934, 3.9934, 3.9934, 3.9887, 3.9887, 3.9887, 3.9887, 3.9887, 3.9887, 3.9887, 3.9887, 3.9887, 3.9887, 3.896, 3.8856, 3.8597, 3.8215, 3.7793, 3.7587, 3.7493, 3.718, 3.7064, 3.6757, 2.3545, 2.351, 2.318, 2.5585, 2.3732, 3.175, 2.4548, 1.5577, 1.9792, 0.6415, 1.171, 1.5787, 2.4486, 0.8752, 1.6072, 2.607, 1.127, 3.4336, -0.1183, 1.9938]}, \"token.table\": {\"Topic\": [12, 11, 12, 12, 11, 1, 2, 4, 6, 7, 8, 10, 11, 2, 5, 6, 11, 12, 1, 4, 11, 6, 7, 4, 12, 1, 4, 5, 9, 12, 1, 7, 6, 8, 9, 1, 3, 6, 6, 8, 4, 7, 11, 10, 2, 4, 8, 1, 1, 2, 6, 9, 10, 11, 9, 10, 3, 1, 2, 7, 12, 11, 12, 2, 8, 11, 6, 6, 1, 9, 1, 2, 3, 5, 7, 1, 2, 3, 6, 7, 4, 1, 2, 4, 5, 7, 8, 11, 6, 10, 5, 1, 2, 3, 4, 5, 6, 7, 8, 10, 11, 1, 3, 4, 9, 11, 8, 9, 6, 8, 11, 1, 2, 3, 6, 7, 8, 10, 1, 2, 7, 2, 4, 9, 8, 11, 7, 1, 2, 3, 4, 5, 6, 7, 10, 11, 9, 11, 1, 2, 4, 5, 6, 7, 8, 9, 10, 1, 2, 4, 5, 6, 8, 1, 11, 4, 5, 1, 4, 5, 6, 7, 8, 10, 11, 7, 1, 5, 1, 2, 4, 7, 8, 9, 12, 1, 2, 3, 4, 5, 6, 7, 8, 9, 10, 10, 5, 12, 4, 5, 1, 7, 11, 1, 6, 5, 12, 5, 12, 1, 4, 5, 6, 8, 9, 11, 2, 5, 1, 5, 6, 7, 9, 3, 6, 1, 2, 3, 7, 3, 4, 8, 10, 11, 9, 9, 1, 2, 7, 9, 9, 1, 2, 8, 1, 7, 8, 3, 4, 2, 10, 10, 1, 6, 7, 8, 9, 10, 2, 10, 5, 7, 4, 10, 1, 10, 4, 4, 1, 2, 5, 8, 9, 10, 5, 7, 11, 1, 2, 3, 4, 6, 8, 9, 7, 1, 2, 6, 7, 8, 9, 5, 1, 6, 9, 1, 1, 2, 8, 1, 2, 5, 6, 7, 9, 1, 2, 11, 1, 2, 6, 8, 1, 8, 9, 11, 4, 8, 2, 8, 1, 4, 6, 8, 11, 1, 2, 6, 7, 9, 7, 11, 1, 2, 3, 4, 5, 6, 7, 9, 10, 11, 6, 1, 8, 9, 12, 1, 4, 5, 6, 1, 5, 10, 1, 10, 12, 4, 2, 3, 4, 8, 1, 2, 4, 5, 6, 1, 6, 11, 2, 1, 2, 6, 7, 8, 1, 2, 4, 5, 6, 7, 9, 11, 4, 1, 1, 4, 6, 2, 6, 5, 6, 2, 5, 12, 8, 5, 9, 4, 2, 4, 1, 6, 10, 1, 5, 11, 1, 4, 5, 9, 12, 8, 11, 12, 6, 4, 5, 6, 12, 8, 3, 1, 7, 1, 8, 12, 1, 2, 3, 4, 5, 6, 7, 8, 9, 12, 12, 11, 9, 1, 8, 7, 2, 1, 2, 7, 8, 6, 2, 1, 2, 4, 5, 12, 1, 3, 6, 10, 5, 10, 2, 8, 1, 9, 10, 10, 4, 6, 12, 7, 8, 11, 3, 6, 1, 5, 6, 4, 12, 1, 2, 4, 8, 9, 1, 3, 4, 6, 7, 8, 8, 1, 2, 3, 4, 5, 6, 8, 9, 7, 1, 2, 6, 7, 8, 10, 1, 11, 11, 1, 2, 3, 4, 7, 8, 9, 10, 12, 7, 12, 11, 8, 11, 6, 10, 11, 1, 2, 3, 4, 3, 1, 2, 4, 5, 6, 1, 2, 4, 5, 7, 6, 4, 12, 4, 1, 3, 6, 3, 3, 6, 3, 9, 4, 1, 2, 3, 4, 5, 6, 8, 9, 7, 10, 1, 1, 2, 3, 4, 5, 6, 9, 10, 7, 8, 1, 2, 4, 5, 6, 7, 8, 9, 8, 1, 2, 3, 6, 7, 10, 1, 2, 3, 6, 7, 8, 7, 9, 3, 10, 4, 12, 1, 4, 11, 6, 4, 1, 2, 8, 1, 10, 5, 1, 2, 6, 8, 9, 1, 6, 10, 1, 2, 3, 4, 5, 6, 7, 8, 9, 11, 12, 8, 12, 1, 6, 9, 6, 10, 1, 4, 5, 8, 9, 4, 7, 4, 11, 1, 3, 4, 8, 1, 2, 3, 6, 7, 2, 8, 1, 2, 3, 6, 7, 1, 1, 3, 7, 10, 1, 5, 9, 7, 1, 2, 6, 8, 1, 2, 3, 6, 7, 8, 2, 8, 5, 1, 4, 9, 5, 10, 12, 2, 12, 1, 2, 3, 7, 12, 1, 4, 5, 4, 12, 9, 6, 1, 2, 4, 4, 10, 1, 2, 6, 8, 7, 1, 12, 10, 4, 8, 11, 1, 2, 4, 9, 9, 12, 1, 2, 3, 4, 6, 7, 8, 9, 11, 2, 11, 1, 3, 5, 8, 5, 8, 12, 6, 11, 1, 8, 8, 1, 2, 3, 4, 5, 6, 7, 8, 9, 12, 1, 2, 5, 6, 9, 2, 9, 1, 2, 6, 2, 1, 2, 5, 8, 10, 11, 1, 2, 4, 5, 6, 8, 9, 10, 1, 2, 3, 4, 6, 8, 10, 4, 1, 3, 4, 8, 4, 3, 2, 11, 1, 2, 3, 6, 7, 4, 7, 9, 1, 4, 8, 5, 9, 7, 1, 4, 7, 1, 6, 9, 1, 2, 3, 6, 7, 8, 7, 7, 7, 3, 8, 2, 9, 2, 2, 6, 8, 1, 6, 7, 6, 1, 4, 10, 11, 8, 3, 1, 2, 7, 9, 1, 2, 5, 6, 7, 9, 1, 1, 2, 3, 6, 7, 1, 2, 3, 4, 5, 6, 7, 8, 9, 10, 11, 1, 2, 11, 12, 4, 10, 11, 1, 2, 4, 6, 8, 12, 1, 2, 3, 4, 5, 6, 8, 9, 10, 2, 1, 6, 10, 5, 1, 2, 3, 4, 5, 6, 7, 8, 9, 10, 12, 1, 3, 4, 6, 7, 8, 11, 10, 1, 2, 4, 5, 6, 7, 9, 12, 8, 7, 1, 2, 5, 6, 7, 10, 2, 1, 2, 3, 6, 7, 1, 2, 6, 7, 8, 4, 1, 2, 4, 5, 6, 7, 8, 1, 6, 1, 2, 5, 6, 8, 1, 2, 3, 4, 6, 7, 8, 1, 9, 7, 8, 12, 2, 8, 11, 1, 4, 5, 6, 2, 12, 3, 7, 1, 2, 4, 7, 8, 1, 2, 3, 4, 5, 6, 7, 8, 10, 1, 2, 4, 5, 6, 7, 8, 9, 11, 3, 1, 2, 3, 7, 1, 12, 1, 9, 10, 1, 2, 4, 6, 7, 9, 10, 1, 2, 4, 7, 8, 9, 12, 1, 2, 3, 4, 6, 7, 8, 9, 11, 5, 11, 6, 2, 4, 6, 1, 1, 2, 5, 6, 7, 8, 8, 4, 6, 7, 10, 1, 10, 2, 3, 9, 7, 9, 6, 7, 10, 5, 1, 3, 4, 5, 7, 10, 1, 4, 5, 6, 8, 9, 1, 2, 3, 6, 7, 8, 11, 3, 10, 1, 2, 3, 4, 5, 6, 7, 8, 9, 11, 4, 11, 1, 12, 10, 7, 1, 2, 4, 5, 6, 7, 8, 9, 11, 1, 2, 4, 5, 6, 8, 9, 10, 1, 2, 4, 1, 2, 7, 8, 5, 6, 1, 9, 10, 10, 1, 3, 1, 6, 1, 2, 12, 1, 2, 4, 6, 7, 8, 1, 2, 4, 6, 10, 2, 4, 11, 1, 7, 2, 4, 6, 8, 1, 4, 5, 1, 2, 2, 9, 10, 1, 9, 2, 6, 7, 12, 10, 1, 2, 4, 6, 10, 1, 11, 1, 6, 7, 9, 10, 2, 4, 10, 1, 2, 4, 6, 7, 4, 1, 4, 5, 12, 8, 1, 6, 1, 4, 5, 7, 1, 3, 4, 5, 9, 11, 1, 3, 8, 6, 7, 1, 5, 7, 8, 6, 3, 6, 10, 6, 4, 1, 1, 2, 9, 1, 2, 1, 2, 5, 8, 10, 6, 9, 12, 4, 5, 6, 11, 1, 2, 4, 8, 12, 7, 3, 6, 7, 1, 4, 5, 1, 3, 6, 3, 3, 1, 4, 5, 7, 7, 10, 1, 2, 5, 6, 7, 9, 10, 1, 2, 3, 7, 8, 1, 10, 1, 6, 7, 8, 9, 12, 3, 7, 1, 4, 7, 12, 3, 9, 1, 3, 4, 6, 10, 10, 5, 2, 7, 12, 2, 3, 7, 8, 5, 1, 4, 5, 6, 4, 5, 7, 11, 1, 4, 5, 7, 5, 5, 6, 8, 9, 8, 11, 2, 1, 12, 1, 3, 4, 1, 4, 5, 10, 7, 1, 2, 4, 5, 7, 8, 12, 1, 2, 3, 7, 7, 8, 8, 11, 4, 5, 9, 7, 6, 10, 2, 1, 2, 7, 8, 9, 10, 3, 11, 2, 9, 10, 2, 1, 2, 3, 4, 6, 7, 8, 9, 3, 12, 1, 2, 3, 4, 5, 6, 7, 8, 9, 10, 1, 4, 9, 4, 11, 7, 1, 2, 6, 7, 8, 1, 2, 4, 6, 7, 1, 2, 6, 10, 5, 1, 4, 5, 9, 10, 11, 10, 1, 2, 6, 9, 1, 2, 3, 4, 5, 6, 7, 8, 9, 10, 1, 2, 3, 6, 7, 1, 2, 4, 6, 7, 8, 9, 11, 4, 1, 2, 4, 6, 7, 2, 3, 7, 6, 11, 1, 7, 1, 3, 8, 11, 3, 7, 5, 9, 1, 6, 1, 2, 3, 4, 6, 7, 10, 9, 7, 2, 9, 10, 9, 1, 4, 5, 8, 8, 12, 1, 6, 1, 2, 8, 3, 4, 5, 11, 2, 11, 9, 1, 2, 6, 2, 1, 2, 5, 7, 12, 1, 4, 6, 11, 2, 1, 2, 4, 6, 11, 12, 1, 2, 4, 6, 7, 12, 1, 8, 5, 1, 5, 6, 2, 4, 9, 10, 2, 3, 4, 6, 7, 8, 11, 5, 6, 7, 8, 10, 11, 1, 6, 1, 3, 7, 1, 7, 1, 4, 5, 6, 7, 1, 2, 4, 5, 6, 7, 8, 9, 10, 1, 2, 4, 9, 10, 11, 1, 2], \"Freq\": [0.5387464643153111, 0.536126136737657, 0.5387462240439682, 0.5387464643153111, 0.5361272252489326, 0.2525231398486338, 0.09712428455716685, 0.15539885529146696, 0.2719479967600672, 0.03884971382286674, 0.11654914146860022, 0.05827457073430011, 0.01942485691143337, 0.3458048512236023, 0.23053656748240156, 0.11526828374120078, 0.23053656748240156, 0.5387464643153111, 0.15260992783477356, 0.7630496391738678, 0.5399578497025991, 0.6929698178698046, 0.17324245446745115, 0.7310763055235974, 0.5348811310590954, 0.04985360971402412, 0.24926804857012058, 0.3489752679981688, 0.29912165828414466, 0.5387464643153111, 0.19786704795663798, 0.5936011438699139, 0.8294983449253709, 0.13824972415422848, 0.6570716557022019, 0.4126856273141789, 0.10317140682854473, 0.5158570341427237, 0.7719723885280286, 0.15439447770560571, 0.9062625347548586, 0.8064722105280551, 0.5399583848362776, 0.4679367425969587, 0.09210429664865799, 0.09210429664865799, 0.828938669837922, 0.9534999054316656, 0.22302165128598583, 0.08920866051439433, 0.044604330257197164, 0.3122303118003802, 0.1338129907715915, 0.22302165128598583, 0.7222256136312489, 0.7882445642059644, 0.7136543470119632, 0.19710201511291842, 0.39420403022583683, 0.2628026868172245, 0.13140134340861226, 0.5399590946823029, 0.5348811310590954, 0.7059669374629515, 0.20170483927512897, 0.5399583848362776, 0.6270296946286825, 0.7864047644810089, 0.948188444403634, 0.6595636508447242, 0.4877301477842668, 0.08409140479039083, 0.18500109053885982, 0.033636561916156334, 0.18500109053885982, 0.40993102459410935, 0.1366436748647031, 0.2373284879229054, 0.08630126833560196, 0.12226013014210278, 0.8858022613149966, 0.16993172811215876, 0.4909138812129031, 0.018881303123573195, 0.13216912186501237, 0.03776260624714639, 0.11328781874143917, 0.018881303123573195, 0.741532919092278, 0.7206094178167374, 0.7078209902653775, 0.5874265737191656, 0.13481921364046426, 0.06740960682023213, 0.028889831494385197, 0.03851977532584693, 0.04814971915730866, 0.06740960682023213, 0.009629943831461733, 0.009629943831461733, 0.009629943831461733, 0.23866261915111067, 0.23866261915111067, 0.11933130957555534, 0.178996964363333, 0.23866261915111067, 0.7803250577455474, 0.6519411299126772, 0.8284035665970233, 0.8632982756924246, 0.07848166142658405, 0.23534896118732393, 0.054311298735536286, 0.47069792237464786, 0.018103766245178763, 0.07241506498071505, 0.09051883122589381, 0.036207532490357526, 0.20073866048661873, 0.3011079907299281, 0.40147732097323746, 0.9524410806541812, 0.680679754796122, 0.910983276608636, 0.8305018470510588, 0.5399590946823029, 0.7885746749891552, 0.485962369870674, 0.23736775822065923, 0.06415344816774574, 0.03368056028806651, 0.01443452583774279, 0.08179564641387582, 0.07217262918871395, 0.00481150861258093, 0.003207672408387287, 0.7459088929378714, 0.14918177858757428, 0.5116673471856851, 0.13644462591618267, 0.05457785036647307, 0.21148917017008315, 0.0204666938874274, 0.006822231295809134, 0.013644462591618268, 0.03411115647904567, 0.0204666938874274, 0.48335069808613307, 0.21482253248272581, 0.09398485796119255, 0.06713204140085181, 0.026852816560340727, 0.10741126624136291, 0.9160552961177734, 0.5361292216937341, 0.178852121749093, 0.715408486996372, 0.15578314172153937, 0.22659366068587547, 0.39653890620028204, 0.07081051896433609, 0.04248631137860165, 0.028324207585734434, 0.0849726227572033, 0.5361146735260526, 0.8860656965758389, 0.9723372668165522, 0.7119804283176571, 0.689640103165555, 0.022246454940824355, 0.06673936482247306, 0.022246454940824355, 0.04449290988164871, 0.04449290988164871, 0.11123227470412177, 0.6262269889088784, 0.12481500122582456, 0.004303965559511192, 0.0516475867141343, 0.1054471562080242, 0.023671810577311554, 0.021519827797555957, 0.030127758916578342, 0.008607931119022383, 0.004303965559511192, 0.45849522700514517, 0.38460819020362963, 0.38460819020362963, 0.620704746371994, 0.7078244276506985, 0.9317701367951008, 0.035837312953657725, 0.4551639215791403, 0.22265653643135955, 0.6679696092940787, 0.8661426244047771, 0.528689809511351, 0.7760263512080267, 0.6146197375527396, 0.5802725297467229, 0.13263372108496524, 0.2210562018082754, 0.005526405045206885, 0.01105281009041377, 0.038684835316448195, 0.005526405045206885, 0.6918296583203621, 0.2594361218701358, 0.32843388623679187, 0.12316270733879695, 0.08210847155919797, 0.32843388623679187, 0.08210847155919797, 0.8055957073369291, 0.10069946341711614, 0.10200339865626616, 0.02550084966406654, 0.7969015520020793, 0.07012733657618299, 0.1055768877210197, 0.4223075508840788, 0.1055768877210197, 0.3167306631630591, 0.1055768877210197, 0.7950199464276255, 0.7409562052665638, 0.619680147811249, 0.06196801478112491, 0.12393602956224982, 0.18590404434337474, 0.6405219451621922, 0.356773227626486, 0.356773227626486, 0.2548380197332043, 0.2858848347462915, 0.06352996327695368, 0.6035346511310599, 0.6928466818531346, 0.830400896556255, 0.8696755305240911, 0.4679367425969587, 0.7882365792638112, 0.40723709503856736, 0.02036185475192837, 0.1221711285115702, 0.14253298326349856, 0.0610855642557851, 0.2443422570231404, 0.1162871923505079, 0.8721539426288093, 0.7078215089514658, 0.8064724938898858, 0.7515649558391763, 0.7498473539733066, 0.6869400667203711, 0.27477602668814843, 0.7514841254050221, 0.9060330081742572, 0.7188370380816644, 0.12355011592028607, 0.07862280104018204, 0.04492731488010403, 0.022463657440052014, 0.011231828720026007, 0.5135968989277575, 0.14674197112221643, 0.29348394224443286, 0.5107890484487525, 0.1891811290550935, 0.01891811290550935, 0.04729528226377337, 0.06621339516928272, 0.028377169358264027, 0.13242679033856544, 0.7238833291719825, 0.7124335181607973, 0.09826669216010996, 0.012283336520013744, 0.061416682600068724, 0.07370001912008246, 0.04913334608005498, 0.6879582404746164, 0.5034821753658036, 0.05594246392953374, 0.4475397114362699, 0.9486329304334639, 0.08608510150593256, 0.7747659135533931, 0.08608510150593256, 0.6741373704954623, 0.04396548068448667, 0.07327580114081111, 0.08793096136897334, 0.029310320456324448, 0.08793096136897334, 0.4420215956992082, 0.2210107978496041, 0.2210107978496041, 0.04658584242259562, 0.006655120346085088, 0.053240962768680705, 0.8917861263754019, 0.1339324701286818, 0.1339324701286818, 0.2678649402573636, 0.4017974103860454, 0.756111679294026, 0.1890279198235065, 0.3215132898714387, 0.6430265797428774, 0.3024001152270485, 0.18900007201690533, 0.37800014403381066, 0.037800014403381064, 0.037800014403381064, 0.5120315060144712, 0.17067716867149044, 0.08533858433574522, 0.04266929216787261, 0.21334646083936304, 0.17404381724944584, 0.6961752689977834, 0.527273844770329, 0.09603916458316707, 0.09886384589443668, 0.13652626337803161, 0.07909107671554935, 0.013181846119258224, 0.03295461529814556, 0.0037662417483594925, 0.007532483496718985, 0.004707802185449366, 0.8641004681884037, 0.16558100808243628, 0.8279050404121814, 0.4151989145346363, 0.4151989145346363, 0.18752443211054887, 0.37504886422109773, 0.04688110802763722, 0.37504886422109773, 0.3063203121464532, 0.6126406242929064, 0.0765800780366133, 0.23756885805148703, 0.47513771610297406, 0.23756885805148703, 0.8720952882958405, 0.16235950272452987, 0.16235950272452987, 0.16235950272452987, 0.5682582595358545, 0.578582708245719, 0.12310270388206787, 0.2092745965995154, 0.024620540776413576, 0.04924108155282715, 0.6288338914258864, 0.20961129714196214, 0.1572084728564716, 0.968873630271231, 0.3030798802829778, 0.3636958563395733, 0.07576997007074444, 0.22730991021223332, 0.03030798802829778, 0.3947516894552882, 0.11610343807508477, 0.27864825138020344, 0.023220687615016954, 0.11610343807508477, 0.023220687615016954, 0.023220687615016954, 0.04644137523003391, 0.889755065119247, 0.9506634148746861, 0.5797101112986084, 0.06441223458873425, 0.3220611729436713, 0.7684573333358998, 0.19211433333397496, 0.7078242156274297, 0.6343939221556293, 0.8285263702122935, 0.39394375777207685, 0.39394375777207685, 0.7351853692596233, 0.7615194315617161, 0.21757698044620458, 0.8740191195807537, 0.8883185506513, 0.6601290284163366, 0.4352574961459694, 0.5078004121702977, 0.6633383223064584, 0.9441085307900671, 0.7080696905253487, 0.5399578497025991, 0.9305859837538754, 0.6925479499733631, 0.11542465832889386, 0.05771232916444693, 0.11542465832889386, 0.771701140879178, 0.5788640334072903, 0.28943201670364516, 0.7609876244980368, 0.31817643247147026, 0.6363528649429405, 0.6912615714721226, 0.17281539286803066, 0.9447414266791463, 0.6633320908787144, 0.9229414982162031, 0.061529433214413544, 0.8828071015561014, 0.35680691739154646, 0.35680691739154646, 0.4154526003191883, 0.07111350816274394, 0.20585489205004825, 0.10105603791547824, 0.01122844865727536, 0.08608477303911108, 0.09731322169638644, 0.014971264876367145, 0.9127163923657674, 0.5214347154403347, 0.5348811310590954, 0.5399590946823029, 0.8918141709420613, 0.8801433100061974, 0.6336745083417187, 0.8217461328621338, 0.8967392376766466, 0.48129284667352074, 0.0687561209533601, 0.24064642333676037, 0.17189030238340025, 0.6270299382986881, 0.9537395650238504, 0.42317569171857705, 0.06510395257208879, 0.22786383400231072, 0.16275988143022194, 0.13020790514417757, 0.381656504391815, 0.17348022926900683, 0.41635255024561635, 0.034696045853801365, 0.7119538907144997, 0.8735977916984846, 0.8686750572242361, 0.633675182657537, 0.5427176284712872, 0.10854352569425745, 0.3256305770827723, 0.783101071052294, 0.9471737465734096, 0.9195947776902732, 0.5387450048185034, 0.20199200372130055, 0.20199200372130055, 0.4039840074426011, 0.7136540048513732, 0.7609884315180807, 0.9087644101395965, 0.7030457882745217, 0.2343485960915072, 0.8599503989256451, 0.12899255983884678, 0.7716281160567192, 0.09892668154573322, 0.05935600892743994, 0.019785336309146646, 0.03957067261829329, 0.3539723627142846, 0.3747942664033602, 0.12493142213445341, 0.062465711067226704, 0.04164380737815113, 0.020821903689075567, 0.9100726298221921, 0.4746812174416132, 0.17382692469692876, 0.026742603799527503, 0.15376997184728314, 0.10028476424822813, 0.026742603799527503, 0.026742603799527503, 0.006685650949881876, 0.7885737259752782, 0.5916284133345895, 0.07214980650421823, 0.1875894969109674, 0.05771984520337459, 0.04328988390253094, 0.05771984520337459, 0.8553306647715647, 0.4579174364734926, 0.6691774766367927, 0.4754577687847237, 0.10400638692165831, 0.044574165823567845, 0.16343860801974877, 0.05943222109809046, 0.07429027637261308, 0.044574165823567845, 0.02971611054904523, 0.014858055274522615, 0.31984002121499416, 0.31984002121499416, 0.6902805938270771, 0.32565127314846043, 0.32565127314846043, 0.829828758114735, 0.08298287581147351, 0.08298287581147351, 0.06860527378377736, 0.1372105475675547, 0.754658011621551, 0.6644174612992324, 0.8423797042137965, 0.0656575594708023, 0.1313151189416046, 0.5252604757664184, 0.1313151189416046, 0.0656575594708023, 0.036056476145631816, 0.2163388568737909, 0.10816942843689545, 0.4326777137475818, 0.2523953330194227, 0.7568627333733141, 0.4461661431691237, 0.4461661431691237, 0.8859427341907291, 0.2719902573983893, 0.6119780791463758, 0.06799756434959732, 0.9400186560580357, 0.8967085641992284, 0.6270319215526321, 0.6416529467002419, 0.7198598377413644, 0.8719817891585244, 0.5330478791693889, 0.11341444237646571, 0.06804866542587942, 0.056707221188232855, 0.03402433271293971, 0.056707221188232855, 0.10207299813881913, 0.022682888475293143, 0.6381763460678612, 0.46795125574660507, 0.9152384265954323, 0.6750602631960501, 0.04038822087497736, 0.05192771255354232, 0.0865461875892372, 0.04038822087497736, 0.06346720423210728, 0.011539491678564958, 0.023078983357129917, 0.3447778056871486, 0.5746296761452476, 0.6293705865576025, 0.0484131220428925, 0.10374240437762679, 0.05532928233473428, 0.0484131220428925, 0.05532928233473428, 0.0484131220428925, 0.01383232058368357, 0.7172023100317176, 0.5855187293979834, 0.18412538660313946, 0.18780789433520226, 0.003682507732062789, 0.025777554124439526, 0.011047523196188368, 0.23948195371630746, 0.4789639074326149, 0.14635008282663234, 0.07982731790543582, 0.053218211936957215, 0.013304552984239304, 0.7392984138984512, 0.6783455646849078, 0.8024931614739015, 0.4679367425969587, 0.751399437339537, 0.6709996580056863, 0.4523123174607484, 0.3289544126987261, 0.20559650793670384, 0.885568674764343, 0.8246335406059431, 0.6075578615425392, 0.14295479095118568, 0.21443218642677853, 0.9224086974303144, 0.0768673914525262, 0.8703570491352276, 0.7406716140354058, 0.10773405295060448, 0.040400269856476684, 0.040400269856476684, 0.05386702647530224, 0.39259452315885257, 0.13086484105295085, 0.39259452315885257, 0.585352541774641, 0.009595943307781, 0.038383773231124, 0.09595943307781, 0.076767546462248, 0.057575659846686, 0.086363489770029, 0.009595943307781, 0.038383773231124, 0.009595943307781, 0.6324128769570421, 0.8695748031463427, 0.5387447854334904, 0.4761250877429313, 0.4232223002159389, 0.05290278752699236, 0.6387485470087598, 0.913158262921039, 0.2952644603807602, 0.2952644603807602, 0.04218063719725146, 0.16872254878900583, 0.2109031859862573, 0.6602779331260742, 0.22009264437535805, 0.7471336356325032, 0.5399578497025991, 0.8435256473466436, 0.04686253596370242, 0.04686253596370242, 0.8389094636949576, 0.45833381796272443, 0.2880955427194268, 0.22261928301046616, 0.006547625970896064, 0.01964287791268819, 0.21629373108481392, 0.6488811932544417, 0.3991669808804228, 0.07391981127415237, 0.280895282841779, 0.07391981127415237, 0.1626235848031352, 0.8855720927516305, 0.6803273138714048, 0.10078923168465256, 0.1259865396058157, 0.07559192376348942, 0.25878599842938155, 0.6038339963352236, 0.12939299921469077, 0.8734097636973257, 0.48419765495628536, 0.08069960915938089, 0.363148241217214, 0.040349804579690444, 0.04395685468981709, 0.08791370937963418, 0.5274822562778051, 0.04395685468981709, 0.21978427344908544, 0.04395685468981709, 0.8133836871086416, 0.622017480646714, 0.7946137999250025, 0.17571840009126746, 0.6150144003194361, 0.17571840009126746, 0.6102649895600695, 0.20342166318668983, 0.5348811310590954, 0.7689283170744496, 0.8456540838525215, 0.11960291474297456, 0.3986763824765819, 0.11960291474297456, 0.23920582948594912, 0.07973527649531638, 0.2426587059649091, 0.29119044715789094, 0.4367856707368364, 0.742189111538895, 0.148437822307779, 0.7921066479437601, 0.7376588876793196, 0.0930773851542463, 0.7446190812339704, 0.0930773851542463, 0.2553191090251485, 0.510638218050297, 0.42510902401547, 0.45780971817050614, 0.0654013883100723, 0.03270069415503615, 0.638189259878742, 0.7045753945717425, 0.1761438486429356, 0.7102441801053769, 0.17554188329274548, 0.7021675331709819, 0.4579211284141404, 0.11428821428334514, 0.17143232142501771, 0.28572053570836287, 0.34286464285003543, 0.6690528715874987, 0.22301762386249957, 0.5947157208097743, 0.05550680060891226, 0.015859085888260648, 0.015859085888260648, 0.04757725766478194, 0.15066131593847615, 0.04757725766478194, 0.06343634355304259, 0.007929542944130324, 0.3626126764162926, 0.634572183728512, 0.30070489660790434, 0.07517622415197608, 0.15035244830395217, 0.3758811207598804, 0.8214093771106685, 0.8957225123874748, 0.5348811310590954, 0.2326634404301512, 0.4653268808603024, 0.1796445344320504, 0.7185781377282016, 0.6474015821039659, 0.49816917496280577, 0.09303159291474083, 0.2700917213653766, 0.03601222951538355, 0.021007133883973735, 0.015005095631409811, 0.0240081530102557, 0.03601222951538355, 0.006002038252563925, 0.5214347154403347, 0.541780875558154, 0.04514840629651284, 0.04514840629651284, 0.04514840629651284, 0.270890437779077, 0.8059286376112998, 0.9181921353755954, 0.9568627924025039, 0.025180599800065893, 0.8324469057280153, 0.8796030615426778, 0.5043573937731228, 0.05933616397330857, 0.1483404099332714, 0.1780084919199257, 0.05933616397330857, 0.029668081986654285, 0.49182325805848964, 0.015865266388983536, 0.11105686472288476, 0.12692213111186829, 0.06346106555593414, 0.047595799166950614, 0.11105686472288476, 0.03173053277796707, 0.5657888096523076, 0.1676411287858689, 0.010477570549116806, 0.1466859876876353, 0.020955141098233612, 0.06286542329470084, 0.020955141098233612, 0.8802377539965619, 0.7749748880907096, 0.02279337906149146, 0.04558675812298292, 0.13676027436894875, 0.9134894551844407, 0.7136540048513732, 0.296635238565325, 0.59327047713065, 0.44422880183580205, 0.2169489497337638, 0.29959616867995953, 0.010330902368274466, 0.020661804736548932, 0.2202243897850168, 0.6606731693550504, 0.7222793618245806, 0.5085641620763414, 0.06357052025954267, 0.38142312155725605, 0.7081321746706118, 0.6783461276134803, 0.7462796601202369, 0.5031291251927041, 0.4472258890601814, 0.788573720380776, 0.8584347411105879, 0.07803952191914436, 0.7609478065535169, 0.5005965227768717, 0.13905458966024214, 0.027810917932048426, 0.08343275379614529, 0.05562183586409685, 0.19467642552433898, 0.7885743538659744, 0.8064722105280551, 0.8557385318106786, 0.7907515181415157, 0.6262459043893408, 0.7195401105522286, 0.7911956893707159, 0.768927892918976, 0.842266417104394, 0.12032377387205628, 0.625009720886773, 0.09169200491858089, 0.6418440344300662, 0.18338400983716177, 0.6312824569415046, 0.5229589796729687, 0.29053276648498255, 0.17431965989098955, 0.906744314915839, 0.6519843646754451, 0.8072070715570581, 0.24539192666574944, 0.5608958323788559, 0.07011197904735698, 0.14022395809471397, 0.7593546922779725, 0.05730978809645076, 0.02865489404822538, 0.08596468214467613, 0.01432744702411269, 0.05730978809645076, 0.9727544274659307, 0.017755711932329866, 0.07102284772931947, 0.5859384937668857, 0.14204569545863893, 0.19531283125562854, 0.5876853592569437, 0.08208938351525562, 0.0783580479009258, 0.11007440062272912, 0.011194006842989402, 0.018656678071649002, 0.016791010264484103, 0.011194006842989402, 0.06343270544360662, 0.013059674650154302, 0.009328339035824501, 0.2428690221614178, 0.7286070664842534, 0.7101719870995119, 0.35508599354975595, 0.19774303492473574, 0.19774303492473574, 0.3954860698494715, 0.2538824506727249, 0.3231231190380135, 0.13848133673057722, 0.11540111394214768, 0.11540111394214768, 0.023080222788429538, 0.2295426966059433, 0.005738567415148583, 0.0631242415666344, 0.15494132020901172, 0.3385754774937664, 0.09181707864237733, 0.017215702245445746, 0.06886280898178299, 0.022954269660594332, 0.8501687559809135, 0.95980385576948, 0.8870295991495515, 0.4679367425969587, 0.4536670833715507, 0.6548447753387641, 0.10701743410205482, 0.010192136581148079, 0.04331658046987933, 0.06879692192274953, 0.020384273162296157, 0.040768546324592314, 0.010192136581148079, 0.025480341452870196, 0.015288204871722118, 0.5387447854334904, 0.7079844552654838, 0.08453545734513239, 0.021133864336283097, 0.03170079650442465, 0.1479370503539817, 0.37637573034399696, 0.37637573034399696, 0.7545918042785912, 0.2325798331075488, 0.1661284522196777, 0.06645138088787109, 0.03322569044393554, 0.2325798331075488, 0.26580552355148435, 0.7609461656457296, 0.921117489512072, 0.8146908365597028, 0.8064722105280551, 0.1430575966709092, 0.5722303866836368, 0.047685865556969735, 0.09537173111393947, 0.047685865556969735, 0.09537173111393947, 0.7252154961459766, 0.04027529029840201, 0.14096351604440704, 0.6242669996252311, 0.020137645149201005, 0.18123880634280903, 0.38720016816331204, 0.07040003057514765, 0.38720016816331204, 0.07040003057514765, 0.10560004586272147, 0.8430038885137331, 0.4651751442098201, 0.12135003761995307, 0.08090002507996871, 0.1820250564299296, 0.08090002507996871, 0.040450012539984356, 0.020225006269992178, 0.08727743313936884, 0.8727743313936883, 0.18724378610090214, 0.014403368161607857, 0.5617313583027064, 0.1584370497776864, 0.07201684080803929, 0.24040458229815834, 0.21931646104393393, 0.35849806132181505, 0.004217624250844884, 0.0253057455050693, 0.13074635177619137, 0.021088121254224417, 0.8661442494222044, 0.07217868745185037, 0.9635488022775466, 0.9271016828044538, 0.04522447233192457, 0.0510363880175796, 0.9186549843164328, 0.536126136737657, 0.39893809720998397, 0.25895981748718255, 0.3219500433624432, 0.01399782797228014, 0.806946488498395, 0.11527806978548501, 0.6756247328581435, 0.16890618321453588, 0.24983669322057891, 0.16655779548038596, 0.1873775199154342, 0.24983669322057891, 0.1457380710453377, 0.18295577850074424, 0.17306627696016347, 0.2571270400551, 0.034613255392032694, 0.014834252310871154, 0.06922651078406539, 0.08900551386522693, 0.17306627696016347, 0.004944750770290385, 0.23321619939077234, 0.14351766116355222, 0.035879415290888055, 0.23321619939077234, 0.035879415290888055, 0.14351766116355222, 0.14351766116355222, 0.035879415290888055, 0.017939707645444027, 0.976910110805228, 0.01825856504107879, 0.01825856504107879, 0.9311868170950184, 0.01825856504107879, 0.8636947166842153, 0.6541258154151425, 0.1399750932309316, 0.699875466154658, 0.1399750932309316, 0.6100366056810297, 0.06310723507045135, 0.021035745023483782, 0.06310723507045135, 0.2313931952583216, 0.021035745023483782, 0.021035745023483782, 0.6339951853983153, 0.030190246923729302, 0.12076098769491721, 0.030190246923729302, 0.030190246923729302, 0.060380493847458604, 0.060380493847458604, 0.5821396948506228, 0.04954380381707428, 0.061929754771342854, 0.07431570572561143, 0.04954380381707428, 0.02477190190853714, 0.01238595095426857, 0.11147355858841713, 0.02477190190853714, 0.8391044140953581, 0.536126136737657, 0.9486324999362815, 0.8183494448667454, 0.14008415134075558, 0.8405049080445334, 0.9562066479118875, 0.3580296468974449, 0.41770125471368563, 0.059671607816240806, 0.059671607816240806, 0.029835803908120403, 0.029835803908120403, 0.9211638974746144, 0.12875116340246007, 0.5150046536098403, 0.12875116340246007, 0.25750232680492013, 0.9207199984904133, 0.4679367425969587, 0.26369409993177095, 0.6780705426816968, 0.037670585704538705, 0.7276020032928383, 0.911037814184282, 0.9469230300521272, 0.7811146450368458, 0.19527866125921145, 0.8703115425058746, 0.24623807706634146, 0.006313796847854909, 0.27149326445776106, 0.47353476358911817, 0.7995989832176988, 0.4619922551803714, 0.48740188848761573, 0.10595693227991645, 0.12714831873589974, 0.021191386455983292, 0.10595693227991645, 0.14833970519188305, 0.37357640996891767, 0.18034723239878783, 0.16746528722744586, 0.01288194517134199, 0.15458334205610386, 0.05152778068536796, 0.038645835514025964, 0.6836331398961308, 0.4679367425969587, 0.5590373135986495, 0.2007452171558787, 0.005082157396351359, 0.06352696745439199, 0.0025410786981756796, 0.035575101774459515, 0.0025410786981756796, 0.010164314792702718, 0.11434854141790558, 0.010164314792702718, 0.9016167387420456, 0.5399578497025991, 0.20961009893708551, 0.6288302968112566, 0.7206094178167374, 0.7996444145136172, 0.4909296694884847, 0.2019146221283284, 0.015836440951241443, 0.015836440951241443, 0.10293686618306937, 0.03167288190248289, 0.10293686618306937, 0.03167288190248289, 0.007918220475620722, 0.5351096186858776, 0.1684604355122207, 0.009909437383071807, 0.009909437383071807, 0.019818874766143614, 0.019818874766143614, 0.21800762242757973, 0.019818874766143614, 0.09631514074167173, 0.09631514074167173, 0.6742059851917022, 0.31727060868103074, 0.5023451304116321, 0.13219608695042948, 0.0528784347801718, 0.6773609200283636, 0.9314685099954958, 0.1350747447348435, 0.270149489469687, 0.40522423420453046, 0.7622890870824583, 0.050773155443148324, 0.9139167979766698, 0.929260972669278, 0.05466241015701635, 0.20565530710872076, 0.6855176903624025, 0.06855176903624026, 0.48298810335312037, 0.1609960344510401, 0.11499716746502865, 0.04599886698601146, 0.02299943349300573, 0.1609960344510401, 0.6309549584775612, 0.017052836715609764, 0.11936985700926835, 0.1875812038717074, 0.05115851014682929, 0.9350477438571929, 0.6549613050984433, 0.26198452203937733, 0.2146367350111114, 0.6439102050333343, 0.8717357751333291, 0.7033870028613252, 0.14067740057226505, 0.14067740057226505, 0.5802728455496795, 0.2763204026427045, 0.11052816105708181, 0.900488199999264, 0.0600325466666176, 0.3410247214991082, 0.5115370822486622, 0.1136749071663694, 0.9422043969720151, 0.6519410131830026, 0.622195433753669, 0.0622195433753669, 0.2488781735014676, 0.0622195433753669, 0.46795125574660507, 0.5664106980544189, 0.08714010739298753, 0.28320534902720945, 0.04357005369649376, 0.8735979710824373, 0.1257098061915355, 0.7542588371492128, 0.6578276776990056, 0.09073485209641458, 0.06805113907231093, 0.06805113907231093, 0.09073485209641458, 0.8334473736516752, 0.09260526373907502, 0.4679367425969587, 0.561210812413198, 0.19718217733436685, 0.030335719589902593, 0.045503579384853894, 0.15167859794951297, 0.9412981077916641, 0.015448393202934818, 0.007724196601467409, 0.965524575183426, 0.007724196601467409, 0.9496268712279408, 0.9264401097754121, 0.9421880902459384, 0.036919413177594805, 0.8491465030846805, 0.08614529741438788, 0.012306471059198267, 0.23183885356723574, 0.057959713391808936, 0.2555496454093394, 0.434697850438567, 0.010538129707601625, 0.010538129707601625, 0.851263837423979, 0.05007434337788112, 0.05007434337788112, 0.30536702749993555, 0.6107340549998711, 0.2508647324890868, 0.4181078874818114, 0.16724315499272455, 0.16724315499272455, 0.7376520634595717, 0.7484859541359481, 0.2724826249109377, 0.5449652498218754, 0.6387476755352296, 0.9731923339498316, 0.9149891500212236, 0.9004008397792075, 0.06431434569851482, 0.03215717284925741, 0.2560127196850418, 0.6948916677165421, 0.12485694629910815, 0.2497138925982163, 0.18728541944866223, 0.12485694629910815, 0.3121423657477704, 0.6312823404478325, 0.2147195976127122, 0.6441587928381366, 0.24926031427001913, 0.6854658642425526, 0.06231507856750478, 0.06231507856750478, 0.7318337206675044, 0.0665303382425004, 0.1330606764850008, 0.0166325845606251, 0.0332651691212502, 0.8860692364039464, 0.19594036754446642, 0.48985091886116605, 0.19594036754446642, 0.07177153700251786, 0.7894869070276964, 0.07177153700251786, 0.22031330919811906, 0.7098984407494947, 0.07343776973270635, 0.9659691101667924, 0.7136543470119632, 0.3753571306920744, 0.12511904356402478, 0.4587698264014243, 0.04170634785467493, 0.6432361412848175, 0.7831048166044494, 0.6286693784151748, 0.07143970209263349, 0.014287940418526698, 0.14287940418526698, 0.07143970209263349, 0.042863821255580095, 0.014287940418526698, 0.12681522924199815, 0.03925233286061847, 0.7397555039116559, 0.09360171682147482, 0.890237999867563, 0.8875266328886371, 0.09342385609354074, 0.7649555588853225, 0.12749259314755373, 0.021248765524592293, 0.021248765524592293, 0.042497531049184585, 0.5387447854334904, 0.8410878717626075, 0.6295628770772606, 0.4284774568203188, 0.25708647409219126, 0.1713909827281275, 0.08569549136406375, 0.7136540048513732, 0.6570716971385336, 0.020913779285534975, 0.5646720407094443, 0.1673102342842798, 0.18822401356981477, 0.06274133785660492, 0.46795125574660507, 0.8391086183923453, 0.2741175713014918, 0.5482351426029836, 0.1370587856507459, 0.06650911429131173, 0.6650911429131173, 0.16627278572827933, 0.06650911429131173, 0.7078270237171671, 0.3399876090393998, 0.008094943072366662, 0.5585510719932996, 0.08904437379603328, 0.616525467751102, 0.2920383794610483, 0.06489741765801073, 0.032448708829005364, 0.4955360550120601, 0.015485501719126878, 0.37165204125904505, 0.10839851203388814, 0.8619969763542954, 0.17374598667252858, 0.17374598667252858, 0.08687299333626429, 0.5212379600175857, 0.3734281835029798, 0.3734281835029798, 0.7341632156706215, 0.785067156212009, 0.13084452603533483, 0.10686975178519614, 0.7837115130914384, 0.10686975178519614, 0.721857151044164, 0.0721857151044164, 0.09624762013922188, 0.09624762013922188, 0.8219826626161993, 0.5637437920623457, 0.0617801415958735, 0.13128280089123118, 0.15445035398968376, 0.015445035398968375, 0.046335106196905125, 0.023167553098452563, 0.022078749478451266, 0.022078749478451266, 0.9273074780949533, 0.022078749478451266, 0.08465735783447598, 0.8889022572619978, 0.8395856101613214, 0.44235952720232136, 0.25719030082265043, 0.6429757520566262, 0.8608537818362888, 0.6723708810528931, 0.1999650878506975, 0.5998952635520924, 0.8796028433536144, 0.31591413916965644, 0.11846780218862117, 0.07897853479241411, 0.19744633698103528, 0.11846780218862117, 0.19744633698103528, 0.9547923393803962, 0.5361190656254207, 0.3609169204099219, 0.6015282006832031, 0.4679367425969587, 0.9043573470449516, 0.20393084531114217, 0.11471110048751747, 0.497081435445909, 0.012745677831946385, 0.012745677831946385, 0.02549135566389277, 0.06372838915973192, 0.03823703349583915, 0.5855528509161112, 0.2927764254580556, 0.5660583188172238, 0.05490197741036619, 0.22907376781566582, 0.02271805961808256, 0.026504402887762988, 0.018931716348402135, 0.05490197741036619, 0.01135902980904128, 0.007572686539360853, 0.0037863432696804266, 0.8409910667418286, 0.07645373334016624, 0.07645373334016624, 0.3610362192101449, 0.5415543288152173, 0.724655963515721, 0.08409430708418232, 0.5606287138945487, 0.11212574277890976, 0.14015717847363718, 0.08409430708418232, 0.5622974863990081, 0.01813862859351639, 0.23580217171571305, 0.09069314296758195, 0.07255451437406556, 0.3625307491337326, 0.3904177298363274, 0.22309584562075851, 0.027886980702594814, 0.8703572834790194, 0.40849674176986195, 0.11347131715829499, 0.24963689774824896, 0.158859844021613, 0.022694263431658996, 0.022694263431658996, 0.8651597857620659, 0.8895385447739773, 0.07059829720428391, 0.014119659440856783, 0.028239318881713566, 0.7349892287768652, 0.1105736007894399, 0.006504329458202346, 0.019512988374607042, 0.013008658916404693, 0.026017317832809386, 0.032521647291011736, 0.039025976749214084, 0.006504329458202346, 0.013008658916404693, 0.46674372106908224, 0.06667767443844032, 0.3000495349729815, 0.011112945739740055, 0.1444682946166207, 0.5779796894943992, 0.062243966560935296, 0.07113596178392605, 0.16005591401383362, 0.05335197133794454, 0.01778399044598151, 0.04445997611495378, 0.6881948533866336, 0.8041511187696185, 0.378999905297894, 0.22739994317873644, 0.0757999810595788, 0.1263333017659647, 0.2021332828255435, 0.10347792506042985, 0.724345475423009, 0.10347792506042985, 0.2855486804681201, 0.5710973609362402, 0.16407643814337636, 0.8203821907168818, 0.11741151791946579, 0.7044691075167948, 0.3404727776773359, 0.6809455553546718, 0.8646970323212575, 0.12970455484818863, 0.17767338663091814, 0.7106935465236726, 0.4238738228681175, 0.5510359697285527, 0.7340000387668237, 0.06116666989723531, 0.08738095699605045, 0.06990476559684035, 0.017476191399210087, 0.026214287098815132, 0.008738095699605044, 0.7911957108093082, 0.6642257712598895, 0.8213222190497855, 0.8101163799981099, 0.8735977916984846, 0.678345705016348, 0.32606962748443025, 0.08151740687110756, 0.48910444122664537, 0.08151740687110756, 0.9226662786418952, 0.5387447854334904, 0.958305704561884, 0.6313009186420977, 0.10867148801419751, 0.21734297602839503, 0.6520289280851851, 0.8791385637148713, 0.15985891730508772, 0.7992945865254386, 0.7799724857129192, 0.8404503169245392, 0.1050562896155674, 0.6519411014536742, 0.03575249667351108, 0.03575249667351108, 0.8938124168377771, 0.8407146662578087, 0.5788822162933674, 0.20431137045648262, 0.03405189507608044, 0.10215568522824131, 0.06810379015216088, 0.7639169486987664, 0.05658644064435306, 0.11317288128870612, 0.05658644064435306, 0.8533696699143983, 0.7681464153994901, 0.021337400427763616, 0.1280244025665817, 0.021337400427763616, 0.04267480085552723, 0.021337400427763616, 0.4953830278330731, 0.23312142486262263, 0.13113080148522524, 0.02914017810782783, 0.08742053432348348, 0.02914017810782783, 0.3084257119777454, 0.6168514239554908, 0.687958361277178, 0.10560612413908466, 0.6336367448345079, 0.10560612413908466, 0.07424792061139825, 0.22274376183419475, 0.3712396030569913, 0.296991682445593, 0.08761008740464561, 0.11681344987286083, 0.17522017480929122, 0.08761008740464561, 0.08761008740464561, 0.4088470745550129, 0.029203362468215206, 0.5925278574075464, 0.1489725960352662, 0.0744862980176331, 0.2979451920705324, 0.2979451920705324, 0.1489725960352662, 0.14706610904826994, 0.7353305452413498, 0.9509056819943512, 0.7480067046296602, 0.24933556820988675, 0.9240519857743973, 0.04400247551306653, 0.6738671506013021, 0.06521295005819053, 0.06521295005819053, 0.021737650019396842, 0.17390120015517474, 0.5584224279747356, 0.05983097442586453, 0.15456335060015003, 0.07478871803233067, 0.039887316283909686, 0.044873230819398396, 0.004985914535488711, 0.054845059890375816, 0.009971829070977422, 0.21345154556990115, 0.10672577278495057, 0.10672577278495057, 0.21345154556990115, 0.32017731835485175, 0.5399578497025991, 0.9386830082453508, 0.9452711968705464], \"Term\": [\"01008\", \"02\", \"04242012\", \"0617\", \"18month\", \"2\", \"2\", \"2\", \"2\", \"2\", \"2\", \"2\", \"2\", \"2012\", \"2012\", \"2012\", \"2012\", \"2012ma19kt32\", \"25\", \"25\", \"3pound\", \"45\", \"45\", \"4pack\", \"4th\", \"50\", \"50\", \"50\", \"50\", \"66721\", \"800\", \"800\", \"9\", \"9\", \"acceptable\", \"actually\", \"actually\", \"actually\", \"advertise\", \"advertise\", \"advise\", \"airplane\", \"aisle\", \"alike\", \"allow\", \"allow\", \"allow\", \"america\", \"american\", \"american\", \"american\", \"american\", \"american\", \"american\", \"americans\", \"americas\", \"antihistamine\", \"appear\", \"appear\", \"appear\", \"appear\", \"appearance\", \"apply\", \"appreciate\", \"appreciate\", \"assimilate\", \"assurance\", \"assure\", \"attention\", \"aug\", \"away\", \"away\", \"away\", \"away\", \"away\", \"bad\", \"bad\", \"bad\", \"bad\", \"bad\", \"badly\", \"bag\", \"bag\", \"bag\", \"bag\", \"bag\", \"bag\", \"bag\", \"baking\", \"banana\", \"basket\", \"be\", \"be\", \"be\", \"be\", \"be\", \"be\", \"be\", \"be\", \"be\", \"be\", \"begin\", \"begin\", \"begin\", \"begin\", \"begin\", \"belvita\", \"benefit\", \"bht\", \"biscuit\", \"biscuit\", \"bite\", \"bite\", \"bite\", \"bite\", \"bite\", \"bite\", \"bite\", \"bitter\", \"bitter\", \"bitter\", \"bjs\", \"blame\", \"blatant\", \"blueberry\", \"bore\", \"boss\", \"box\", \"box\", \"box\", \"box\", \"box\", \"box\", \"box\", \"box\", \"box\", \"boycott\", \"boycott\", \"brand\", \"brand\", \"brand\", \"brand\", \"brand\", \"brand\", \"brand\", \"brand\", \"brand\", \"break\", \"break\", \"break\", \"break\", \"break\", \"break\", \"breakfast\", \"brief\", \"brilliant\", \"brilliant\", \"bring\", \"bring\", \"bring\", \"bring\", \"bring\", \"bring\", \"bring\", \"brookfield\", \"bunch\", \"business\", \"busy\", \"butter\", \"butter\", \"butter\", \"butter\", \"butter\", \"butter\", \"butter\", \"buy\", \"buy\", \"buy\", \"buy\", \"buy\", \"buy\", \"buy\", \"buy\", \"buy\", \"buy\", \"cafeteria\", \"calorie\", \"calorie\", \"camp\", \"campbells\", \"cardboard\", \"cardboard\", \"careful\", \"carry\", \"carry\", \"carton\", \"casserole\", \"ceo\", \"cereal\", \"change\", \"change\", \"change\", \"change\", \"change\", \"change\", \"change\", \"charge\", \"charge\", \"cheese\", \"cheese\", \"cheese\", \"cheese\", \"cheese\", \"cheesecake\", \"cheesecake\", \"chemical\", \"chemical\", \"chemical\", \"chemical\", \"chew\", \"chew\", \"chew\", \"chew\", \"chew\", \"chewy\", \"chicago\", \"child\", \"child\", \"child\", \"child\", \"chili\", \"chip\", \"chip\", \"chip\", \"chocolate\", \"chocolate\", \"chocolate\", \"choke\", \"cholesterol\", \"christies\", \"chuck\", \"chunk\", \"cinnamon\", \"cinnamon\", \"cinnamon\", \"cinnamon\", \"cinnamon\", \"cinnamon\", \"classic\", \"classic\", \"clerk\", \"closer\", \"coca\", \"cocacola\", \"coke\", \"coke\", \"cola\", \"combination\", \"come\", \"come\", \"come\", \"come\", \"come\", \"come\", \"comment\", \"comment\", \"comment\", \"company\", \"company\", \"company\", \"company\", \"company\", \"company\", \"company\", \"companys\", \"complaint\", \"complaint\", \"complaint\", \"complaint\", \"complaint\", \"complaint\", \"complete\", \"concern\", \"concern\", \"concern\", \"consistency\", \"consume\", \"consume\", \"consume\", \"consumer\", \"consumer\", \"consumer\", \"consumer\", \"consumer\", \"consumer\", \"content\", \"content\", \"content\", \"cookie\", \"cookie\", \"cookie\", \"cookie\", \"corner\", \"corner\", \"corner\", \"corner\", \"corporate\", \"corporate\", \"correct\", \"correct\", \"cost\", \"cost\", \"cost\", \"cost\", \"cost\", \"country\", \"country\", \"country\", \"country\", \"country\", \"cover\", \"cover\", \"cracker\", \"cracker\", \"cracker\", \"cracker\", \"cracker\", \"cracker\", \"cracker\", \"cracker\", \"cracker\", \"cracker\", \"crazy\", \"cream\", \"cream\", \"creme\", \"creme\", \"crisp\", \"crisp\", \"crisp\", \"crisp\", \"crispy\", \"crispy\", \"crispy\", \"crunch\", \"crunch\", \"crunch\", \"crunchy\", \"cup\", \"cup\", \"cup\", \"cup\", \"customer\", \"customer\", \"customer\", \"customer\", \"customer\", \"cut\", \"cut\", \"cut\", \"damage\", \"date\", \"date\", \"date\", \"date\", \"date\", \"day\", \"day\", \"day\", \"day\", \"day\", \"day\", \"day\", \"day\", \"death\", \"decade\", \"decide\", \"decide\", \"decide\", \"decision\", \"decision\", \"defect\", \"defective\", \"dent\", \"dental\", \"dental\", \"deserve\", \"design\", \"design\", \"despite\", \"destroy\", \"diabetes\", \"difference\", \"difference\", \"dinner\", \"dip\", \"disappear\", \"disappearance\", \"disappoint\", \"discontinue\", \"discontinue\", \"discontinue\", \"discontinue\", \"dish\", \"dismay\", \"dismay\", \"dissatisfaction\", \"dissatisfied\", \"dissatisfied\", \"doctor\", \"doctor\", \"double\", \"downgrade\", \"dry\", \"dry\", \"dumb\", \"dunk\", \"dunk\", \"eat\", \"eat\", \"eat\", \"eat\", \"eat\", \"eat\", \"eat\", \"eat\", \"economy\", \"edition\", \"egg\", \"eighty\", \"eliminate\", \"email\", \"embarrassing\", \"emit\", \"encounter\", \"end\", \"end\", \"end\", \"end\", \"energy\", \"english\", \"enjoy\", \"enjoy\", \"enjoy\", \"enjoy\", \"enjoy\", \"entire\", \"entire\", \"entire\", \"entire\", \"entirely\", \"eponymous\", \"evening\", \"evidence\", \"exactly\", \"exactly\", \"exactly\", \"examine\", \"executive\", \"expiry\", \"explaining\", \"facebook\", \"facebook\", \"facebook\", \"faint\", \"faithful\", \"familys\", \"faster\", \"faster\", \"fatfree\", \"fatfree\", \"favorite\", \"favorite\", \"favorite\", \"favorite\", \"favorite\", \"feel\", \"feel\", \"feel\", \"feel\", \"feel\", \"feel\", \"filling\", \"find\", \"find\", \"find\", \"find\", \"find\", \"find\", \"find\", \"find\", \"fish\", \"flavor\", \"flavor\", \"flavor\", \"flavor\", \"flavor\", \"flavor\", \"flavorless\", \"floor\", \"flour\", \"food\", \"food\", \"food\", \"food\", \"food\", \"food\", \"food\", \"food\", \"food\", \"foot\", \"foot\", \"foreign\", \"form\", \"form\", \"formula\", \"formula\", \"formula\", \"foul\", \"foul\", \"foul\", \"fragile\", \"freaked\", \"free\", \"free\", \"free\", \"free\", \"free\", \"fresh\", \"fresh\", \"fresh\", \"fresh\", \"fresh\", \"fruit\", \"fudgee\", \"fudgee\", \"fume\", \"funny\", \"funny\", \"funny\", \"g\", \"gag\", \"garage\", \"gas\", \"gay\", \"general\", \"get\", \"get\", \"get\", \"get\", \"get\", \"get\", \"get\", \"get\", \"girl\", \"giveup\", \"glue\", \"go\", \"go\", \"go\", \"go\", \"go\", \"go\", \"go\", \"go\", \"golden\", \"golden\", \"good\", \"good\", \"good\", \"good\", \"good\", \"good\", \"good\", \"good\", \"goodness\", \"graham\", \"graham\", \"graham\", \"graham\", \"graham\", \"graham\", \"grahams\", \"grahams\", \"grahams\", \"grahams\", \"grahams\", \"grahams\", \"gram\", \"grandparent\", \"grandson\", \"gray\", \"greatly\", \"grocer\", \"grocery\", \"grocery\", \"grocery\", \"gum\", \"guy\", \"half\", \"half\", \"half\", \"hand\", \"hand\", \"hannaford\", \"happen\", \"happen\", \"happen\", \"happen\", \"happen\", \"hardly\", \"hardly\", \"hardly\", \"have\", \"have\", \"have\", \"have\", \"have\", \"have\", \"have\", \"have\", \"have\", \"have\", \"hay\", \"head\", \"healthful\", \"hear\", \"hear\", \"hear\", \"helpful\", \"hey\", \"high\", \"high\", \"high\", \"high\", \"high\", \"hint\", \"hint\", \"hire\", \"holy\", \"home\", \"home\", \"home\", \"honest\", \"honey\", \"honey\", \"honey\", \"honey\", \"honey\", \"hopefully\", \"hopefully\", \"horrible\", \"horrible\", \"horrible\", \"horrible\", \"horrible\", \"hot\", \"husband\", \"husband\", \"husband\", \"husband\", \"idea\", \"idea\", \"idea\", \"ignore\", \"ill\", \"ill\", \"ill\", \"ill\", \"immediately\", \"immediately\", \"immediately\", \"immediately\", \"immediately\", \"immediately\", \"improve\", \"inch\", \"inconsistent\", \"increase\", \"increase\", \"increase\", \"individually\", \"individually\", \"infestation\", \"inner\", \"insect\", \"inside\", \"inside\", \"inside\", \"inside\", \"inside\", \"instead\", \"instead\", \"instead\", \"intake\", \"intake\", \"integrity\", \"interested\", \"international\", \"international\", \"international\", \"introduce\", \"introduce\", \"issue\", \"issue\", \"issue\", \"issue\", \"iti\", \"job\", \"job\", \"joke\", \"july\", \"july\", \"jump\", \"keebler\", \"keebler\", \"keebler\", \"keebler\", \"knock\", \"knock\", \"know\", \"know\", \"know\", \"know\", \"know\", \"know\", \"know\", \"know\", \"know\", \"kraft\", \"kraft\", \"lack\", \"lack\", \"lack\", \"lack\", \"language\", \"lard\", \"larva\", \"lay\", \"lay\", \"lemon\", \"lemon\", \"level\", \"like\", \"like\", \"like\", \"like\", \"like\", \"like\", \"like\", \"like\", \"like\", \"limited\", \"line\", \"line\", \"line\", \"line\", \"line\", \"linger\", \"listen\", \"local\", \"local\", \"location\", \"lock\", \"long\", \"long\", \"long\", \"long\", \"long\", \"long\", \"longer\", \"longer\", \"longer\", \"longer\", \"longer\", \"longer\", \"longer\", \"longer\", \"look\", \"look\", \"look\", \"look\", \"look\", \"look\", \"look\", \"loose\", \"lot\", \"lot\", \"lot\", \"lot\", \"lower\", \"luckily\", \"lunch\", \"lunch\", \"maid\", \"maid\", \"maid\", \"maid\", \"maid\", \"main\", \"main\", \"maker\", \"manager\", \"manager\", \"manager\", \"manipulate\", \"margin\", \"mark\", \"marketing\", \"marketing\", \"marry\", \"matter\", \"matter\", \"maximize\", \"maybe\", \"maybe\", \"maybe\", \"maybe\", \"maybe\", \"maybe\", \"medicine\", \"meijers\", \"melt\", \"melted\", \"metallic\", \"middle\", \"migraine\", \"million\", \"mini\", \"mini\", \"mint\", \"minute\", \"minute\", \"minute\", \"miserable\", \"mistake\", \"mistake\", \"mistake\", \"mixture\", \"moist\", \"mold\", \"mondelez\", \"mondelez\", \"mondelez\", \"mondelez\", \"money\", \"money\", \"money\", \"money\", \"money\", \"money\", \"mother\", \"mouth\", \"mouth\", \"mouth\", \"mouth\", \"mouth\", \"nabisco\", \"nabisco\", \"nabisco\", \"nabisco\", \"nabisco\", \"nabisco\", \"nabisco\", \"nabisco\", \"nabisco\", \"nabisco\", \"nabisco\", \"nasty\", \"nasty\", \"nausea\", \"nausea\", \"nearly\", \"nearly\", \"nearly\", \"need\", \"need\", \"need\", \"need\", \"need\", \"need\", \"new\", \"new\", \"new\", \"new\", \"new\", \"new\", \"new\", \"new\", \"new\", \"nh\", \"nice\", \"nilla\", \"nonexiste\", \"north\", \"not\", \"not\", \"not\", \"not\", \"not\", \"not\", \"not\", \"not\", \"not\", \"not\", \"notch\", \"notice\", \"notice\", \"notice\", \"notice\", \"notice\", \"notify\", \"notify\", \"numb\", \"number\", \"number\", \"number\", \"number\", \"number\", \"number\", \"nutrition\", \"nutter\", \"object\", \"obnoxious\", \"obviously\", \"obviously\", \"obviously\", \"obviously\", \"obviously\", \"obviously\", \"occasion\", \"odor\", \"odor\", \"odor\", \"odor\", \"odor\", \"oil\", \"oil\", \"oil\", \"oil\", \"oil\", \"okay\", \"old\", \"old\", \"old\", \"old\", \"old\", \"old\", \"old\", \"olive\", \"olive\", \"one\", \"one\", \"one\", \"one\", \"one\", \"open\", \"open\", \"open\", \"open\", \"open\", \"open\", \"open\", \"opinion\", \"opinion\", \"order\", \"oreo\", \"oreo\", \"oreos\", \"oreos\", \"organic\", \"original\", \"original\", \"original\", \"original\", \"outside\", \"outside\", \"overpower\", \"overpower\", \"pack\", \"pack\", \"pack\", \"pack\", \"pack\", \"package\", \"package\", \"package\", \"package\", \"package\", \"package\", \"package\", \"package\", \"package\", \"packaging\", \"packaging\", \"packaging\", \"packaging\", \"packaging\", \"packaging\", \"packaging\", \"packaging\", \"packaging\", \"packet\", \"paint\", \"paint\", \"paint\", \"paint\", \"pantry\", \"particular\", \"party\", \"party\", \"party\", \"past\", \"past\", \"past\", \"past\", \"past\", \"past\", \"past\", \"peanut\", \"peanut\", \"peanut\", \"peanut\", \"peanut\", \"peanut\", \"peanut\", \"people\", \"people\", \"people\", \"people\", \"people\", \"people\", \"people\", \"people\", \"people\", \"pepper\", \"percent\", \"perfect\", \"petroleum\", \"phone\", \"phone\", \"pie\", \"piece\", \"piece\", \"piece\", \"piece\", \"piece\", \"piece\", \"pinwheel\", \"plain\", \"plain\", \"plain\", \"plain\", \"plan\", \"plantplease\", \"poison\", \"poison\", \"poison\", \"pop\", \"popular\", \"pound\", \"pray\", \"pray\", \"pregnancy\", \"premium\", \"premium\", \"premium\", \"premium\", \"preschool\", \"president\", \"price\", \"price\", \"price\", \"price\", \"price\", \"price\", \"problem\", \"problem\", \"problem\", \"problem\", \"problem\", \"problem\", \"problem\", \"proceed\", \"processing\", \"product\", \"product\", \"product\", \"product\", \"product\", \"product\", \"product\", \"product\", \"product\", \"product\", \"profit\", \"promotion\", \"publix\", \"publix\", \"pudding\", \"pungent\", \"purchase\", \"purchase\", \"purchase\", \"purchase\", \"purchase\", \"purchase\", \"purchase\", \"purchase\", \"purchase\", \"quality\", \"quality\", \"quality\", \"quality\", \"quality\", \"quality\", \"quality\", \"quality\", \"question\", \"question\", \"question\", \"rancid\", \"rancid\", \"rancid\", \"rancid\", \"range\", \"rash\", \"reach\", \"reach\", \"reach\", \"ready\", \"recall\", \"recall\", \"receive\", \"receive\", \"recent\", \"recent\", \"recent\", \"recently\", \"recently\", \"recently\", \"recently\", \"recently\", \"recently\", \"recipe\", \"recipe\", \"recipe\", \"recipe\", \"recipe\", \"reconsider\", \"reduce\", \"reduce\", \"reek\", \"reek\", \"refund\", \"refuse\", \"refuse\", \"refuse\", \"regular\", \"regular\", \"regular\", \"remember\", \"remember\", \"replace\", \"replace\", \"replace\", \"replacement\", \"responsive\", \"rest\", \"rest\", \"rest\", \"rest\", \"restore\", \"return\", \"return\", \"return\", \"return\", \"revise\", \"ridiculous\", \"ridiculous\", \"right\", \"right\", \"right\", \"right\", \"right\", \"rip\", \"rip\", \"rippedoff\", \"ritz\", \"ritz\", \"ritz\", \"ritz\", \"ritz\", \"roll\", \"round\", \"round\", \"round\", \"round\", \"row\", \"salary\", \"saline\", \"salt\", \"salt\", \"salt\", \"salt\", \"saltine\", \"saltine\", \"saltine\", \"saltine\", \"saltine\", \"saltine\", \"saltines\", \"saltines\", \"saltines\", \"sams\", \"sams\", \"save\", \"save\", \"save\", \"save\", \"saving\", \"scary\", \"school\", \"school\", \"scratch\", \"sea\", \"search\", \"see\", \"see\", \"see\", \"send\", \"send\", \"serve\", \"serve\", \"serve\", \"serve\", \"serve\", \"settle\", \"severe\", \"severe\", \"shape\", \"shape\", \"shape\", \"shape\", \"shelf\", \"shelf\", \"shelf\", \"shelf\", \"shelf\", \"shocked\", \"shop\", \"shop\", \"shop\", \"short\", \"short\", \"short\", \"sick\", \"sick\", \"sick\", \"sicken\", \"sinus\", \"sleeve\", \"sleeve\", \"sleeve\", \"sleeve\", \"slice\", \"slip\", \"small\", \"small\", \"small\", \"small\", \"small\", \"small\", \"small\", \"smell\", \"smell\", \"smell\", \"smell\", \"smelly\", \"smore\", \"smore\", \"snack\", \"snack\", \"snack\", \"snack\", \"snack\", \"snackwells\", \"soap\", \"sodium\", \"soft\", \"soft\", \"soft\", \"soft\", \"solicit\", \"somewhat\", \"son\", \"son\", \"son\", \"son\", \"son\", \"soupchili\", \"spanish\", \"spend\", \"spend\", \"spend\", \"spit\", \"spit\", \"spit\", \"spit\", \"split\", \"square\", \"square\", \"square\", \"square\", \"stack\", \"stack\", \"stack\", \"stack\", \"stale\", \"stale\", \"stale\", \"stale\", \"stall\", \"standard\", \"standard\", \"standard\", \"standard\", \"states\", \"states\", \"stink\", \"stock\", \"stock\", \"stomach\", \"stomach\", \"stomach\", \"stop\", \"stop\", \"stop\", \"stop\", \"storage\", \"store\", \"store\", \"store\", \"store\", \"store\", \"store\", \"store\", \"strong\", \"strong\", \"strong\", \"strong\", \"stuff\", \"stuff\", \"stuffed\", \"stuffing\", \"substitute\", \"substitute\", \"success\", \"suddenly\", \"suffer\", \"suffer\", \"sufficient\", \"sugar\", \"sugar\", \"sugar\", \"sugar\", \"sugar\", \"sugar\", \"super\", \"supper\", \"support\", \"support\", \"surpass\", \"surprise\", \"take\", \"take\", \"take\", \"take\", \"take\", \"take\", \"take\", \"take\", \"target\", \"target\", \"taste\", \"taste\", \"taste\", \"taste\", \"taste\", \"taste\", \"taste\", \"taste\", \"taste\", \"taste\", \"tasteless\", \"tasteless\", \"tasteless\", \"tbhq\", \"tbhq\", \"tear\", \"teddy\", \"teddy\", \"teddy\", \"teddy\", \"teddy\", \"tell\", \"tell\", \"tell\", \"tell\", \"tell\", \"test\", \"test\", \"test\", \"test\", \"texas\", \"texture\", \"texture\", \"texture\", \"texture\", \"texture\", \"texture\", \"thanksgiving\", \"thing\", \"thing\", \"thing\", \"thing\", \"think\", \"think\", \"think\", \"think\", \"think\", \"think\", \"think\", \"think\", \"think\", \"think\", \"throw\", \"throw\", \"throw\", \"throw\", \"throw\", \"time\", \"time\", \"time\", \"time\", \"time\", \"time\", \"time\", \"timetested\", \"tin\", \"today\", \"today\", \"today\", \"today\", \"today\", \"tongue\", \"tongue\", \"tongue\", \"tonight\", \"tonight\", \"topping\", \"topping\", \"toss\", \"toss\", \"town\", \"town\", \"toxic\", \"toxic\", \"traditional\", \"traditional\", \"triscuit\", \"triscuit\", \"try\", \"try\", \"try\", \"try\", \"try\", \"try\", \"try\", \"tsk\", \"tuesday\", \"turpentine\", \"twitter\", \"ubiquitous\", \"ultimate\", \"unhappy\", \"unhappy\", \"unhappy\", \"unhappy\", \"united\", \"unpoppe\", \"unsalted\", \"upsetting\", \"usa\", \"usa\", \"usa\", \"varnish\", \"version\", \"version\", \"voice\", \"vomit\", \"vomit\", \"vs\", \"wafer\", \"wafer\", \"wafer\", \"walk\", \"walmart\", \"walmart\", \"walmart\", \"walmart\", \"walmart\", \"waste\", \"waste\", \"waste\", \"waste\", \"wax\", \"way\", \"way\", \"way\", \"way\", \"way\", \"way\", \"week\", \"week\", \"week\", \"week\", \"week\", \"week\", \"weekend\", \"weekend\", \"weekly\", \"wegmans\", \"wegmans\", \"wegmans\", \"word\", \"word\", \"word\", \"word\", \"work\", \"work\", \"work\", \"work\", \"work\", \"work\", \"work\", \"worker\", \"world\", \"world\", \"world\", \"world\", \"world\", \"worry\", \"worry\", \"worth\", \"wrap\", \"wrap\", \"write\", \"write\", \"wrong\", \"wrong\", \"wrong\", \"wrong\", \"wrong\", \"year\", \"year\", \"year\", \"year\", \"year\", \"year\", \"year\", \"year\", \"year\", \"yes\", \"yes\", \"yes\", \"yes\", \"yes\", \"york\", \"young\", \"zip\"]}, \"R\": 30, \"lambda.step\": 0.01, \"plot.opts\": {\"xlab\": \"PC1\", \"ylab\": \"PC2\"}, \"topic.order\": [10, 3, 4, 7, 11, 8, 1, 9, 12, 5, 6, 2]};\n",
              "\n",
              "function LDAvis_load_lib(url, callback){\n",
              "  var s = document.createElement('script');\n",
              "  s.src = url;\n",
              "  s.async = true;\n",
              "  s.onreadystatechange = s.onload = callback;\n",
              "  s.onerror = function(){console.warn(\"failed to load library \" + url);};\n",
              "  document.getElementsByTagName(\"head\")[0].appendChild(s);\n",
              "}\n",
              "\n",
              "if(typeof(LDAvis) !== \"undefined\"){\n",
              "   // already loaded: just create the visualization\n",
              "   !function(LDAvis){\n",
              "       new LDAvis(\"#\" + \"ldavis_el2331405245498353448444218515\", ldavis_el2331405245498353448444218515_data);\n",
              "   }(LDAvis);\n",
              "}else if(typeof define === \"function\" && define.amd){\n",
              "   // require.js is available: use it to load d3/LDAvis\n",
              "   require.config({paths: {d3: \"https://d3js.org/d3.v5\"}});\n",
              "   require([\"d3\"], function(d3){\n",
              "      window.d3 = d3;\n",
              "      LDAvis_load_lib(\"https://cdn.jsdelivr.net/gh/bmabey/pyLDAvis@3.3.1/pyLDAvis/js/ldavis.v3.0.0.js\", function(){\n",
              "        new LDAvis(\"#\" + \"ldavis_el2331405245498353448444218515\", ldavis_el2331405245498353448444218515_data);\n",
              "      });\n",
              "    });\n",
              "}else{\n",
              "    // require.js not available: dynamically load d3 & LDAvis\n",
              "    LDAvis_load_lib(\"https://d3js.org/d3.v5.js\", function(){\n",
              "         LDAvis_load_lib(\"https://cdn.jsdelivr.net/gh/bmabey/pyLDAvis@3.3.1/pyLDAvis/js/ldavis.v3.0.0.js\", function(){\n",
              "                 new LDAvis(\"#\" + \"ldavis_el2331405245498353448444218515\", ldavis_el2331405245498353448444218515_data);\n",
              "            })\n",
              "         });\n",
              "}\n",
              "</script>"
            ],
            "text/plain": [
              "PreparedData(topic_coordinates=              x         y  topics  cluster       Freq\n",
              "topic                                                \n",
              "9     -0.150520 -0.049367       1        1  40.446306\n",
              "2     -0.119175  0.055918       2        1  11.490827\n",
              "3     -0.187480  0.139002       3        1   8.822418\n",
              "6     -0.035165 -0.172766       4        1   8.073364\n",
              "10    -0.031934 -0.258134       5        1   6.518507\n",
              "7     -0.037021  0.025238       6        1   5.767866\n",
              "0     -0.100999  0.103385       7        1   5.083520\n",
              "8      0.055097  0.079048       8        1   5.026493\n",
              "11     0.100322 -0.042028       9        1   3.926152\n",
              "4      0.130742  0.020230      10        1   2.273520\n",
              "5      0.161052  0.033828      11        1   1.478844\n",
              "1      0.215081  0.065645      12        1   1.092183, topic_info=         Term         Freq        Total Category  logprob  loglift\n",
              "330     smell   331.000000   331.000000  Default  30.0000  30.0000\n",
              "429   saltine   379.000000   379.000000  Default  29.0000  29.0000\n",
              "7      cookie   150.000000   150.000000  Default  28.0000  28.0000\n",
              "35    cracker  1062.000000  1062.000000  Default  27.0000  27.0000\n",
              "2121    round   129.000000   129.000000  Default  26.0000  26.0000\n",
              "...       ...          ...          ...      ...      ...      ...\n",
              "1063  outside     1.284562     8.674677  Topic12  -5.5502   2.6070\n",
              "399      need     1.460490    43.327138  Topic12  -5.4219   1.1270\n",
              "1896   target     1.156003     3.415576  Topic12  -5.6557   3.4336\n",
              "2121    round     1.256170   129.463302  Topic12  -5.5726  -0.1183\n",
              "400    recent     1.169978    14.587516  Topic12  -5.6437   1.9938\n",
              "\n",
              "[803 rows x 6 columns], token_table=      Topic      Freq      Term\n",
              "term                           \n",
              "3485     12  0.538746     01008\n",
              "3576     11  0.536126        02\n",
              "3394     12  0.538746  04242012\n",
              "3486     12  0.538746      0617\n",
              "3580     11  0.536127   18month\n",
              "...     ...       ...       ...\n",
              "668       9  0.213452       yes\n",
              "668      10  0.320177       yes\n",
              "3462     11  0.539958      york\n",
              "861       1  0.938683     young\n",
              "2188      2  0.945271       zip\n",
              "\n",
              "[1581 rows x 3 columns], R=30, lambda_step=0.01, plot_opts={'xlab': 'PC1', 'ylab': 'PC2'}, topic_order=[10, 3, 4, 7, 11, 8, 1, 9, 12, 5, 6, 2])"
            ]
          },
          "metadata": {},
          "execution_count": 59
        }
      ]
    },
    {
      "cell_type": "code",
      "source": [
        "# names I have chosen to give each topic\n",
        "\n",
        "vis_topic_name_dict = {\n",
        "              1: 'Did/Did not like', 2: 'Quality of product',\n",
        "              3: 'Heavily processed', 4: 'Older products', 5: 'Crackers',\n",
        "              6: 'Packaging', 7: 'Preservatives', 8: 'Cookies',\n",
        "              9: 'Company/Employees', 10: 'Dessert', 11: 'Branding',\n",
        "              12: 'Ingredients'\n",
        "              }"
      ],
      "metadata": {
        "id": "yti0feVDyHhp"
      },
      "execution_count": null,
      "outputs": []
    },
    {
      "cell_type": "code",
      "source": [
        "vis.topic_coordinates # len 12\n",
        "\n",
        "#       vis.topic_coordinates.topics.to_dict()\n",
        "#       takes topic index and topics column into dictionary pairs;\n",
        "#       topic index is according to lda_trained_model, column is order according pyLDAvis tool"
      ],
      "metadata": {
        "colab": {
          "base_uri": "https://localhost:8080/",
          "height": 457
        },
        "id": "h1-yrNizvsBI",
        "outputId": "2e725214-9676-43cb-87d5-88f7701a2695"
      },
      "execution_count": null,
      "outputs": [
        {
          "output_type": "execute_result",
          "data": {
            "text/html": [
              "\n",
              "  <div id=\"df-c52cffa3-065e-4027-a962-39efb5f3b990\">\n",
              "    <div class=\"colab-df-container\">\n",
              "      <div>\n",
              "<style scoped>\n",
              "    .dataframe tbody tr th:only-of-type {\n",
              "        vertical-align: middle;\n",
              "    }\n",
              "\n",
              "    .dataframe tbody tr th {\n",
              "        vertical-align: top;\n",
              "    }\n",
              "\n",
              "    .dataframe thead th {\n",
              "        text-align: right;\n",
              "    }\n",
              "</style>\n",
              "<table border=\"1\" class=\"dataframe\">\n",
              "  <thead>\n",
              "    <tr style=\"text-align: right;\">\n",
              "      <th></th>\n",
              "      <th>x</th>\n",
              "      <th>y</th>\n",
              "      <th>topics</th>\n",
              "      <th>cluster</th>\n",
              "      <th>Freq</th>\n",
              "    </tr>\n",
              "    <tr>\n",
              "      <th>topic</th>\n",
              "      <th></th>\n",
              "      <th></th>\n",
              "      <th></th>\n",
              "      <th></th>\n",
              "      <th></th>\n",
              "    </tr>\n",
              "  </thead>\n",
              "  <tbody>\n",
              "    <tr>\n",
              "      <th>9</th>\n",
              "      <td>-0.150520</td>\n",
              "      <td>-0.049367</td>\n",
              "      <td>1</td>\n",
              "      <td>1</td>\n",
              "      <td>40.446306</td>\n",
              "    </tr>\n",
              "    <tr>\n",
              "      <th>2</th>\n",
              "      <td>-0.119175</td>\n",
              "      <td>0.055918</td>\n",
              "      <td>2</td>\n",
              "      <td>1</td>\n",
              "      <td>11.490827</td>\n",
              "    </tr>\n",
              "    <tr>\n",
              "      <th>3</th>\n",
              "      <td>-0.187480</td>\n",
              "      <td>0.139002</td>\n",
              "      <td>3</td>\n",
              "      <td>1</td>\n",
              "      <td>8.822418</td>\n",
              "    </tr>\n",
              "    <tr>\n",
              "      <th>6</th>\n",
              "      <td>-0.035165</td>\n",
              "      <td>-0.172766</td>\n",
              "      <td>4</td>\n",
              "      <td>1</td>\n",
              "      <td>8.073364</td>\n",
              "    </tr>\n",
              "    <tr>\n",
              "      <th>10</th>\n",
              "      <td>-0.031934</td>\n",
              "      <td>-0.258134</td>\n",
              "      <td>5</td>\n",
              "      <td>1</td>\n",
              "      <td>6.518507</td>\n",
              "    </tr>\n",
              "    <tr>\n",
              "      <th>7</th>\n",
              "      <td>-0.037021</td>\n",
              "      <td>0.025238</td>\n",
              "      <td>6</td>\n",
              "      <td>1</td>\n",
              "      <td>5.767866</td>\n",
              "    </tr>\n",
              "    <tr>\n",
              "      <th>0</th>\n",
              "      <td>-0.100999</td>\n",
              "      <td>0.103385</td>\n",
              "      <td>7</td>\n",
              "      <td>1</td>\n",
              "      <td>5.083520</td>\n",
              "    </tr>\n",
              "    <tr>\n",
              "      <th>8</th>\n",
              "      <td>0.055097</td>\n",
              "      <td>0.079048</td>\n",
              "      <td>8</td>\n",
              "      <td>1</td>\n",
              "      <td>5.026493</td>\n",
              "    </tr>\n",
              "    <tr>\n",
              "      <th>11</th>\n",
              "      <td>0.100322</td>\n",
              "      <td>-0.042028</td>\n",
              "      <td>9</td>\n",
              "      <td>1</td>\n",
              "      <td>3.926152</td>\n",
              "    </tr>\n",
              "    <tr>\n",
              "      <th>4</th>\n",
              "      <td>0.130742</td>\n",
              "      <td>0.020230</td>\n",
              "      <td>10</td>\n",
              "      <td>1</td>\n",
              "      <td>2.273520</td>\n",
              "    </tr>\n",
              "    <tr>\n",
              "      <th>5</th>\n",
              "      <td>0.161052</td>\n",
              "      <td>0.033828</td>\n",
              "      <td>11</td>\n",
              "      <td>1</td>\n",
              "      <td>1.478844</td>\n",
              "    </tr>\n",
              "    <tr>\n",
              "      <th>1</th>\n",
              "      <td>0.215081</td>\n",
              "      <td>0.065645</td>\n",
              "      <td>12</td>\n",
              "      <td>1</td>\n",
              "      <td>1.092183</td>\n",
              "    </tr>\n",
              "  </tbody>\n",
              "</table>\n",
              "</div>\n",
              "      <button class=\"colab-df-convert\" onclick=\"convertToInteractive('df-c52cffa3-065e-4027-a962-39efb5f3b990')\"\n",
              "              title=\"Convert this dataframe to an interactive table.\"\n",
              "              style=\"display:none;\">\n",
              "        \n",
              "  <svg xmlns=\"http://www.w3.org/2000/svg\" height=\"24px\"viewBox=\"0 0 24 24\"\n",
              "       width=\"24px\">\n",
              "    <path d=\"M0 0h24v24H0V0z\" fill=\"none\"/>\n",
              "    <path d=\"M18.56 5.44l.94 2.06.94-2.06 2.06-.94-2.06-.94-.94-2.06-.94 2.06-2.06.94zm-11 1L8.5 8.5l.94-2.06 2.06-.94-2.06-.94L8.5 2.5l-.94 2.06-2.06.94zm10 10l.94 2.06.94-2.06 2.06-.94-2.06-.94-.94-2.06-.94 2.06-2.06.94z\"/><path d=\"M17.41 7.96l-1.37-1.37c-.4-.4-.92-.59-1.43-.59-.52 0-1.04.2-1.43.59L10.3 9.45l-7.72 7.72c-.78.78-.78 2.05 0 2.83L4 21.41c.39.39.9.59 1.41.59.51 0 1.02-.2 1.41-.59l7.78-7.78 2.81-2.81c.8-.78.8-2.07 0-2.86zM5.41 20L4 18.59l7.72-7.72 1.47 1.35L5.41 20z\"/>\n",
              "  </svg>\n",
              "      </button>\n",
              "      \n",
              "  <style>\n",
              "    .colab-df-container {\n",
              "      display:flex;\n",
              "      flex-wrap:wrap;\n",
              "      gap: 12px;\n",
              "    }\n",
              "\n",
              "    .colab-df-convert {\n",
              "      background-color: #E8F0FE;\n",
              "      border: none;\n",
              "      border-radius: 50%;\n",
              "      cursor: pointer;\n",
              "      display: none;\n",
              "      fill: #1967D2;\n",
              "      height: 32px;\n",
              "      padding: 0 0 0 0;\n",
              "      width: 32px;\n",
              "    }\n",
              "\n",
              "    .colab-df-convert:hover {\n",
              "      background-color: #E2EBFA;\n",
              "      box-shadow: 0px 1px 2px rgba(60, 64, 67, 0.3), 0px 1px 3px 1px rgba(60, 64, 67, 0.15);\n",
              "      fill: #174EA6;\n",
              "    }\n",
              "\n",
              "    [theme=dark] .colab-df-convert {\n",
              "      background-color: #3B4455;\n",
              "      fill: #D2E3FC;\n",
              "    }\n",
              "\n",
              "    [theme=dark] .colab-df-convert:hover {\n",
              "      background-color: #434B5C;\n",
              "      box-shadow: 0px 1px 3px 1px rgba(0, 0, 0, 0.15);\n",
              "      filter: drop-shadow(0px 1px 2px rgba(0, 0, 0, 0.3));\n",
              "      fill: #FFFFFF;\n",
              "    }\n",
              "  </style>\n",
              "\n",
              "      <script>\n",
              "        const buttonEl =\n",
              "          document.querySelector('#df-c52cffa3-065e-4027-a962-39efb5f3b990 button.colab-df-convert');\n",
              "        buttonEl.style.display =\n",
              "          google.colab.kernel.accessAllowed ? 'block' : 'none';\n",
              "\n",
              "        async function convertToInteractive(key) {\n",
              "          const element = document.querySelector('#df-c52cffa3-065e-4027-a962-39efb5f3b990');\n",
              "          const dataTable =\n",
              "            await google.colab.kernel.invokeFunction('convertToInteractive',\n",
              "                                                     [key], {});\n",
              "          if (!dataTable) return;\n",
              "\n",
              "          const docLinkHtml = 'Like what you see? Visit the ' +\n",
              "            '<a target=\"_blank\" href=https://colab.research.google.com/notebooks/data_table.ipynb>data table notebook</a>'\n",
              "            + ' to learn more about interactive tables.';\n",
              "          element.innerHTML = '';\n",
              "          dataTable['output_type'] = 'display_data';\n",
              "          await google.colab.output.renderOutput(dataTable, element);\n",
              "          const docLink = document.createElement('div');\n",
              "          docLink.innerHTML = docLinkHtml;\n",
              "          element.appendChild(docLink);\n",
              "        }\n",
              "      </script>\n",
              "    </div>\n",
              "  </div>\n",
              "  "
            ],
            "text/plain": [
              "              x         y  topics  cluster       Freq\n",
              "topic                                                \n",
              "9     -0.150520 -0.049367       1        1  40.446306\n",
              "2     -0.119175  0.055918       2        1  11.490827\n",
              "3     -0.187480  0.139002       3        1   8.822418\n",
              "6     -0.035165 -0.172766       4        1   8.073364\n",
              "10    -0.031934 -0.258134       5        1   6.518507\n",
              "7     -0.037021  0.025238       6        1   5.767866\n",
              "0     -0.100999  0.103385       7        1   5.083520\n",
              "8      0.055097  0.079048       8        1   5.026493\n",
              "11     0.100322 -0.042028       9        1   3.926152\n",
              "4      0.130742  0.020230      10        1   2.273520\n",
              "5      0.161052  0.033828      11        1   1.478844\n",
              "1      0.215081  0.065645      12        1   1.092183"
            ]
          },
          "metadata": {},
          "execution_count": 69
        }
      ]
    },
    {
      "cell_type": "code",
      "source": [
        "def get_topic_id_lookup_dict(vis, vis_topic_name_dict):\n",
        "    \"\"\"\n",
        "    vis_topic_name_dict ; dictionary I create from pyldavis tool\n",
        "\n",
        "    The starting index and the ordering of topic ids bewteen the trained LDA model \n",
        "    and the viz tool are different. So we need to create a look up dictionary that maps \n",
        "    the correct association between topic ids from both sources. \n",
        "    \"\"\"\n",
        "    # value is order of topic ids according to pyLDAvis tool \n",
        "    # key is order of topic ids according to lda model\n",
        "    model_vis_tool_topic_id_lookup = vis.topic_coordinates.topics.to_dict()        # ind     col\n",
        "                                                                                 #   9       1\n",
        "    # invert dictionary so that \n",
        "    # key is order of topic ids accoridng to pyLDAvis tool \n",
        "    # value is order of topic ids according to lda model\n",
        "    topic_id_lookup =  {v:k for k, v in model_vis_tool_topic_id_lookup.items()}   # col      ind\n",
        "                                                                                  # 1        9\n",
        "    return {v:vis_topic_name_dict[k]  for k, v in topic_id_lookup.items()}      #   9: 'Did/Did not like'"
      ],
      "metadata": {
        "id": "oeB8l196vcUB"
      },
      "execution_count": null,
      "outputs": []
    },
    {
      "cell_type": "code",
      "source": [
        "topic_name_dict = get_topic_id_lookup_dict(vis, vis_topic_name_dict)"
      ],
      "metadata": {
        "id": "rG9vJyw0z9fO"
      },
      "execution_count": null,
      "outputs": []
    },
    {
      "cell_type": "code",
      "source": [
        "topic_name_dict"
      ],
      "metadata": {
        "colab": {
          "base_uri": "https://localhost:8080/"
        },
        "id": "dAUFa6jG0ENl",
        "outputId": "7e4224f6-cf45-40a9-8745-36b26260d18e"
      },
      "execution_count": null,
      "outputs": [
        {
          "output_type": "execute_result",
          "data": {
            "text/plain": [
              "{0: 'Preservatives',\n",
              " 1: 'Ingredients',\n",
              " 2: 'Quality of product',\n",
              " 3: 'Heavily processed',\n",
              " 4: 'Dessert',\n",
              " 5: 'Branding',\n",
              " 6: 'Older products',\n",
              " 7: 'Packaging',\n",
              " 8: 'Cookies',\n",
              " 9: 'Did/Did not like',\n",
              " 10: 'Crackers',\n",
              " 11: 'Company/Employees'}"
            ]
          },
          "metadata": {},
          "execution_count": 73
        }
      ]
    },
    {
      "cell_type": "code",
      "source": [
        "def get_topic_ids_for_docs(lda_model, corpus):\n",
        "    \n",
        "    \"\"\"\n",
        "    Passes a Bag-of-Words vector into a trained LDA model in order to get the topic id of that document. \n",
        "    \n",
        "    Parameters\n",
        "    ----------\n",
        "    lda_model: Gensim object\n",
        "        Must be a trained model \n",
        "        \n",
        "    corpus: nested lists of tuples, \n",
        "        i.e. [[(),(), ..., ()], [(),(), ..., ()], ..., [(),(), ..., ()]]\n",
        "        \n",
        "    Returns\n",
        "    -------\n",
        "    topic_id_list: list\n",
        "        Contains topic ids for all document vectors in corpus \n",
        "    \"\"\"\n",
        "    \n",
        "    # store topic ids for each document\n",
        "    doc_topic_ids = []\n",
        "\n",
        "    # iterate through bow vectors for each doc\n",
        "    for doc_bow in corpus:\n",
        "        \n",
        "        # store the topic ids for the doc\n",
        "        topic_ids = []\n",
        "        # store the topic probabilities for the doc\n",
        "        topic_probs = []\n",
        "\n",
        "        # list of tuples\n",
        "        # each tuple has a topic id and the prob that the doc belongs to that topic \n",
        "        topic_id_prob_tuples = lda_trained_model.get_document_topics(doc_bow)  # retrieves topics from each bag of words for each lemmas item\n",
        "        \n",
        "        # iterate through topic id/prob pairs \n",
        "        for topic_id_prob in topic_id_prob_tuples:\n",
        "            \n",
        "            # index for topic id\n",
        "            topic_id = topic_id_prob[0]\n",
        "            # index for prob that doc belongs that the corresponding topic\n",
        "            topic_prob = topic_id_prob[1]\n",
        "\n",
        "            # store all topic ids for doc\n",
        "            topic_ids.append(topic_id)\n",
        "            # store all topic probs for doc\n",
        "            topic_probs.append(topic_prob)\n",
        "\n",
        "        # get the index for the topic that had the highest probability, for the current document \n",
        "        max_topic_prob_ind = np.argmax(topic_probs)\n",
        "        # get the corresponding topic id\n",
        "        max_prob_topic_id = topic_ids[max_topic_prob_ind]\n",
        "        # store the most probable topic id for the current document\n",
        "        doc_topic_ids.append(max_prob_topic_id)\n",
        "        \n",
        "    return doc_topic_ids"
      ],
      "metadata": {
        "id": "6g8Cntp41OC_"
      },
      "execution_count": null,
      "outputs": []
    },
    {
      "cell_type": "code",
      "source": [
        "# get the document id for each doc in the corpus\n",
        "topic_id_list = get_topic_ids_for_docs(lda_trained_model, corpus)\n",
        "\n",
        "# create a feature for document's topic id\n",
        "part_2[\"topic_id\"] = topic_id_list"
      ],
      "metadata": {
        "id": "X6cfKXqQ1ymi"
      },
      "execution_count": null,
      "outputs": []
    },
    {
      "cell_type": "code",
      "source": [
        "# assign topic names to rows\n",
        "part_2['topic'] = [topic_name_dict[item] for item in part_2['topic_id']]"
      ],
      "metadata": {
        "id": "vm2a2rX02KkW"
      },
      "execution_count": null,
      "outputs": []
    }
  ]
}